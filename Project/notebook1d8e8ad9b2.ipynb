{
 "cells": [
  {
   "cell_type": "markdown",
   "id": "2abfa7a5",
   "metadata": {
    "papermill": {
     "duration": 0.015754,
     "end_time": "2024-01-27T01:04:47.581451",
     "exception": false,
     "start_time": "2024-01-27T01:04:47.565697",
     "status": "completed"
    },
    "tags": []
   },
   "source": [
    "# P0: Intro"
   ]
  },
  {
   "cell_type": "markdown",
   "id": "8f06ab64",
   "metadata": {
    "papermill": {
     "duration": 0.015814,
     "end_time": "2024-01-27T01:04:47.613622",
     "exception": false,
     "start_time": "2024-01-27T01:04:47.597808",
     "status": "completed"
    },
    "tags": []
   },
   "source": [
    "<center><b>Machine Learning Project</b></center>\n",
    "<br><center><b>Sharif University of Technology - Fall 2023</b></center>"
   ]
  },
  {
   "cell_type": "markdown",
   "id": "7dad1064",
   "metadata": {
    "papermill": {
     "duration": 0.015603,
     "end_time": "2024-01-27T01:04:47.645000",
     "exception": false,
     "start_time": "2024-01-27T01:04:47.629397",
     "status": "completed"
    },
    "tags": []
   },
   "source": [
    "<div style=\"text-align:justify\">Hopefully, the course has been insightful for you till now. This notebook serves as a template for the project which involves training a sentiment analyzer neural network using the comments of a Persian website and fine-tuning it using the comments of another.<br><br>\n",
    "The first website is Snappfood which is used by the people in Iran to order different kinds of food. The latter is Digikala, an online store for Iranians where people buy many things including smartphones, groceries, cars, and whatever you consider legal. Both websites provide users with ways to express their opinions about the products.<br><br>\n",
    "A domain shift may be revealed to some degree when switching from Snappfood comments to the ones extracted from Digikala. This will be one of the challenges you will be faced with. So, beware of it!</div>"
   ]
  },
  {
   "cell_type": "markdown",
   "id": "e3f69c84",
   "metadata": {
    "papermill": {
     "duration": 0.016439,
     "end_time": "2024-01-27T01:04:47.677738",
     "exception": false,
     "start_time": "2024-01-27T01:04:47.661299",
     "status": "completed"
    },
    "tags": []
   },
   "source": [
    "# P1: Exploring the Datasets (25 points)"
   ]
  },
  {
   "cell_type": "markdown",
   "id": "2c11ae91",
   "metadata": {
    "papermill": {
     "duration": 0.01648,
     "end_time": "2024-01-27T01:04:47.711650",
     "exception": false,
     "start_time": "2024-01-27T01:04:47.695170",
     "status": "completed"
    },
    "tags": []
   },
   "source": [
    "Both of the datasets are added to the notebook. In this part, we want to explore their contents. "
   ]
  },
  {
   "cell_type": "markdown",
   "id": "e221d1f5",
   "metadata": {
    "papermill": {
     "duration": 0.016336,
     "end_time": "2024-01-27T01:04:47.744869",
     "exception": false,
     "start_time": "2024-01-27T01:04:47.728533",
     "status": "completed"
    },
    "tags": []
   },
   "source": [
    "Load both of the datasets "
   ]
  },
  {
   "cell_type": "code",
   "execution_count": 1,
   "id": "0589220d",
   "metadata": {
    "execution": {
     "iopub.execute_input": "2024-01-27T01:04:47.779800Z",
     "iopub.status.busy": "2024-01-27T01:04:47.779381Z",
     "iopub.status.idle": "2024-01-27T01:04:49.171548Z",
     "shell.execute_reply": "2024-01-27T01:04:49.170770Z"
    },
    "papermill": {
     "duration": 1.412668,
     "end_time": "2024-01-27T01:04:49.174035",
     "exception": false,
     "start_time": "2024-01-27T01:04:47.761367",
     "status": "completed"
    },
    "tags": []
   },
   "outputs": [
    {
     "name": "stderr",
     "output_type": "stream",
     "text": [
      "/tmp/ipykernel_27/4163174911.py:3: ParserWarning: Falling back to the 'python' engine because the 'c' engine does not support regex separators (separators > 1 char and different from '\\s+' are interpreted as regex); you can avoid this warning by specifying engine='python'.\n",
      "  snappfood_df = pd.read_csv('/kaggle/input/snappfood-persian-sentiment-analysis/Snappfood - Sentiment Analysis.csv' , on_bad_lines='skip' , delimiter='\\t+')\n"
     ]
    }
   ],
   "source": [
    "import pandas as pd\n",
    "digikala_df = pd.read_csv('/kaggle/input/digikala-comments-persian-sentiment-analysis/data.csv')\n",
    "snappfood_df = pd.read_csv('/kaggle/input/snappfood-persian-sentiment-analysis/Snappfood - Sentiment Analysis.csv' , on_bad_lines='skip' , delimiter='\\t+')"
   ]
  },
  {
   "cell_type": "markdown",
   "id": "b482eb47",
   "metadata": {
    "papermill": {
     "duration": 0.015027,
     "end_time": "2024-01-27T01:04:49.204540",
     "exception": false,
     "start_time": "2024-01-27T01:04:49.189513",
     "status": "completed"
    },
    "tags": []
   },
   "source": [
    "Count the number of comments each dataset contains **(P1-1: 5 points)**"
   ]
  },
  {
   "cell_type": "code",
   "execution_count": 2,
   "id": "a61478d2",
   "metadata": {
    "execution": {
     "iopub.execute_input": "2024-01-27T01:04:49.235582Z",
     "iopub.status.busy": "2024-01-27T01:04:49.234783Z",
     "iopub.status.idle": "2024-01-27T01:04:49.239593Z",
     "shell.execute_reply": "2024-01-27T01:04:49.238746Z"
    },
    "papermill": {
     "duration": 0.02254,
     "end_time": "2024-01-27T01:04:49.241945",
     "exception": false,
     "start_time": "2024-01-27T01:04:49.219405",
     "status": "completed"
    },
    "tags": []
   },
   "outputs": [
    {
     "name": "stdout",
     "output_type": "stream",
     "text": [
      "3261 70000\n"
     ]
    }
   ],
   "source": [
    "print(len(digikala_df), len(snappfood_df))"
   ]
  },
  {
   "cell_type": "code",
   "execution_count": 3,
   "id": "b56a9c57",
   "metadata": {
    "execution": {
     "iopub.execute_input": "2024-01-27T01:04:49.271979Z",
     "iopub.status.busy": "2024-01-27T01:04:49.271658Z",
     "iopub.status.idle": "2024-01-27T01:04:49.317925Z",
     "shell.execute_reply": "2024-01-27T01:04:49.316985Z"
    },
    "papermill": {
     "duration": 0.063854,
     "end_time": "2024-01-27T01:04:49.320221",
     "exception": false,
     "start_time": "2024-01-27T01:04:49.256367",
     "status": "completed"
    },
    "tags": []
   },
   "outputs": [
    {
     "name": "stdout",
     "output_type": "stream",
     "text": [
      "<class 'pandas.core.frame.DataFrame'>\n",
      "RangeIndex: 70000 entries, 0 to 69999\n",
      "Data columns (total 3 columns):\n",
      " #   Column    Non-Null Count  Dtype \n",
      "---  ------    --------------  ----- \n",
      " 0   comment   70000 non-null  object\n",
      " 1   label     70000 non-null  object\n",
      " 2   label_id  70000 non-null  int64 \n",
      "dtypes: int64(1), object(2)\n",
      "memory usage: 1.6+ MB\n",
      "<class 'pandas.core.frame.DataFrame'>\n",
      "RangeIndex: 3261 entries, 0 to 3260\n",
      "Data columns (total 3 columns):\n",
      " #   Column      Non-Null Count  Dtype \n",
      "---  ------      --------------  ----- \n",
      " 0   Text        3261 non-null   object\n",
      " 1   Score       3261 non-null   int64 \n",
      " 2   Suggestion  3261 non-null   int64 \n",
      "dtypes: int64(2), object(1)\n",
      "memory usage: 76.6+ KB\n"
     ]
    }
   ],
   "source": [
    "snappfood_df.info()\n",
    "digikala_df.info()"
   ]
  },
  {
   "cell_type": "markdown",
   "id": "586526f9",
   "metadata": {
    "papermill": {
     "duration": 0.054173,
     "end_time": "2024-01-27T01:04:49.389265",
     "exception": false,
     "start_time": "2024-01-27T01:04:49.335092",
     "status": "completed"
    },
    "tags": []
   },
   "source": [
    "Represent the distribution of comments in the Snappfood dataset in terms of being negative or positive **(P1-2: 5 points)**"
   ]
  },
  {
   "cell_type": "code",
   "execution_count": 4,
   "id": "a3c49d3f",
   "metadata": {
    "execution": {
     "iopub.execute_input": "2024-01-27T01:04:49.421217Z",
     "iopub.status.busy": "2024-01-27T01:04:49.420588Z",
     "iopub.status.idle": "2024-01-27T01:04:51.066458Z",
     "shell.execute_reply": "2024-01-27T01:04:51.065614Z"
    },
    "papermill": {
     "duration": 1.664433,
     "end_time": "2024-01-27T01:04:51.068597",
     "exception": false,
     "start_time": "2024-01-27T01:04:49.404164",
     "status": "completed"
    },
    "tags": []
   },
   "outputs": [
    {
     "name": "stderr",
     "output_type": "stream",
     "text": [
      "/opt/conda/lib/python3.10/site-packages/scipy/__init__.py:146: UserWarning: A NumPy version >=1.16.5 and <1.23.0 is required for this version of SciPy (detected version 1.24.3\n",
      "  warnings.warn(f\"A NumPy version >={np_minversion} and <{np_maxversion}\"\n"
     ]
    },
    {
     "data": {
      "image/png": "[encoded data removed]",
      "text/plain": [
       "<Figure size 800x600 with 1 Axes>"
      ]
     },
     "metadata": {},
     "output_type": "display_data"
    }
   ],
   "source": [
    "import matplotlib.pyplot as plt\n",
    "import seaborn as sns\n",
    "sns.set(style=\"darkgrid\")\n",
    "plt.figure(figsize=(8, 6))\n",
    "\n",
    "sns.countplot(x='label', data=snappfood_df, palette=\"Set2\")\n",
    "plt.xlabel('label')\n",
    "plt.ylabel('Count')\n",
    "plt.title('Distribution of Comments in Snappfood Dataset')\n",
    "plt.show()"
   ]
  },
  {
   "cell_type": "markdown",
   "id": "14c48ff7",
   "metadata": {
    "papermill": {
     "duration": 0.01546,
     "end_time": "2024-01-27T01:04:51.099812",
     "exception": false,
     "start_time": "2024-01-27T01:04:51.084352",
     "status": "completed"
    },
    "tags": []
   },
   "source": [
    "Plot the logarithm of the frequency of words as a function of the logarithm of their rank to demonstrate the Zipf's law. <br>\n",
    "Note: Don't panic! The Zipf's law can be found here: https://nlp.stanford.edu/IR-book/html/htmledition/zipfs-law-modeling-the-distribution-of-terms-1.html and can be easily understood. **(P1-3: 5 points)**"
   ]
  },
  {
   "cell_type": "code",
   "execution_count": 5,
   "id": "d9db40fa",
   "metadata": {
    "execution": {
     "iopub.execute_input": "2024-01-27T01:04:51.133432Z",
     "iopub.status.busy": "2024-01-27T01:04:51.133087Z",
     "iopub.status.idle": "2024-01-27T01:05:01.495793Z",
     "shell.execute_reply": "2024-01-27T01:05:01.494888Z"
    },
    "papermill": {
     "duration": 10.382034,
     "end_time": "2024-01-27T01:05:01.498032",
     "exception": false,
     "start_time": "2024-01-27T01:04:51.115998",
     "status": "completed"
    },
    "tags": []
   },
   "outputs": [
    {
     "data": {
      "image/png": "[encoded data removed]",
      "text/plain": [
       "<Figure size 1000x600 with 1 Axes>"
      ]
     },
     "metadata": {},
     "output_type": "display_data"
    }
   ],
   "source": [
    "import pandas as pd\n",
    "import matplotlib.pyplot as plt\n",
    "import nltk\n",
    "from nltk.tokenize import word_tokenize\n",
    "from nltk.probability import FreqDist\n",
    "import numpy as np\n",
    "\n",
    "positive_comments = snappfood_df[snappfood_df['label'] == 'HAPPY']['comment']\n",
    "\n",
    "tokens = [word.lower() for comment in positive_comments for word in word_tokenize(comment)]\n",
    "freq_dist = FreqDist(tokens)\n",
    "word_freq = list(freq_dist.values())\n",
    "word_ranks = list(range(1, len(word_freq) + 1))\n",
    "sorted_indices = np.argsort(word_freq)[::-1]\n",
    "sorted_word_freq = [word_freq[i] for i in sorted_indices]\n",
    "\n",
    "log_word_freq = np.log(sorted_word_freq)\n",
    "log_word_ranks = np.log(word_ranks)\n",
    "\n",
    "plt.figure(figsize=(10, 6))\n",
    "plt.scatter(log_word_ranks, log_word_freq, marker='o', color='blue', label='Word Frequencies')\n",
    "plt.xlabel('Logarithm of Word Rank')\n",
    "plt.ylabel('Logarithm of Word Frequency')\n",
    "plt.title('Zipf\\'s Law Demonstration')\n",
    "plt.legend()\n",
    "plt.show()"
   ]
  },
  {
   "cell_type": "markdown",
   "id": "aa4d768f",
   "metadata": {
    "papermill": {
     "duration": 0.016275,
     "end_time": "2024-01-27T01:05:01.531130",
     "exception": false,
     "start_time": "2024-01-27T01:05:01.514855",
     "status": "completed"
    },
    "tags": []
   },
   "source": [
    "Add a new column to the Digikala dataset indicating whether the comment was positive, negative, or neutral. This will be needed later for classification. <br>\n",
    "Note: This can be done in many ways. You should the appropriate method. **(P1-4: 5 points)**"
   ]
  },
  {
   "cell_type": "code",
   "execution_count": 6,
   "id": "14bc1a19",
   "metadata": {
    "execution": {
     "iopub.execute_input": "2024-01-27T01:05:01.567624Z",
     "iopub.status.busy": "2024-01-27T01:05:01.566918Z",
     "iopub.status.idle": "2024-01-27T01:05:01.933816Z",
     "shell.execute_reply": "2024-01-27T01:05:01.932870Z"
    },
    "papermill": {
     "duration": 0.387632,
     "end_time": "2024-01-27T01:05:01.935921",
     "exception": false,
     "start_time": "2024-01-27T01:05:01.548289",
     "status": "completed"
    },
    "tags": []
   },
   "outputs": [
    {
     "data": {
      "image/png": "[encoded data removed]",
      "text/plain": [
       "<Figure size 1000x600 with 1 Axes>"
      ]
     },
     "metadata": {},
     "output_type": "display_data"
    }
   ],
   "source": [
    "plt.figure(figsize=(10, 6))\n",
    "plt.hist(digikala_df['Score'], bins=10, color='blue', edgecolor='black')\n",
    "plt.xlabel('Column Values')\n",
    "plt.ylabel('Frequency')\n",
    "plt.title('Histogram of Column')\n",
    "plt.grid(axis='y', alpha=0.75)\n",
    "plt.show()"
   ]
  },
  {
   "cell_type": "code",
   "execution_count": 7,
   "id": "28341a6e",
   "metadata": {
    "execution": {
     "iopub.execute_input": "2024-01-27T01:05:01.971094Z",
     "iopub.status.busy": "2024-01-27T01:05:01.970365Z",
     "iopub.status.idle": "2024-01-27T01:05:01.974458Z",
     "shell.execute_reply": "2024-01-27T01:05:01.973602Z"
    },
    "papermill": {
     "duration": 0.024006,
     "end_time": "2024-01-27T01:05:01.976460",
     "exception": false,
     "start_time": "2024-01-27T01:05:01.952454",
     "status": "completed"
    },
    "tags": []
   },
   "outputs": [],
   "source": [
    "#60 and 80 or 82 seems reasonable cuts"
   ]
  },
  {
   "cell_type": "code",
   "execution_count": 8,
   "id": "86de464b",
   "metadata": {
    "execution": {
     "iopub.execute_input": "2024-01-27T01:05:02.010347Z",
     "iopub.status.busy": "2024-01-27T01:05:02.010105Z",
     "iopub.status.idle": "2024-01-27T01:05:02.288607Z",
     "shell.execute_reply": "2024-01-27T01:05:02.287730Z"
    },
    "papermill": {
     "duration": 0.298161,
     "end_time": "2024-01-27T01:05:02.290992",
     "exception": false,
     "start_time": "2024-01-27T01:05:01.992831",
     "status": "completed"
    },
    "tags": []
   },
   "outputs": [
    {
     "data": {
      "image/png": "[encoded data removed]",
      "text/plain": [
       "<Figure size 640x480 with 1 Axes>"
      ]
     },
     "metadata": {},
     "output_type": "display_data"
    }
   ],
   "source": [
    "def score2label(x):\n",
    "    if x > 84:\n",
    "        return 'positive'\n",
    "    elif x >= 60:\n",
    "        return 'neutral'\n",
    "    else:\n",
    "        return 'negative'\n",
    "    \n",
    "digikala_df['label'] = digikala_df['Score'].apply(score2label)\n",
    "digikala_df.head(10)\n",
    "\n",
    "digikala_dist = digikala_df['label'].value_counts()\n",
    "digikala_dist.plot(kind='bar')\n",
    "plt.show()"
   ]
  },
  {
   "cell_type": "markdown",
   "id": "c397da22",
   "metadata": {
    "papermill": {
     "duration": 0.016998,
     "end_time": "2024-01-27T01:05:02.325462",
     "exception": false,
     "start_time": "2024-01-27T01:05:02.308464",
     "status": "completed"
    },
    "tags": []
   },
   "source": [
    "Split each dataset into training, testing, and validation sets. **(P1-5: 5 points)**"
   ]
  },
  {
   "cell_type": "code",
   "execution_count": 9,
   "id": "808db807",
   "metadata": {
    "execution": {
     "iopub.execute_input": "2024-01-27T01:05:02.360589Z",
     "iopub.status.busy": "2024-01-27T01:05:02.360261Z",
     "iopub.status.idle": "2024-01-27T01:05:02.390772Z",
     "shell.execute_reply": "2024-01-27T01:05:02.389786Z"
    },
    "papermill": {
     "duration": 0.050814,
     "end_time": "2024-01-27T01:05:02.392805",
     "exception": false,
     "start_time": "2024-01-27T01:05:02.341991",
     "status": "completed"
    },
    "tags": []
   },
   "outputs": [
    {
     "data": {
      "text/html": [
       "<div>\n",
       "<style scoped>\n",
       "    .dataframe tbody tr th:only-of-type {\n",
       "        vertical-align: middle;\n",
       "    }\n",
       "\n",
       "    .dataframe tbody tr th {\n",
       "        vertical-align: top;\n",
       "    }\n",
       "\n",
       "    .dataframe thead th {\n",
       "        text-align: right;\n",
       "    }\n",
       "</style>\n",
       "<table border=\"1\" class=\"dataframe\">\n",
       "  <thead>\n",
       "    <tr style=\"text-align: right;\">\n",
       "      <th></th>\n",
       "      <th>comment</th>\n",
       "      <th>label</th>\n",
       "      <th>label_id</th>\n",
       "    </tr>\n",
       "  </thead>\n",
       "  <tbody>\n",
       "    <tr>\n",
       "      <th>49935</th>\n",
       "      <td>خیلی بی کیفیت بود</td>\n",
       "      <td>SAD</td>\n",
       "      <td>1</td>\n",
       "    </tr>\n",
       "    <tr>\n",
       "      <th>63854</th>\n",
       "      <td>زود تحویل داده شد و تازگی و کیفیت مناسبی داشت....</td>\n",
       "      <td>HAPPY</td>\n",
       "      <td>0</td>\n",
       "    </tr>\n",
       "    <tr>\n",
       "      <th>2549</th>\n",
       "      <td>به غیر از سوپ بقیه غذاها کیفییت خوبی نداشت مرغ...</td>\n",
       "      <td>SAD</td>\n",
       "      <td>1</td>\n",
       "    </tr>\n",
       "    <tr>\n",
       "      <th>56672</th>\n",
       "      <td>غذایش سرد بود دلیل نارضایتی من این بود.</td>\n",
       "      <td>SAD</td>\n",
       "      <td>1</td>\n",
       "    </tr>\n",
       "    <tr>\n",
       "      <th>26698</th>\n",
       "      <td>تاریخ مصرف ماست تا سه روز دیگست. متاسفانه اولی...</td>\n",
       "      <td>SAD</td>\n",
       "      <td>1</td>\n",
       "    </tr>\n",
       "    <tr>\n",
       "      <th>25803</th>\n",
       "      <td>نون خیلی خشک شده بود</td>\n",
       "      <td>SAD</td>\n",
       "      <td>1</td>\n",
       "    </tr>\n",
       "    <tr>\n",
       "      <th>50452</th>\n",
       "      <td>خیلی خوب بود و بسیار با کیفیت بودن</td>\n",
       "      <td>HAPPY</td>\n",
       "      <td>0</td>\n",
       "    </tr>\n",
       "    <tr>\n",
       "      <th>8879</th>\n",
       "      <td>سنجد بسیار خشک و مونده بود، خیلی بد و غیر قابل...</td>\n",
       "      <td>HAPPY</td>\n",
       "      <td>0</td>\n",
       "    </tr>\n",
       "    <tr>\n",
       "      <th>14514</th>\n",
       "      <td>سر وقت، داغ، خوشمزه؟ موفق باشند</td>\n",
       "      <td>HAPPY</td>\n",
       "      <td>0</td>\n",
       "    </tr>\n",
       "    <tr>\n",
       "      <th>11524</th>\n",
       "      <td>لطفا نان رو در بسته بندی مناسبتر ارسال بفرمایی...</td>\n",
       "      <td>HAPPY</td>\n",
       "      <td>0</td>\n",
       "    </tr>\n",
       "  </tbody>\n",
       "</table>\n",
       "</div>"
      ],
      "text/plain": [
       "                                                 comment  label  label_id\n",
       "49935                                  خیلی بی کیفیت بود    SAD         1\n",
       "63854  زود تحویل داده شد و تازگی و کیفیت مناسبی داشت....  HAPPY         0\n",
       "2549   به غیر از سوپ بقیه غذاها کیفییت خوبی نداشت مرغ...    SAD         1\n",
       "56672            غذایش سرد بود دلیل نارضایتی من این بود.    SAD         1\n",
       "26698  تاریخ مصرف ماست تا سه روز دیگست. متاسفانه اولی...    SAD         1\n",
       "25803                               نون خیلی خشک شده بود    SAD         1\n",
       "50452                 خیلی خوب بود و بسیار با کیفیت بودن  HAPPY         0\n",
       "8879   سنجد بسیار خشک و مونده بود، خیلی بد و غیر قابل...  HAPPY         0\n",
       "14514                    سر وقت، داغ، خوشمزه؟ موفق باشند  HAPPY         0\n",
       "11524  لطفا نان رو در بسته بندی مناسبتر ارسال بفرمایی...  HAPPY         0"
      ]
     },
     "execution_count": 9,
     "metadata": {},
     "output_type": "execute_result"
    }
   ],
   "source": [
    "from sklearn.model_selection import train_test_split\n",
    "\n",
    "test_size = 0.2\n",
    "dig_train, dig_test = train_test_split(digikala_df, test_size=test_size, random_state=42)\n",
    "dig_test, dig_val = train_test_split(dig_test, test_size=0.5, random_state=42)\n",
    "\n",
    "snapp_train, snapp_test = train_test_split(snappfood_df, test_size=test_size, random_state=42)\n",
    "snapp_test, snapp_val = train_test_split(snapp_test, test_size=0.5, random_state=42)\n",
    "snapp_test.head(10)"
   ]
  },
  {
   "cell_type": "markdown",
   "id": "08d0f2e2",
   "metadata": {
    "papermill": {
     "duration": 0.017135,
     "end_time": "2024-01-27T01:05:02.427139",
     "exception": false,
     "start_time": "2024-01-27T01:05:02.410004",
     "status": "completed"
    },
    "tags": []
   },
   "source": [
    "# P2: Preprocessing and Feature Extraction (20 points)"
   ]
  },
  {
   "cell_type": "markdown",
   "id": "59892bcf",
   "metadata": {
    "papermill": {
     "duration": 0.01703,
     "end_time": "2024-01-27T01:05:02.460999",
     "exception": false,
     "start_time": "2024-01-27T01:05:02.443969",
     "status": "completed"
    },
    "tags": []
   },
   "source": [
    "The goal of this part is to make the Snappfood dataset ready for the neural network to be trained with.<br>\n",
    "Note: You can use many libraries including `NLTK`, `Spacy`, `Hazm`, `Parsivar`, `Stanza` etc."
   ]
  },
  {
   "cell_type": "markdown",
   "id": "167c38c1",
   "metadata": {
    "papermill": {
     "duration": 0.016962,
     "end_time": "2024-01-27T01:05:02.495261",
     "exception": false,
     "start_time": "2024-01-27T01:05:02.478299",
     "status": "completed"
    },
    "tags": []
   },
   "source": [
    "Remove the unnecessary characters of the dataset. <br>\n",
    "**(P2-1: 5 points)**"
   ]
  },
  {
   "cell_type": "code",
   "execution_count": 10,
   "id": "674e782c",
   "metadata": {
    "execution": {
     "iopub.execute_input": "2024-01-27T01:05:02.530739Z",
     "iopub.status.busy": "2024-01-27T01:05:02.530399Z",
     "iopub.status.idle": "2024-01-27T01:05:28.207752Z",
     "shell.execute_reply": "2024-01-27T01:05:28.206792Z"
    },
    "papermill": {
     "duration": 25.697993,
     "end_time": "2024-01-27T01:05:28.210266",
     "exception": false,
     "start_time": "2024-01-27T01:05:02.512273",
     "status": "completed"
    },
    "tags": []
   },
   "outputs": [
    {
     "name": "stdout",
     "output_type": "stream",
     "text": [
      "Collecting hazm\r\n",
      "  Obtaining dependency information for hazm from https://files.pythonhosted.org/packages/91/8c/cc3d01c27681eb8223781ea162a23f9926647ce864eb601a19aee4bce0af/hazm-0.10.0-py3-none-any.whl.metadata\r\n",
      "  Downloading hazm-0.10.0-py3-none-any.whl.metadata (11 kB)\r\n",
      "Collecting fasttext-wheel<0.10.0,>=0.9.2 (from hazm)\r\n",
      "  Downloading fasttext_wheel-0.9.2-cp310-cp310-manylinux_2_17_x86_64.manylinux2014_x86_64.whl (4.4 MB)\r\n",
      "\u001b[2K     \u001b[90m━━━━━━━━━━━━━━━━━━━━━━━━━━━━━━━━━━━━━━━━\u001b[0m \u001b[32m4.4/4.4 MB\u001b[0m \u001b[31m17.8 MB/s\u001b[0m eta \u001b[36m0:00:00\u001b[0m\r\n",
      "\u001b[?25hRequirement already satisfied: flashtext<3.0,>=2.7 in /opt/conda/lib/python3.10/site-packages (from hazm) (2.7)\r\n",
      "Requirement already satisfied: gensim<5.0.0,>=4.3.1 in /opt/conda/lib/python3.10/site-packages (from hazm) (4.3.2)\r\n",
      "Collecting nltk<4.0.0,>=3.8.1 (from hazm)\r\n",
      "  Downloading nltk-3.8.1-py3-none-any.whl (1.5 MB)\r\n",
      "\u001b[2K     \u001b[90m━━━━━━━━━━━━━━━━━━━━━━━━━━━━━━━━━━━━━━━━\u001b[0m \u001b[32m1.5/1.5 MB\u001b[0m \u001b[31m62.2 MB/s\u001b[0m eta \u001b[36m0:00:00\u001b[0m\r\n",
      "\u001b[?25hRequirement already satisfied: numpy==1.24.3 in /opt/conda/lib/python3.10/site-packages (from hazm) (1.24.3)\r\n",
      "Collecting python-crfsuite<0.10.0,>=0.9.9 (from hazm)\r\n",
      "  Obtaining dependency information for python-crfsuite<0.10.0,>=0.9.9 from https://files.pythonhosted.org/packages/38/1d/c475ba7d11e9735f00eb08e2f5315aa2e21c24cc85a0474c3fd425edef58/python_crfsuite-0.9.10-cp310-cp310-manylinux_2_17_x86_64.manylinux2014_x86_64.whl.metadata\r\n",
      "  Downloading python_crfsuite-0.9.10-cp310-cp310-manylinux_2_17_x86_64.manylinux2014_x86_64.whl.metadata (4.2 kB)\r\n",
      "Requirement already satisfied: scikit-learn<2.0.0,>=1.2.2 in /opt/conda/lib/python3.10/site-packages (from hazm) (1.2.2)\r\n",
      "Requirement already satisfied: pybind11>=2.2 in /opt/conda/lib/python3.10/site-packages (from fasttext-wheel<0.10.0,>=0.9.2->hazm) (2.11.1)\r\n",
      "Requirement already satisfied: setuptools>=0.7.0 in /opt/conda/lib/python3.10/site-packages (from fasttext-wheel<0.10.0,>=0.9.2->hazm) (68.1.2)\r\n",
      "Requirement already satisfied: scipy>=1.7.0 in /opt/conda/lib/python3.10/site-packages (from gensim<5.0.0,>=4.3.1->hazm) (1.11.4)\r\n",
      "Requirement already satisfied: smart-open>=1.8.1 in /opt/conda/lib/python3.10/site-packages (from gensim<5.0.0,>=4.3.1->hazm) (6.3.0)\r\n",
      "Requirement already satisfied: click in /opt/conda/lib/python3.10/site-packages (from nltk<4.0.0,>=3.8.1->hazm) (8.1.7)\r\n",
      "Requirement already satisfied: joblib in /opt/conda/lib/python3.10/site-packages (from nltk<4.0.0,>=3.8.1->hazm) (1.3.2)\r\n",
      "Requirement already satisfied: regex>=2021.8.3 in /opt/conda/lib/python3.10/site-packages (from nltk<4.0.0,>=3.8.1->hazm) (2023.8.8)\r\n",
      "Requirement already satisfied: tqdm in /opt/conda/lib/python3.10/site-packages (from nltk<4.0.0,>=3.8.1->hazm) (4.66.1)\r\n",
      "Requirement already satisfied: threadpoolctl>=2.0.0 in /opt/conda/lib/python3.10/site-packages (from scikit-learn<2.0.0,>=1.2.2->hazm) (3.2.0)\r\n",
      "Downloading hazm-0.10.0-py3-none-any.whl (892 kB)\r\n",
      "\u001b[2K   \u001b[90m━━━━━━━━━━━━━━━━━━━━━━━━━━━━━━━━━━━━━━━━\u001b[0m \u001b[32m892.6/892.6 kB\u001b[0m \u001b[31m47.8 MB/s\u001b[0m eta \u001b[36m0:00:00\u001b[0m\r\n",
      "\u001b[?25hDownloading python_crfsuite-0.9.10-cp310-cp310-manylinux_2_17_x86_64.manylinux2014_x86_64.whl (1.1 MB)\r\n",
      "\u001b[2K   \u001b[90m━━━━━━━━━━━━━━━━━━━━━━━━━━━━━━━━━━━━━━━━\u001b[0m \u001b[32m1.1/1.1 MB\u001b[0m \u001b[31m59.1 MB/s\u001b[0m eta \u001b[36m0:00:00\u001b[0m\r\n",
      "\u001b[?25hInstalling collected packages: python-crfsuite, nltk, fasttext-wheel, hazm\r\n",
      "  Attempting uninstall: nltk\r\n",
      "    Found existing installation: nltk 3.2.4\r\n",
      "    Uninstalling nltk-3.2.4:\r\n",
      "      Successfully uninstalled nltk-3.2.4\r\n",
      "\u001b[31mERROR: pip's dependency resolver does not currently take into account all the packages that are installed. This behaviour is the source of the following dependency conflicts.\r\n",
      "preprocessing 0.1.13 requires nltk==3.2.4, but you have nltk 3.8.1 which is incompatible.\u001b[0m\u001b[31m\r\n",
      "\u001b[0mSuccessfully installed fasttext-wheel-0.9.2 hazm-0.10.0 nltk-3.8.1 python-crfsuite-0.9.10\r\n"
     ]
    },
    {
     "data": {
      "text/html": [
       "<div>\n",
       "<style scoped>\n",
       "    .dataframe tbody tr th:only-of-type {\n",
       "        vertical-align: middle;\n",
       "    }\n",
       "\n",
       "    .dataframe tbody tr th {\n",
       "        vertical-align: top;\n",
       "    }\n",
       "\n",
       "    .dataframe thead th {\n",
       "        text-align: right;\n",
       "    }\n",
       "</style>\n",
       "<table border=\"1\" class=\"dataframe\">\n",
       "  <thead>\n",
       "    <tr style=\"text-align: right;\">\n",
       "      <th></th>\n",
       "      <th>comment</th>\n",
       "      <th>label</th>\n",
       "      <th>label_id</th>\n",
       "      <th>ccomment</th>\n",
       "    </tr>\n",
       "  </thead>\n",
       "  <tbody>\n",
       "    <tr>\n",
       "      <th>47339</th>\n",
       "      <td>همیشه یا اشتباه میفرستن یا کسری داره اجناس واق...</td>\n",
       "      <td>SAD</td>\n",
       "      <td>1</td>\n",
       "      <td>همیشه یا اشتباه میفرستن یا کسری داره اجناس واق...</td>\n",
       "    </tr>\n",
       "    <tr>\n",
       "      <th>67456</th>\n",
       "      <td>خوبه فقط حجمش کمه.</td>\n",
       "      <td>HAPPY</td>\n",
       "      <td>0</td>\n",
       "      <td>خوبه فقط حجمش کمه</td>\n",
       "    </tr>\n",
       "    <tr>\n",
       "      <th>12308</th>\n",
       "      <td>توی ساندویچ کباب ترکی خیلی غزروف پیدا میشد دست...</td>\n",
       "      <td>SAD</td>\n",
       "      <td>1</td>\n",
       "      <td>توی ساندویچ کباب ترکی خیلی غزروف پیدا میشد دست...</td>\n",
       "    </tr>\n",
       "    <tr>\n",
       "      <th>32557</th>\n",
       "      <td>چیز کیک نبود. کیک شکلاتی بود.</td>\n",
       "      <td>HAPPY</td>\n",
       "      <td>0</td>\n",
       "      <td>چیز کیک نبود کیک شکلاتی بود</td>\n",
       "    </tr>\n",
       "    <tr>\n",
       "      <th>664</th>\n",
       "      <td>فقط میتونم بگم بهترین هستید و امیدوارم بهترین ...</td>\n",
       "      <td>HAPPY</td>\n",
       "      <td>0</td>\n",
       "      <td>فقط میتونم بگم بهترین هستید و امیدوارم بهترین ...</td>\n",
       "    </tr>\n",
       "    <tr>\n",
       "      <th>21003</th>\n",
       "      <td>کیفیت و طعم نون نسبتا خوب بود و ارسال هم سریع ...</td>\n",
       "      <td>HAPPY</td>\n",
       "      <td>0</td>\n",
       "      <td>کیفیت و طعم نون نسبتا خوب بود و ارسال هم سریع ...</td>\n",
       "    </tr>\n",
       "    <tr>\n",
       "      <th>29637</th>\n",
       "      <td>چندین بار پیتزا فیله گریل رو سفارش دادیم و واق...</td>\n",
       "      <td>HAPPY</td>\n",
       "      <td>0</td>\n",
       "      <td>چندین بار پیتزا فیله گریل رو سفارش دادیم و واق...</td>\n",
       "    </tr>\n",
       "    <tr>\n",
       "      <th>57937</th>\n",
       "      <td>با سلام، کیفیت پیتزا خوب بود ولی حجم چیپس و پن...</td>\n",
       "      <td>SAD</td>\n",
       "      <td>1</td>\n",
       "      <td>با سلام کیفیت پیتزا خوب بود ولی حجم چیپس و پنی...</td>\n",
       "    </tr>\n",
       "    <tr>\n",
       "      <th>23680</th>\n",
       "      <td>بی نظیر کیفیت ممتاز قیمت‌ها واقعا عالی بود من ...</td>\n",
       "      <td>HAPPY</td>\n",
       "      <td>0</td>\n",
       "      <td>بی نظیر کیفیت ممتاز قیمتها واقعا عالی بود من ف...</td>\n",
       "    </tr>\n",
       "    <tr>\n",
       "      <th>26306</th>\n",
       "      <td>پیتزا خییلی بد بود و کیفیت پایینی داشت پنیر هم...</td>\n",
       "      <td>SAD</td>\n",
       "      <td>1</td>\n",
       "      <td>پیتزا خییلی بد بود و کیفیت پایینی داشت پنیر هم...</td>\n",
       "    </tr>\n",
       "  </tbody>\n",
       "</table>\n",
       "</div>"
      ],
      "text/plain": [
       "                                                 comment  label  label_id  \\\n",
       "47339  همیشه یا اشتباه میفرستن یا کسری داره اجناس واق...    SAD         1   \n",
       "67456                                 خوبه فقط حجمش کمه.  HAPPY         0   \n",
       "12308  توی ساندویچ کباب ترکی خیلی غزروف پیدا میشد دست...    SAD         1   \n",
       "32557                      چیز کیک نبود. کیک شکلاتی بود.  HAPPY         0   \n",
       "664    فقط میتونم بگم بهترین هستید و امیدوارم بهترین ...  HAPPY         0   \n",
       "21003  کیفیت و طعم نون نسبتا خوب بود و ارسال هم سریع ...  HAPPY         0   \n",
       "29637  چندین بار پیتزا فیله گریل رو سفارش دادیم و واق...  HAPPY         0   \n",
       "57937  با سلام، کیفیت پیتزا خوب بود ولی حجم چیپس و پن...    SAD         1   \n",
       "23680  بی نظیر کیفیت ممتاز قیمت‌ها واقعا عالی بود من ...  HAPPY         0   \n",
       "26306  پیتزا خییلی بد بود و کیفیت پایینی داشت پنیر هم...    SAD         1   \n",
       "\n",
       "                                                ccomment  \n",
       "47339  همیشه یا اشتباه میفرستن یا کسری داره اجناس واق...  \n",
       "67456                                  خوبه فقط حجمش کمه  \n",
       "12308  توی ساندویچ کباب ترکی خیلی غزروف پیدا میشد دست...  \n",
       "32557                        چیز کیک نبود کیک شکلاتی بود  \n",
       "664    فقط میتونم بگم بهترین هستید و امیدوارم بهترین ...  \n",
       "21003  کیفیت و طعم نون نسبتا خوب بود و ارسال هم سریع ...  \n",
       "29637  چندین بار پیتزا فیله گریل رو سفارش دادیم و واق...  \n",
       "57937  با سلام کیفیت پیتزا خوب بود ولی حجم چیپس و پنی...  \n",
       "23680  بی نظیر کیفیت ممتاز قیمتها واقعا عالی بود من ف...  \n",
       "26306  پیتزا خییلی بد بود و کیفیت پایینی داشت پنیر هم...  "
      ]
     },
     "execution_count": 10,
     "metadata": {},
     "output_type": "execute_result"
    }
   ],
   "source": [
    "import re\n",
    "!pip install hazm\n",
    "from hazm import Normalizer, word_tokenize, stopwords_list\n",
    "def replace_re(x):\n",
    "    persian_pattern = re.compile('[^\\sآ-ی]+', re.UNICODE)\n",
    "    return persian_pattern.sub('', x)\n",
    "\n",
    "snapp_train['ccomment'] = snapp_train['comment'].apply(replace_re)\n",
    "snapp_test['ccomment'] = snapp_test['comment'].apply(replace_re)\n",
    "snapp_val['ccomment'] = snapp_val['comment'].apply(replace_re)\n",
    "\n",
    "snapp_train.head(10)"
   ]
  },
  {
   "cell_type": "markdown",
   "id": "2b3c08fb",
   "metadata": {
    "papermill": {
     "duration": 0.019093,
     "end_time": "2024-01-27T01:05:28.251293",
     "exception": false,
     "start_time": "2024-01-27T01:05:28.232200",
     "status": "completed"
    },
    "tags": []
   },
   "source": [
    "Normalize the dataset. <br>\n",
    "Note: Check the result. For instance, if you do this correctly, you'll have a dataset containing just 1 type of space. **(P2-2: 5 points)**"
   ]
  },
  {
   "cell_type": "code",
   "execution_count": 11,
   "id": "79614348",
   "metadata": {
    "execution": {
     "iopub.execute_input": "2024-01-27T01:05:28.292049Z",
     "iopub.status.busy": "2024-01-27T01:05:28.291437Z",
     "iopub.status.idle": "2024-01-27T01:05:57.594793Z",
     "shell.execute_reply": "2024-01-27T01:05:57.593790Z"
    },
    "papermill": {
     "duration": 29.326344,
     "end_time": "2024-01-27T01:05:57.597265",
     "exception": false,
     "start_time": "2024-01-27T01:05:28.270921",
     "status": "completed"
    },
    "tags": []
   },
   "outputs": [
    {
     "data": {
      "text/html": [
       "<div>\n",
       "<style scoped>\n",
       "    .dataframe tbody tr th:only-of-type {\n",
       "        vertical-align: middle;\n",
       "    }\n",
       "\n",
       "    .dataframe tbody tr th {\n",
       "        vertical-align: top;\n",
       "    }\n",
       "\n",
       "    .dataframe thead th {\n",
       "        text-align: right;\n",
       "    }\n",
       "</style>\n",
       "<table border=\"1\" class=\"dataframe\">\n",
       "  <thead>\n",
       "    <tr style=\"text-align: right;\">\n",
       "      <th></th>\n",
       "      <th>comment</th>\n",
       "      <th>label</th>\n",
       "      <th>label_id</th>\n",
       "      <th>ccomment</th>\n",
       "    </tr>\n",
       "  </thead>\n",
       "  <tbody>\n",
       "    <tr>\n",
       "      <th>47339</th>\n",
       "      <td>همیشه یا اشتباه میفرستن یا کسری داره اجناس واق...</td>\n",
       "      <td>SAD</td>\n",
       "      <td>1</td>\n",
       "      <td>همیشه یا اشتباه میفرستن یا کسری داره اجناس واق...</td>\n",
       "    </tr>\n",
       "    <tr>\n",
       "      <th>67456</th>\n",
       "      <td>خوبه فقط حجمش کمه.</td>\n",
       "      <td>HAPPY</td>\n",
       "      <td>0</td>\n",
       "      <td>خوبه فقط حجمش کمه</td>\n",
       "    </tr>\n",
       "    <tr>\n",
       "      <th>12308</th>\n",
       "      <td>توی ساندویچ کباب ترکی خیلی غزروف پیدا میشد دست...</td>\n",
       "      <td>SAD</td>\n",
       "      <td>1</td>\n",
       "      <td>توی ساندویچ کباب ترکی خیلی غزروف پیدا می‌شد دس...</td>\n",
       "    </tr>\n",
       "    <tr>\n",
       "      <th>32557</th>\n",
       "      <td>چیز کیک نبود. کیک شکلاتی بود.</td>\n",
       "      <td>HAPPY</td>\n",
       "      <td>0</td>\n",
       "      <td>چیز کیک نبود کیک شکلاتی بود</td>\n",
       "    </tr>\n",
       "    <tr>\n",
       "      <th>664</th>\n",
       "      <td>فقط میتونم بگم بهترین هستید و امیدوارم بهترین ...</td>\n",
       "      <td>HAPPY</td>\n",
       "      <td>0</td>\n",
       "      <td>فقط میتونم بگم بهترین هستید و امیدوارم بهترین ...</td>\n",
       "    </tr>\n",
       "    <tr>\n",
       "      <th>21003</th>\n",
       "      <td>کیفیت و طعم نون نسبتا خوب بود و ارسال هم سریع ...</td>\n",
       "      <td>HAPPY</td>\n",
       "      <td>0</td>\n",
       "      <td>کیفیت و طعم نون نسبتا خوب بود و ارسال هم سریع ...</td>\n",
       "    </tr>\n",
       "    <tr>\n",
       "      <th>29637</th>\n",
       "      <td>چندین بار پیتزا فیله گریل رو سفارش دادیم و واق...</td>\n",
       "      <td>HAPPY</td>\n",
       "      <td>0</td>\n",
       "      <td>چندین بار پیتزا فیله گریل رو سفارش دادیم و واق...</td>\n",
       "    </tr>\n",
       "    <tr>\n",
       "      <th>57937</th>\n",
       "      <td>با سلام، کیفیت پیتزا خوب بود ولی حجم چیپس و پن...</td>\n",
       "      <td>SAD</td>\n",
       "      <td>1</td>\n",
       "      <td>با سلام کیفیت پیتزا خوب بود ولی حجم چیپس و پنی...</td>\n",
       "    </tr>\n",
       "    <tr>\n",
       "      <th>23680</th>\n",
       "      <td>بی نظیر کیفیت ممتاز قیمت‌ها واقعا عالی بود من ...</td>\n",
       "      <td>HAPPY</td>\n",
       "      <td>0</td>\n",
       "      <td>بی‌نظیر کیفیت ممتاز قیمتها واقعا عالی بود من ف...</td>\n",
       "    </tr>\n",
       "    <tr>\n",
       "      <th>26306</th>\n",
       "      <td>پیتزا خییلی بد بود و کیفیت پایینی داشت پنیر هم...</td>\n",
       "      <td>SAD</td>\n",
       "      <td>1</td>\n",
       "      <td>پیتزا خییلی بد بود و کیفیت پایینی داشت پنیر هم...</td>\n",
       "    </tr>\n",
       "  </tbody>\n",
       "</table>\n",
       "</div>"
      ],
      "text/plain": [
       "                                                 comment  label  label_id  \\\n",
       "47339  همیشه یا اشتباه میفرستن یا کسری داره اجناس واق...    SAD         1   \n",
       "67456                                 خوبه فقط حجمش کمه.  HAPPY         0   \n",
       "12308  توی ساندویچ کباب ترکی خیلی غزروف پیدا میشد دست...    SAD         1   \n",
       "32557                      چیز کیک نبود. کیک شکلاتی بود.  HAPPY         0   \n",
       "664    فقط میتونم بگم بهترین هستید و امیدوارم بهترین ...  HAPPY         0   \n",
       "21003  کیفیت و طعم نون نسبتا خوب بود و ارسال هم سریع ...  HAPPY         0   \n",
       "29637  چندین بار پیتزا فیله گریل رو سفارش دادیم و واق...  HAPPY         0   \n",
       "57937  با سلام، کیفیت پیتزا خوب بود ولی حجم چیپس و پن...    SAD         1   \n",
       "23680  بی نظیر کیفیت ممتاز قیمت‌ها واقعا عالی بود من ...  HAPPY         0   \n",
       "26306  پیتزا خییلی بد بود و کیفیت پایینی داشت پنیر هم...    SAD         1   \n",
       "\n",
       "                                                ccomment  \n",
       "47339  همیشه یا اشتباه میفرستن یا کسری داره اجناس واق...  \n",
       "67456                                  خوبه فقط حجمش کمه  \n",
       "12308  توی ساندویچ کباب ترکی خیلی غزروف پیدا می‌شد دس...  \n",
       "32557                        چیز کیک نبود کیک شکلاتی بود  \n",
       "664    فقط میتونم بگم بهترین هستید و امیدوارم بهترین ...  \n",
       "21003  کیفیت و طعم نون نسبتا خوب بود و ارسال هم سریع ...  \n",
       "29637  چندین بار پیتزا فیله گریل رو سفارش دادیم و واق...  \n",
       "57937  با سلام کیفیت پیتزا خوب بود ولی حجم چیپس و پنی...  \n",
       "23680  بی‌نظیر کیفیت ممتاز قیمتها واقعا عالی بود من ف...  \n",
       "26306  پیتزا خییلی بد بود و کیفیت پایینی داشت پنیر هم...  "
      ]
     },
     "execution_count": 11,
     "metadata": {},
     "output_type": "execute_result"
    }
   ],
   "source": [
    "nrm = Normalizer()\n",
    "snapp_train['ccomment'] = snapp_train['ccomment'].apply(nrm.normalize)\n",
    "snapp_test['ccomment'] = snapp_test['ccomment'].apply(nrm.normalize)\n",
    "snapp_val['ccomment'] = snapp_val['ccomment'].apply(nrm.normalize)\n",
    "snapp_train.head(10)"
   ]
  },
  {
   "cell_type": "markdown",
   "id": "c8acbfe7",
   "metadata": {
    "papermill": {
     "duration": 0.019657,
     "end_time": "2024-01-27T01:05:57.639255",
     "exception": false,
     "start_time": "2024-01-27T01:05:57.619598",
     "status": "completed"
    },
    "tags": []
   },
   "source": [
    "If you want to include other preprocessing steps, put all of your code here."
   ]
  },
  {
   "cell_type": "code",
   "execution_count": 12,
   "id": "7b656e97",
   "metadata": {
    "execution": {
     "iopub.execute_input": "2024-01-27T01:05:57.681101Z",
     "iopub.status.busy": "2024-01-27T01:05:57.680294Z",
     "iopub.status.idle": "2024-01-27T01:05:59.029390Z",
     "shell.execute_reply": "2024-01-27T01:05:59.028644Z"
    },
    "papermill": {
     "duration": 1.372933,
     "end_time": "2024-01-27T01:05:59.031959",
     "exception": false,
     "start_time": "2024-01-27T01:05:57.659026",
     "status": "completed"
    },
    "tags": []
   },
   "outputs": [],
   "source": [
    "from hazm import Normalizer, word_tokenize, Lemmatizer, stopwords_list\n",
    "\n",
    "lemmatizer = Lemmatizer()\n",
    "stop_words = set(stopwords_list())\n",
    "\n",
    "def prep(text, lemmatizer, stop_words):\n",
    "    tokens = word_tokenize(text)\n",
    "    tokens = [token for token in tokens if token not in stop_words]\n",
    "    lemmatized_tokens = [lemmatizer.lemmatize(token) for token in tokens]\n",
    "    return lemmatized_tokens\n"
   ]
  },
  {
   "cell_type": "code",
   "execution_count": 13,
   "id": "bbe890c7",
   "metadata": {
    "execution": {
     "iopub.execute_input": "2024-01-27T01:05:59.073583Z",
     "iopub.status.busy": "2024-01-27T01:05:59.072791Z",
     "iopub.status.idle": "2024-01-27T01:06:03.291433Z",
     "shell.execute_reply": "2024-01-27T01:06:03.290511Z"
    },
    "papermill": {
     "duration": 4.241639,
     "end_time": "2024-01-27T01:06:03.293797",
     "exception": false,
     "start_time": "2024-01-27T01:05:59.052158",
     "status": "completed"
    },
    "tags": []
   },
   "outputs": [
    {
     "data": {
      "text/html": [
       "<div>\n",
       "<style scoped>\n",
       "    .dataframe tbody tr th:only-of-type {\n",
       "        vertical-align: middle;\n",
       "    }\n",
       "\n",
       "    .dataframe tbody tr th {\n",
       "        vertical-align: top;\n",
       "    }\n",
       "\n",
       "    .dataframe thead th {\n",
       "        text-align: right;\n",
       "    }\n",
       "</style>\n",
       "<table border=\"1\" class=\"dataframe\">\n",
       "  <thead>\n",
       "    <tr style=\"text-align: right;\">\n",
       "      <th></th>\n",
       "      <th>comment</th>\n",
       "      <th>label</th>\n",
       "      <th>label_id</th>\n",
       "      <th>ccomment</th>\n",
       "    </tr>\n",
       "  </thead>\n",
       "  <tbody>\n",
       "    <tr>\n",
       "      <th>47339</th>\n",
       "      <td>همیشه یا اشتباه میفرستن یا کسری داره اجناس واق...</td>\n",
       "      <td>SAD</td>\n",
       "      <td>1</td>\n",
       "      <td>[اشتباه, میفرستن, کسری, داره, اجناس, واقعا, چق...</td>\n",
       "    </tr>\n",
       "    <tr>\n",
       "      <th>67456</th>\n",
       "      <td>خوبه فقط حجمش کمه.</td>\n",
       "      <td>HAPPY</td>\n",
       "      <td>0</td>\n",
       "      <td>[خوبه, حجم, کمه]</td>\n",
       "    </tr>\n",
       "    <tr>\n",
       "      <th>12308</th>\n",
       "      <td>توی ساندویچ کباب ترکی خیلی غزروف پیدا میشد دست...</td>\n",
       "      <td>SAD</td>\n",
       "      <td>1</td>\n",
       "      <td>[توی, ساندویچ, کباب, ترکی, غزروف, دست‌کم, فهمی...</td>\n",
       "    </tr>\n",
       "    <tr>\n",
       "      <th>32557</th>\n",
       "      <td>چیز کیک نبود. کیک شکلاتی بود.</td>\n",
       "      <td>HAPPY</td>\n",
       "      <td>0</td>\n",
       "      <td>[کیک, کیک, شکلاتی]</td>\n",
       "    </tr>\n",
       "    <tr>\n",
       "      <th>664</th>\n",
       "      <td>فقط میتونم بگم بهترین هستید و امیدوارم بهترین ...</td>\n",
       "      <td>HAPPY</td>\n",
       "      <td>0</td>\n",
       "      <td>[میتون, بگم, #هست, امیدوارم, موند#مون, ممنون]</td>\n",
       "    </tr>\n",
       "    <tr>\n",
       "      <th>21003</th>\n",
       "      <td>کیفیت و طعم نون نسبتا خوب بود و ارسال هم سریع ...</td>\n",
       "      <td>HAPPY</td>\n",
       "      <td>0</td>\n",
       "      <td>[کیفیت, طعم, نون, نسبتا, ارسال, سریع, مشکل, اک...</td>\n",
       "    </tr>\n",
       "    <tr>\n",
       "      <th>29637</th>\n",
       "      <td>چندین بار پیتزا فیله گریل رو سفارش دادیم و واق...</td>\n",
       "      <td>HAPPY</td>\n",
       "      <td>0</td>\n",
       "      <td>[چندین, پیتزا, فیله, گریل, سفارش, داد#ده, واقع...</td>\n",
       "    </tr>\n",
       "    <tr>\n",
       "      <th>57937</th>\n",
       "      <td>با سلام، کیفیت پیتزا خوب بود ولی حجم چیپس و پن...</td>\n",
       "      <td>SAD</td>\n",
       "      <td>1</td>\n",
       "      <td>[سلام, کیفیت, پیتزا, حجم, چیپس, پنیر, قیمت, وا...</td>\n",
       "    </tr>\n",
       "    <tr>\n",
       "      <th>23680</th>\n",
       "      <td>بی نظیر کیفیت ممتاز قیمت‌ها واقعا عالی بود من ...</td>\n",
       "      <td>HAPPY</td>\n",
       "      <td>0</td>\n",
       "      <td>[بی‌نظیر, کیفیت, ممتاز, قیمت, واقعا, کرد#کن, گ...</td>\n",
       "    </tr>\n",
       "    <tr>\n",
       "      <th>26306</th>\n",
       "      <td>پیتزا خییلی بد بود و کیفیت پایینی داشت پنیر هم...</td>\n",
       "      <td>SAD</td>\n",
       "      <td>1</td>\n",
       "      <td>[پیتزا, خییل, بد, کیفیت, پایینی, پنیر, داشت#دار]</td>\n",
       "    </tr>\n",
       "  </tbody>\n",
       "</table>\n",
       "</div>"
      ],
      "text/plain": [
       "                                                 comment  label  label_id  \\\n",
       "47339  همیشه یا اشتباه میفرستن یا کسری داره اجناس واق...    SAD         1   \n",
       "67456                                 خوبه فقط حجمش کمه.  HAPPY         0   \n",
       "12308  توی ساندویچ کباب ترکی خیلی غزروف پیدا میشد دست...    SAD         1   \n",
       "32557                      چیز کیک نبود. کیک شکلاتی بود.  HAPPY         0   \n",
       "664    فقط میتونم بگم بهترین هستید و امیدوارم بهترین ...  HAPPY         0   \n",
       "21003  کیفیت و طعم نون نسبتا خوب بود و ارسال هم سریع ...  HAPPY         0   \n",
       "29637  چندین بار پیتزا فیله گریل رو سفارش دادیم و واق...  HAPPY         0   \n",
       "57937  با سلام، کیفیت پیتزا خوب بود ولی حجم چیپس و پن...    SAD         1   \n",
       "23680  بی نظیر کیفیت ممتاز قیمت‌ها واقعا عالی بود من ...  HAPPY         0   \n",
       "26306  پیتزا خییلی بد بود و کیفیت پایینی داشت پنیر هم...    SAD         1   \n",
       "\n",
       "                                                ccomment  \n",
       "47339  [اشتباه, میفرستن, کسری, داره, اجناس, واقعا, چق...  \n",
       "67456                                   [خوبه, حجم, کمه]  \n",
       "12308  [توی, ساندویچ, کباب, ترکی, غزروف, دست‌کم, فهمی...  \n",
       "32557                                 [کیک, کیک, شکلاتی]  \n",
       "664        [میتون, بگم, #هست, امیدوارم, موند#مون, ممنون]  \n",
       "21003  [کیفیت, طعم, نون, نسبتا, ارسال, سریع, مشکل, اک...  \n",
       "29637  [چندین, پیتزا, فیله, گریل, سفارش, داد#ده, واقع...  \n",
       "57937  [سلام, کیفیت, پیتزا, حجم, چیپس, پنیر, قیمت, وا...  \n",
       "23680  [بی‌نظیر, کیفیت, ممتاز, قیمت, واقعا, کرد#کن, گ...  \n",
       "26306   [پیتزا, خییل, بد, کیفیت, پایینی, پنیر, داشت#دار]  "
      ]
     },
     "execution_count": 13,
     "metadata": {},
     "output_type": "execute_result"
    }
   ],
   "source": [
    "snapp_train['ccomment'] = snapp_train['ccomment'].apply(prep, lemmatizer=lemmatizer, stop_words=stop_words)\n",
    "snapp_test['ccomment'] = snapp_test['ccomment'].apply(prep, lemmatizer=lemmatizer, stop_words=stop_words)\n",
    "snapp_val['ccomment'] = snapp_val['ccomment'].apply(prep, lemmatizer=lemmatizer, stop_words=stop_words)\n",
    "snapp_train.head(10)"
   ]
  },
  {
   "cell_type": "code",
   "execution_count": 14,
   "id": "e4cf91c9",
   "metadata": {
    "execution": {
     "iopub.execute_input": "2024-01-27T01:06:03.339198Z",
     "iopub.status.busy": "2024-01-27T01:06:03.338835Z",
     "iopub.status.idle": "2024-01-27T01:06:03.422167Z",
     "shell.execute_reply": "2024-01-27T01:06:03.421151Z"
    },
    "papermill": {
     "duration": 0.10729,
     "end_time": "2024-01-27T01:06:03.424537",
     "exception": false,
     "start_time": "2024-01-27T01:06:03.317247",
     "status": "completed"
    },
    "tags": []
   },
   "outputs": [
    {
     "data": {
      "text/html": [
       "<div>\n",
       "<style scoped>\n",
       "    .dataframe tbody tr th:only-of-type {\n",
       "        vertical-align: middle;\n",
       "    }\n",
       "\n",
       "    .dataframe tbody tr th {\n",
       "        vertical-align: top;\n",
       "    }\n",
       "\n",
       "    .dataframe thead th {\n",
       "        text-align: right;\n",
       "    }\n",
       "</style>\n",
       "<table border=\"1\" class=\"dataframe\">\n",
       "  <thead>\n",
       "    <tr style=\"text-align: right;\">\n",
       "      <th></th>\n",
       "      <th>comment</th>\n",
       "      <th>label</th>\n",
       "      <th>label_id</th>\n",
       "      <th>ccomment</th>\n",
       "      <th>jccomment</th>\n",
       "    </tr>\n",
       "  </thead>\n",
       "  <tbody>\n",
       "    <tr>\n",
       "      <th>47339</th>\n",
       "      <td>همیشه یا اشتباه میفرستن یا کسری داره اجناس واق...</td>\n",
       "      <td>SAD</td>\n",
       "      <td>1</td>\n",
       "      <td>[اشتباه, میفرستن, کسری, داره, اجناس, واقعا, چق...</td>\n",
       "      <td>اشتباه میفرستن کسری داره اجناس واقعا چقدر دقتن</td>\n",
       "    </tr>\n",
       "    <tr>\n",
       "      <th>67456</th>\n",
       "      <td>خوبه فقط حجمش کمه.</td>\n",
       "      <td>HAPPY</td>\n",
       "      <td>0</td>\n",
       "      <td>[خوبه, حجم, کمه]</td>\n",
       "      <td>خوبه حجم کمه</td>\n",
       "    </tr>\n",
       "    <tr>\n",
       "      <th>12308</th>\n",
       "      <td>توی ساندویچ کباب ترکی خیلی غزروف پیدا میشد دست...</td>\n",
       "      <td>SAD</td>\n",
       "      <td>1</td>\n",
       "      <td>[توی, ساندویچ, کباب, ترکی, غزروف, دست‌کم, فهمی...</td>\n",
       "      <td>توی ساندویچ کباب ترکی غزروف دست‌کم فهمید#فهم اورد</td>\n",
       "    </tr>\n",
       "    <tr>\n",
       "      <th>32557</th>\n",
       "      <td>چیز کیک نبود. کیک شکلاتی بود.</td>\n",
       "      <td>HAPPY</td>\n",
       "      <td>0</td>\n",
       "      <td>[کیک, کیک, شکلاتی]</td>\n",
       "      <td>کیک کیک شکلاتی</td>\n",
       "    </tr>\n",
       "    <tr>\n",
       "      <th>664</th>\n",
       "      <td>فقط میتونم بگم بهترین هستید و امیدوارم بهترین ...</td>\n",
       "      <td>HAPPY</td>\n",
       "      <td>0</td>\n",
       "      <td>[میتون, بگم, #هست, امیدوارم, موند#مون, ممنون]</td>\n",
       "      <td>میتون بگم #هست امیدوارم موند#مون ممنون</td>\n",
       "    </tr>\n",
       "    <tr>\n",
       "      <th>21003</th>\n",
       "      <td>کیفیت و طعم نون نسبتا خوب بود و ارسال هم سریع ...</td>\n",
       "      <td>HAPPY</td>\n",
       "      <td>0</td>\n",
       "      <td>[کیفیت, طعم, نون, نسبتا, ارسال, سریع, مشکل, اک...</td>\n",
       "      <td>کیفیت طعم نون نسبتا ارسال سریع مشکل اکثر نون د...</td>\n",
       "    </tr>\n",
       "    <tr>\n",
       "      <th>29637</th>\n",
       "      <td>چندین بار پیتزا فیله گریل رو سفارش دادیم و واق...</td>\n",
       "      <td>HAPPY</td>\n",
       "      <td>0</td>\n",
       "      <td>[چندین, پیتزا, فیله, گریل, سفارش, داد#ده, واقع...</td>\n",
       "      <td>چندین پیتزا فیله گریل سفارش داد#ده واقعا سبک ه...</td>\n",
       "    </tr>\n",
       "    <tr>\n",
       "      <th>57937</th>\n",
       "      <td>با سلام، کیفیت پیتزا خوب بود ولی حجم چیپس و پن...</td>\n",
       "      <td>SAD</td>\n",
       "      <td>1</td>\n",
       "      <td>[سلام, کیفیت, پیتزا, حجم, چیپس, پنیر, قیمت, وا...</td>\n",
       "      <td>سلام کیفیت پیتزا حجم چیپس پنیر قیمت واقعا غذا ...</td>\n",
       "    </tr>\n",
       "    <tr>\n",
       "      <th>23680</th>\n",
       "      <td>بی نظیر کیفیت ممتاز قیمت‌ها واقعا عالی بود من ...</td>\n",
       "      <td>HAPPY</td>\n",
       "      <td>0</td>\n",
       "      <td>[بی‌نظیر, کیفیت, ممتاز, قیمت, واقعا, کرد#کن, گ...</td>\n",
       "      <td>بی‌نظیر کیفیت ممتاز قیمت واقعا کرد#کن گرون این...</td>\n",
       "    </tr>\n",
       "    <tr>\n",
       "      <th>26306</th>\n",
       "      <td>پیتزا خییلی بد بود و کیفیت پایینی داشت پنیر هم...</td>\n",
       "      <td>SAD</td>\n",
       "      <td>1</td>\n",
       "      <td>[پیتزا, خییل, بد, کیفیت, پایینی, پنیر, داشت#دار]</td>\n",
       "      <td>پیتزا خییل بد کیفیت پایینی پنیر داشت#دار</td>\n",
       "    </tr>\n",
       "  </tbody>\n",
       "</table>\n",
       "</div>"
      ],
      "text/plain": [
       "                                                 comment  label  label_id  \\\n",
       "47339  همیشه یا اشتباه میفرستن یا کسری داره اجناس واق...    SAD         1   \n",
       "67456                                 خوبه فقط حجمش کمه.  HAPPY         0   \n",
       "12308  توی ساندویچ کباب ترکی خیلی غزروف پیدا میشد دست...    SAD         1   \n",
       "32557                      چیز کیک نبود. کیک شکلاتی بود.  HAPPY         0   \n",
       "664    فقط میتونم بگم بهترین هستید و امیدوارم بهترین ...  HAPPY         0   \n",
       "21003  کیفیت و طعم نون نسبتا خوب بود و ارسال هم سریع ...  HAPPY         0   \n",
       "29637  چندین بار پیتزا فیله گریل رو سفارش دادیم و واق...  HAPPY         0   \n",
       "57937  با سلام، کیفیت پیتزا خوب بود ولی حجم چیپس و پن...    SAD         1   \n",
       "23680  بی نظیر کیفیت ممتاز قیمت‌ها واقعا عالی بود من ...  HAPPY         0   \n",
       "26306  پیتزا خییلی بد بود و کیفیت پایینی داشت پنیر هم...    SAD         1   \n",
       "\n",
       "                                                ccomment  \\\n",
       "47339  [اشتباه, میفرستن, کسری, داره, اجناس, واقعا, چق...   \n",
       "67456                                   [خوبه, حجم, کمه]   \n",
       "12308  [توی, ساندویچ, کباب, ترکی, غزروف, دست‌کم, فهمی...   \n",
       "32557                                 [کیک, کیک, شکلاتی]   \n",
       "664        [میتون, بگم, #هست, امیدوارم, موند#مون, ممنون]   \n",
       "21003  [کیفیت, طعم, نون, نسبتا, ارسال, سریع, مشکل, اک...   \n",
       "29637  [چندین, پیتزا, فیله, گریل, سفارش, داد#ده, واقع...   \n",
       "57937  [سلام, کیفیت, پیتزا, حجم, چیپس, پنیر, قیمت, وا...   \n",
       "23680  [بی‌نظیر, کیفیت, ممتاز, قیمت, واقعا, کرد#کن, گ...   \n",
       "26306   [پیتزا, خییل, بد, کیفیت, پایینی, پنیر, داشت#دار]   \n",
       "\n",
       "                                               jccomment  \n",
       "47339     اشتباه میفرستن کسری داره اجناس واقعا چقدر دقتن  \n",
       "67456                                       خوبه حجم کمه  \n",
       "12308  توی ساندویچ کباب ترکی غزروف دست‌کم فهمید#فهم اورد  \n",
       "32557                                     کیک کیک شکلاتی  \n",
       "664               میتون بگم #هست امیدوارم موند#مون ممنون  \n",
       "21003  کیفیت طعم نون نسبتا ارسال سریع مشکل اکثر نون د...  \n",
       "29637  چندین پیتزا فیله گریل سفارش داد#ده واقعا سبک ه...  \n",
       "57937  سلام کیفیت پیتزا حجم چیپس پنیر قیمت واقعا غذا ...  \n",
       "23680  بی‌نظیر کیفیت ممتاز قیمت واقعا کرد#کن گرون این...  \n",
       "26306           پیتزا خییل بد کیفیت پایینی پنیر داشت#دار  "
      ]
     },
     "execution_count": 14,
     "metadata": {},
     "output_type": "execute_result"
    }
   ],
   "source": [
    "def jt(tokens):\n",
    "    return ' '.join(tokens)\n",
    "snapp_train['jccomment'] = snapp_train['ccomment'].apply(jt)\n",
    "snapp_test['jccomment'] = snapp_test['ccomment'].apply(jt)\n",
    "snapp_val['jccomment'] = snapp_val['ccomment'].apply(jt)\n",
    "snapp_train.head(10)"
   ]
  },
  {
   "cell_type": "markdown",
   "id": "d942b20b",
   "metadata": {
    "papermill": {
     "duration": 0.020868,
     "end_time": "2024-01-27T01:06:03.468126",
     "exception": false,
     "start_time": "2024-01-27T01:06:03.447258",
     "status": "completed"
    },
    "tags": []
   },
   "source": [
    "Extract features from the Snappfood dataset\n",
    "<br> Note: You should use both of the following methods, and compare the results at the end.\n",
    "- Method 1 (Classic): Use `CountVectorizer` or `TF-IDF`.\n",
    "- Method 2 (Modern): Use `Word2Vec`, `FastText`, `GloVe`, `Doc2Vec` or train your own `Embedding` Layer. \n",
    "\n",
    "If you choose to train your own `Embedding`s, you'll just need to specify an ID for each word remaining in your dataset. **(P2-3: 10 points)**"
   ]
  },
  {
   "cell_type": "code",
   "execution_count": 15,
   "id": "653191f1",
   "metadata": {
    "execution": {
     "iopub.execute_input": "2024-01-27T01:06:03.510669Z",
     "iopub.status.busy": "2024-01-27T01:06:03.510322Z",
     "iopub.status.idle": "2024-01-27T01:06:04.836738Z",
     "shell.execute_reply": "2024-01-27T01:06:04.835760Z"
    },
    "papermill": {
     "duration": 1.350119,
     "end_time": "2024-01-27T01:06:04.838865",
     "exception": false,
     "start_time": "2024-01-27T01:06:03.488746",
     "status": "completed"
    },
    "tags": []
   },
   "outputs": [
    {
     "data": {
      "text/plain": [
       "(56000, 300)"
      ]
     },
     "execution_count": 15,
     "metadata": {},
     "output_type": "execute_result"
    }
   ],
   "source": [
    "from sklearn.feature_extraction.text import CountVectorizer, TfidfVectorizer\n",
    "max_features = 300\n",
    "vectorizer = CountVectorizer(max_features = max_features)\n",
    "snapp_cnt_train = vectorizer.fit_transform(snapp_train['jccomment'])\n",
    "snapp_cnt_val = vectorizer.transform(snapp_val['jccomment'])\n",
    "snapp_cnt_test = vectorizer.transform(snapp_test['jccomment'])\n",
    "snapp_cnt_train.toarray().shape"
   ]
  },
  {
   "cell_type": "code",
   "execution_count": 16,
   "id": "755e3a09",
   "metadata": {
    "execution": {
     "iopub.execute_input": "2024-01-27T01:06:04.881657Z",
     "iopub.status.busy": "2024-01-27T01:06:04.881310Z",
     "iopub.status.idle": "2024-01-27T01:06:14.875473Z",
     "shell.execute_reply": "2024-01-27T01:06:14.874680Z"
    },
    "papermill": {
     "duration": 10.018592,
     "end_time": "2024-01-27T01:06:14.877958",
     "exception": false,
     "start_time": "2024-01-27T01:06:04.859366",
     "status": "completed"
    },
    "tags": []
   },
   "outputs": [],
   "source": [
    "from gensim.models import Word2Vec\n",
    "from nltk.tokenize import word_tokenize\n",
    "\n",
    "w2v = Word2Vec(sentences = snapp_train['ccomment'], vector_size = max_features, window=5, min_count=1, workers=4)\n",
    "\n",
    "def gcv(token_list, word_embedding_model):\n",
    "    word_vectors = [word_embedding_model.wv[word] for word in token_list if word in word_embedding_model.wv]\n",
    "    if not word_vectors:\n",
    "        return np.zeros(word_embedding_model.vector_size)\n",
    "    return np.mean(word_vectors, axis=0)\n",
    "\n",
    "snapp_wv_train = np.array([gcv(words, w2v) for words in snapp_train['ccomment']])\n",
    "snapp_wv_val = np.array([gcv(words, w2v) for words in snapp_val['ccomment']])\n",
    "snapp_wv_test = np.array([gcv(words, w2v) for words in snapp_test['ccomment']])"
   ]
  },
  {
   "cell_type": "code",
   "execution_count": 17,
   "id": "8300b23d",
   "metadata": {
    "execution": {
     "iopub.execute_input": "2024-01-27T01:06:14.920770Z",
     "iopub.status.busy": "2024-01-27T01:06:14.920410Z",
     "iopub.status.idle": "2024-01-27T01:06:14.926278Z",
     "shell.execute_reply": "2024-01-27T01:06:14.925401Z"
    },
    "papermill": {
     "duration": 0.029138,
     "end_time": "2024-01-27T01:06:14.928173",
     "exception": false,
     "start_time": "2024-01-27T01:06:14.899035",
     "status": "completed"
    },
    "tags": []
   },
   "outputs": [
    {
     "data": {
      "text/plain": [
       "(56000, 300)"
      ]
     },
     "execution_count": 17,
     "metadata": {},
     "output_type": "execute_result"
    }
   ],
   "source": [
    "snapp_wv_train.shape"
   ]
  },
  {
   "cell_type": "code",
   "execution_count": 18,
   "id": "e244c47d",
   "metadata": {
    "execution": {
     "iopub.execute_input": "2024-01-27T01:06:14.971278Z",
     "iopub.status.busy": "2024-01-27T01:06:14.970421Z",
     "iopub.status.idle": "2024-01-27T01:06:18.940298Z",
     "shell.execute_reply": "2024-01-27T01:06:18.939149Z"
    },
    "papermill": {
     "duration": 3.993853,
     "end_time": "2024-01-27T01:06:18.942603",
     "exception": false,
     "start_time": "2024-01-27T01:06:14.948750",
     "status": "completed"
    },
    "tags": []
   },
   "outputs": [],
   "source": [
    "dig_train['ccomment'] = dig_train['Text'].apply(replace_re)\n",
    "dig_test['ccomment'] = dig_test['Text'].apply(replace_re)\n",
    "dig_val['ccomment'] = dig_val['Text'].apply(replace_re)\n",
    "\n",
    "dig_train['ccomment'] = dig_train['ccomment'].apply(nrm.normalize)\n",
    "dig_test['ccomment'] = dig_test['ccomment'].apply(nrm.normalize)\n",
    "dig_val['ccomment'] = dig_val['ccomment'].apply(nrm.normalize)\n",
    "\n",
    "dig_train['ccomment'] = dig_train['ccomment'].apply(prep, lemmatizer=lemmatizer, stop_words=stop_words)\n",
    "dig_test['ccomment'] = dig_test['ccomment'].apply(prep, lemmatizer=lemmatizer, stop_words=stop_words)\n",
    "dig_val['ccomment'] = dig_val['ccomment'].apply(prep, lemmatizer=lemmatizer, stop_words=stop_words)\n",
    "\n",
    "dig_train['jccomment'] = dig_train['ccomment'].apply(jt)\n",
    "dig_test['jccomment'] = dig_test['ccomment'].apply(jt)\n",
    "dig_val['jccomment'] = dig_val['ccomment'].apply(jt)\n"
   ]
  },
  {
   "cell_type": "code",
   "execution_count": 19,
   "id": "b0ef68d6",
   "metadata": {
    "execution": {
     "iopub.execute_input": "2024-01-27T01:06:18.986424Z",
     "iopub.status.busy": "2024-01-27T01:06:18.986005Z",
     "iopub.status.idle": "2024-01-27T01:06:19.004275Z",
     "shell.execute_reply": "2024-01-27T01:06:19.003381Z"
    },
    "papermill": {
     "duration": 0.042722,
     "end_time": "2024-01-27T01:06:19.006445",
     "exception": false,
     "start_time": "2024-01-27T01:06:18.963723",
     "status": "completed"
    },
    "tags": []
   },
   "outputs": [
    {
     "data": {
      "text/html": [
       "<div>\n",
       "<style scoped>\n",
       "    .dataframe tbody tr th:only-of-type {\n",
       "        vertical-align: middle;\n",
       "    }\n",
       "\n",
       "    .dataframe tbody tr th {\n",
       "        vertical-align: top;\n",
       "    }\n",
       "\n",
       "    .dataframe thead th {\n",
       "        text-align: right;\n",
       "    }\n",
       "</style>\n",
       "<table border=\"1\" class=\"dataframe\">\n",
       "  <thead>\n",
       "    <tr style=\"text-align: right;\">\n",
       "      <th></th>\n",
       "      <th>Text</th>\n",
       "      <th>Score</th>\n",
       "      <th>Suggestion</th>\n",
       "      <th>label</th>\n",
       "      <th>ccomment</th>\n",
       "      <th>jccomment</th>\n",
       "    </tr>\n",
       "  </thead>\n",
       "  <tbody>\n",
       "    <tr>\n",
       "      <th>997</th>\n",
       "      <td>واقعا عالی   بوی خوبی داره   تمیز کنندگی چشم گ...</td>\n",
       "      <td>88</td>\n",
       "      <td>1</td>\n",
       "      <td>positive</td>\n",
       "      <td>[واقعا, بوی, داره, تمیز, کنندگی, چشم, داره, چر...</td>\n",
       "      <td>واقعا بوی داره تمیز کنندگی چشم داره چربی پوست ...</td>\n",
       "    </tr>\n",
       "    <tr>\n",
       "      <th>2952</th>\n",
       "      <td>من از این مته ها استفاده کردم براى سنگ دیوار ح...</td>\n",
       "      <td>88</td>\n",
       "      <td>1</td>\n",
       "      <td>positive</td>\n",
       "      <td>[مته, استفاده, سنگ, دیوار, حرف, نداره, استیل, ...</td>\n",
       "      <td>مته استفاده سنگ دیوار حرف نداره استیل سوراخ میکنه</td>\n",
       "    </tr>\n",
       "    <tr>\n",
       "      <th>3117</th>\n",
       "      <td>این همزن را هفته پیش گرفتم  ساخت اسلوونى است و...</td>\n",
       "      <td>96</td>\n",
       "      <td>1</td>\n",
       "      <td>positive</td>\n",
       "      <td>[همزن, هفته, گرفت#گیر, ساخت, اسلوونی, کیف, ساخ...</td>\n",
       "      <td>همزن هفته گرفت#گیر ساخت اسلوونی کیف ساخت توجه ...</td>\n",
       "    </tr>\n",
       "    <tr>\n",
       "      <th>1451</th>\n",
       "      <td>عالیه  این بهترین چیزی بوده که تا به حال از ای...</td>\n",
       "      <td>60</td>\n",
       "      <td>1</td>\n",
       "      <td>neutral</td>\n",
       "      <td>[عالیه, خرید#خر, واقعا, عالیه, خرید#خر, راض]</td>\n",
       "      <td>عالیه خرید#خر واقعا عالیه خرید#خر راض</td>\n",
       "    </tr>\n",
       "    <tr>\n",
       "      <th>2849</th>\n",
       "      <td>کیفیت خیلی خوب</td>\n",
       "      <td>100</td>\n",
       "      <td>1</td>\n",
       "      <td>positive</td>\n",
       "      <td>[کیفیت]</td>\n",
       "      <td>کیفیت</td>\n",
       "    </tr>\n",
       "    <tr>\n",
       "      <th>...</th>\n",
       "      <td>...</td>\n",
       "      <td>...</td>\n",
       "      <td>...</td>\n",
       "      <td>...</td>\n",
       "      <td>...</td>\n",
       "      <td>...</td>\n",
       "    </tr>\n",
       "    <tr>\n",
       "      <th>1095</th>\n",
       "      <td>کلا مارک میبلین محصولات خوبی داره  اگه اصل باش...</td>\n",
       "      <td>72</td>\n",
       "      <td>1</td>\n",
       "      <td>neutral</td>\n",
       "      <td>[کلا, مارک, میبلین, محصولات, داره, اگه, اصل, ب...</td>\n",
       "      <td>کلا مارک میبلین محصولات داره اگه اصل باشه کرم ...</td>\n",
       "    </tr>\n",
       "    <tr>\n",
       "      <th>1130</th>\n",
       "      <td>درود حدود دو سه ماهی است ازش استفاده میکنم  بر...</td>\n",
       "      <td>84</td>\n",
       "      <td>2</td>\n",
       "      <td>neutral</td>\n",
       "      <td>[درود, ماهی, ازش, استفاده, چاقوی, دم, دستی, آش...</td>\n",
       "      <td>درود ماهی ازش استفاده چاقوی دم دستی آشپزخانه د...</td>\n",
       "    </tr>\n",
       "    <tr>\n",
       "      <th>1294</th>\n",
       "      <td>خوشگله و قیمتش هم از بیرون کمتره و صفحه اش شفا...</td>\n",
       "      <td>92</td>\n",
       "      <td>1</td>\n",
       "      <td>positive</td>\n",
       "      <td>[خوشگله, قیمت, کمتره, صفحه, شفافه, اگه, رنگ, م...</td>\n",
       "      <td>خوشگله قیمت کمتره صفحه شفافه اگه رنگ میز مثلا ...</td>\n",
       "    </tr>\n",
       "    <tr>\n",
       "      <th>860</th>\n",
       "      <td>از تلویزیون راضی هستم ولی اینکه بعد از 6 ماه پ...</td>\n",
       "      <td>88</td>\n",
       "      <td>1</td>\n",
       "      <td>positive</td>\n",
       "      <td>[تلویزیون, راضی, #هست, ماه, پنل, تصویر, نقص, پ...</td>\n",
       "      <td>تلویزیون راضی #هست ماه پنل تصویر نقص پرش تصویر...</td>\n",
       "    </tr>\n",
       "    <tr>\n",
       "      <th>3174</th>\n",
       "      <td>کیفیت دریچه بخار روی در که قابل باز و بسته شدن...</td>\n",
       "      <td>60</td>\n",
       "      <td>2</td>\n",
       "      <td>neutral</td>\n",
       "      <td>[کیفیت, دریچه, بخار, بسته, پایین, طوری, لق, بس...</td>\n",
       "      <td>کیفیت دریچه بخار بسته پایین طوری لق بسته کیفیت...</td>\n",
       "    </tr>\n",
       "  </tbody>\n",
       "</table>\n",
       "<p>2608 rows × 6 columns</p>\n",
       "</div>"
      ],
      "text/plain": [
       "                                                   Text  Score  Suggestion  \\\n",
       "997   واقعا عالی   بوی خوبی داره   تمیز کنندگی چشم گ...     88           1   \n",
       "2952  من از این مته ها استفاده کردم براى سنگ دیوار ح...     88           1   \n",
       "3117  این همزن را هفته پیش گرفتم  ساخت اسلوونى است و...     96           1   \n",
       "1451  عالیه  این بهترین چیزی بوده که تا به حال از ای...     60           1   \n",
       "2849                                   کیفیت خیلی خوب      100           1   \n",
       "...                                                 ...    ...         ...   \n",
       "1095  کلا مارک میبلین محصولات خوبی داره  اگه اصل باش...     72           1   \n",
       "1130  درود حدود دو سه ماهی است ازش استفاده میکنم  بر...     84           2   \n",
       "1294  خوشگله و قیمتش هم از بیرون کمتره و صفحه اش شفا...     92           1   \n",
       "860   از تلویزیون راضی هستم ولی اینکه بعد از 6 ماه پ...     88           1   \n",
       "3174  کیفیت دریچه بخار روی در که قابل باز و بسته شدن...     60           2   \n",
       "\n",
       "         label                                           ccomment  \\\n",
       "997   positive  [واقعا, بوی, داره, تمیز, کنندگی, چشم, داره, چر...   \n",
       "2952  positive  [مته, استفاده, سنگ, دیوار, حرف, نداره, استیل, ...   \n",
       "3117  positive  [همزن, هفته, گرفت#گیر, ساخت, اسلوونی, کیف, ساخ...   \n",
       "1451   neutral       [عالیه, خرید#خر, واقعا, عالیه, خرید#خر, راض]   \n",
       "2849  positive                                            [کیفیت]   \n",
       "...        ...                                                ...   \n",
       "1095   neutral  [کلا, مارک, میبلین, محصولات, داره, اگه, اصل, ب...   \n",
       "1130   neutral  [درود, ماهی, ازش, استفاده, چاقوی, دم, دستی, آش...   \n",
       "1294  positive  [خوشگله, قیمت, کمتره, صفحه, شفافه, اگه, رنگ, م...   \n",
       "860   positive  [تلویزیون, راضی, #هست, ماه, پنل, تصویر, نقص, پ...   \n",
       "3174   neutral  [کیفیت, دریچه, بخار, بسته, پایین, طوری, لق, بس...   \n",
       "\n",
       "                                              jccomment  \n",
       "997   واقعا بوی داره تمیز کنندگی چشم داره چربی پوست ...  \n",
       "2952  مته استفاده سنگ دیوار حرف نداره استیل سوراخ میکنه  \n",
       "3117  همزن هفته گرفت#گیر ساخت اسلوونی کیف ساخت توجه ...  \n",
       "1451              عالیه خرید#خر واقعا عالیه خرید#خر راض  \n",
       "2849                                              کیفیت  \n",
       "...                                                 ...  \n",
       "1095  کلا مارک میبلین محصولات داره اگه اصل باشه کرم ...  \n",
       "1130  درود ماهی ازش استفاده چاقوی دم دستی آشپزخانه د...  \n",
       "1294  خوشگله قیمت کمتره صفحه شفافه اگه رنگ میز مثلا ...  \n",
       "860   تلویزیون راضی #هست ماه پنل تصویر نقص پرش تصویر...  \n",
       "3174  کیفیت دریچه بخار بسته پایین طوری لق بسته کیفیت...  \n",
       "\n",
       "[2608 rows x 6 columns]"
      ]
     },
     "execution_count": 19,
     "metadata": {},
     "output_type": "execute_result"
    }
   ],
   "source": [
    "dig_train"
   ]
  },
  {
   "cell_type": "markdown",
   "id": "1c9b657a",
   "metadata": {
    "papermill": {
     "duration": 0.020047,
     "end_time": "2024-01-27T01:06:19.047584",
     "exception": false,
     "start_time": "2024-01-27T01:06:19.027537",
     "status": "completed"
    },
    "tags": []
   },
   "source": [
    "# P3: Training and Initial Evaluation (20 points)"
   ]
  },
  {
   "cell_type": "markdown",
   "id": "b4a56ca6",
   "metadata": {
    "papermill": {
     "duration": 0.020715,
     "end_time": "2024-01-27T01:06:19.089345",
     "exception": false,
     "start_time": "2024-01-27T01:06:19.068630",
     "status": "completed"
    },
    "tags": []
   },
   "source": [
    "Define an architecture for your neural network. **(P3-1: 5 points)**"
   ]
  },
  {
   "cell_type": "code",
   "execution_count": 20,
   "id": "98af08a5",
   "metadata": {
    "execution": {
     "iopub.execute_input": "2024-01-27T01:06:19.132809Z",
     "iopub.status.busy": "2024-01-27T01:06:19.132428Z",
     "iopub.status.idle": "2024-01-27T01:06:31.514551Z",
     "shell.execute_reply": "2024-01-27T01:06:31.513376Z"
    },
    "papermill": {
     "duration": 12.406921,
     "end_time": "2024-01-27T01:06:31.517124",
     "exception": false,
     "start_time": "2024-01-27T01:06:19.110203",
     "status": "completed"
    },
    "tags": []
   },
   "outputs": [],
   "source": [
    "import tensorflow as tf\n",
    "from tensorflow.keras import layers, models\n",
    "import pandas as pd\n",
    "import numpy as np\n",
    "from sklearn.model_selection import train_test_split\n",
    "from sklearn.preprocessing import LabelEncoder\n",
    "from sklearn.feature_extraction.text import CountVectorizer\n",
    "from tensorflow.keras.models import Sequential\n",
    "from tensorflow.keras.layers import Dense, Embedding, LSTM, Conv1D, MaxPooling1D, Flatten\n",
    "from tensorflow.keras.preprocessing.text import Tokenizer\n",
    "from tensorflow.keras.preprocessing.sequence import pad_sequences\n",
    "from tensorflow.keras.callbacks import EarlyStopping\n",
    "\n",
    "def builder():\n",
    "    model = Sequential()\n",
    "    model.add(LSTM(64, input_shape=(max_features, 1), return_sequences=True))\n",
    "    model.add(Flatten())\n",
    "    model.add(Dense(64, activation='relu'))\n",
    "    model.add(Dense(64, activation='relu')) \n",
    "    model.add(Dense(1, activation='sigmoid'))\n",
    "\n",
    "    model.compile(optimizer='adam', loss='binary_crossentropy', metrics=['accuracy'])\n",
    "    model.summary()\n",
    "    return model\n",
    "\n"
   ]
  },
  {
   "cell_type": "markdown",
   "id": "edc09b5b",
   "metadata": {
    "papermill": {
     "duration": 0.02086,
     "end_time": "2024-01-27T01:06:31.560232",
     "exception": false,
     "start_time": "2024-01-27T01:06:31.539372",
     "status": "completed"
    },
    "tags": []
   },
   "source": [
    "**I increased the last layer width to improve fine tuning the model at the last part.**\n",
    "\n",
    "                      "
   ]
  },
  {
   "cell_type": "code",
   "execution_count": 21,
   "id": "2e77a6dd",
   "metadata": {
    "execution": {
     "iopub.execute_input": "2024-01-27T01:06:31.603114Z",
     "iopub.status.busy": "2024-01-27T01:06:31.602403Z",
     "iopub.status.idle": "2024-01-27T01:06:31.606655Z",
     "shell.execute_reply": "2024-01-27T01:06:31.605815Z"
    },
    "papermill": {
     "duration": 0.027852,
     "end_time": "2024-01-27T01:06:31.608645",
     "exception": false,
     "start_time": "2024-01-27T01:06:31.580793",
     "status": "completed"
    },
    "tags": []
   },
   "outputs": [],
   "source": [
    "# tf.keras.backend.clear_session()"
   ]
  },
  {
   "cell_type": "markdown",
   "id": "8c549b82",
   "metadata": {
    "papermill": {
     "duration": 0.020417,
     "end_time": "2024-01-27T01:06:31.650095",
     "exception": false,
     "start_time": "2024-01-27T01:06:31.629678",
     "status": "completed"
    },
    "tags": []
   },
   "source": [
    "Train the network on the Snappfood dataset, while monitoring its performance on the validation set. **(P3-2: 5 points)**"
   ]
  },
  {
   "cell_type": "code",
   "execution_count": 22,
   "id": "d2d7093a",
   "metadata": {
    "execution": {
     "iopub.execute_input": "2024-01-27T01:06:31.693907Z",
     "iopub.status.busy": "2024-01-27T01:06:31.693548Z",
     "iopub.status.idle": "2024-01-27T01:08:26.354263Z",
     "shell.execute_reply": "2024-01-27T01:08:26.353232Z"
    },
    "papermill": {
     "duration": 114.685707,
     "end_time": "2024-01-27T01:08:26.356808",
     "exception": false,
     "start_time": "2024-01-27T01:06:31.671101",
     "status": "completed"
    },
    "tags": []
   },
   "outputs": [
    {
     "name": "stdout",
     "output_type": "stream",
     "text": [
      "Model: \"sequential\"\n",
      "_________________________________________________________________\n",
      " Layer (type)                Output Shape              Param #   \n",
      "=================================================================\n",
      " lstm (LSTM)                 (None, 300, 64)           16896     \n",
      "                                                                 \n",
      " flatten (Flatten)           (None, 19200)             0         \n",
      "                                                                 \n",
      " dense (Dense)               (None, 64)                1228864   \n",
      "                                                                 \n",
      " dense_1 (Dense)             (None, 64)                4160      \n",
      "                                                                 \n",
      " dense_2 (Dense)             (None, 1)                 65        \n",
      "                                                                 \n",
      "=================================================================\n",
      "Total params: 1249985 (4.77 MB)\n",
      "Trainable params: 1249985 (4.77 MB)\n",
      "Non-trainable params: 0 (0.00 Byte)\n",
      "_________________________________________________________________\n",
      "Epoch 1/20\n",
      "1750/1750 [==============================] - 23s 11ms/step - loss: 0.4485 - accuracy: 0.7878 - val_loss: 0.4362 - val_accuracy: 0.7921\n",
      "Epoch 2/20\n",
      "1750/1750 [==============================] - 18s 10ms/step - loss: 0.4180 - accuracy: 0.8076 - val_loss: 0.4420 - val_accuracy: 0.7961\n",
      "Epoch 3/20\n",
      "1750/1750 [==============================] - 18s 10ms/step - loss: 0.4024 - accuracy: 0.8161 - val_loss: 0.4351 - val_accuracy: 0.8010\n",
      "Epoch 4/20\n",
      "1750/1750 [==============================] - 18s 10ms/step - loss: 0.3863 - accuracy: 0.8248 - val_loss: 0.4362 - val_accuracy: 0.8003\n",
      "Epoch 5/20\n",
      "1750/1750 [==============================] - 18s 10ms/step - loss: 0.3679 - accuracy: 0.8351 - val_loss: 0.4572 - val_accuracy: 0.7900\n",
      "Epoch 6/20\n",
      "1750/1750 [==============================] - 18s 10ms/step - loss: 0.3471 - accuracy: 0.8442 - val_loss: 0.4614 - val_accuracy: 0.7937\n"
     ]
    }
   ],
   "source": [
    "early_stopping = EarlyStopping(monitor='val_loss', patience=3, restore_best_weights=True)\n",
    "model_cnt = builder()\n",
    "history = model_cnt.fit(snapp_cnt_train.toarray(), snapp_train['label_id'],\n",
    "                    epochs=20,\n",
    "                    batch_size=32,\n",
    "                    validation_data=(snapp_cnt_val.toarray(), snapp_val['label_id']),\n",
    "                    callbacks=[early_stopping])\n",
    "\n"
   ]
  },
  {
   "cell_type": "markdown",
   "id": "995347bf",
   "metadata": {
    "papermill": {
     "duration": 0.166622,
     "end_time": "2024-01-27T01:08:26.690686",
     "exception": false,
     "start_time": "2024-01-27T01:08:26.524064",
     "status": "completed"
    },
    "tags": []
   },
   "source": [
    "Evaluate the performance of your network on the Snappfood testing set. **(P3-3: 5 points)**"
   ]
  },
  {
   "cell_type": "code",
   "execution_count": 23,
   "id": "56177fbe",
   "metadata": {
    "execution": {
     "iopub.execute_input": "2024-01-27T01:08:27.021967Z",
     "iopub.status.busy": "2024-01-27T01:08:27.021091Z",
     "iopub.status.idle": "2024-01-27T01:08:28.248769Z",
     "shell.execute_reply": "2024-01-27T01:08:28.247545Z"
    },
    "papermill": {
     "duration": 1.394579,
     "end_time": "2024-01-27T01:08:28.250926",
     "exception": false,
     "start_time": "2024-01-27T01:08:26.856347",
     "status": "completed"
    },
    "tags": []
   },
   "outputs": [
    {
     "name": "stdout",
     "output_type": "stream",
     "text": [
      "219/219 [==============================] - 1s 5ms/step - loss: 0.4250 - accuracy: 0.8066\n",
      "0.4250057637691498 0.8065714240074158\n"
     ]
    }
   ],
   "source": [
    "test_loss, test_accuracy = model_cnt.evaluate(snapp_cnt_test.toarray(), snapp_test['label_id'])\n",
    "print(test_loss, test_accuracy)"
   ]
  },
  {
   "cell_type": "code",
   "execution_count": 24,
   "id": "a997a7b8",
   "metadata": {
    "execution": {
     "iopub.execute_input": "2024-01-27T01:08:28.597614Z",
     "iopub.status.busy": "2024-01-27T01:08:28.597211Z",
     "iopub.status.idle": "2024-01-27T01:11:32.101045Z",
     "shell.execute_reply": "2024-01-27T01:11:32.100126Z"
    },
    "papermill": {
     "duration": 183.67625,
     "end_time": "2024-01-27T01:11:32.103124",
     "exception": false,
     "start_time": "2024-01-27T01:08:28.426874",
     "status": "completed"
    },
    "tags": []
   },
   "outputs": [
    {
     "name": "stdout",
     "output_type": "stream",
     "text": [
      "Model: \"sequential_1\"\n",
      "_________________________________________________________________\n",
      " Layer (type)                Output Shape              Param #   \n",
      "=================================================================\n",
      " lstm_1 (LSTM)               (None, 300, 64)           16896     \n",
      "                                                                 \n",
      " flatten_1 (Flatten)         (None, 19200)             0         \n",
      "                                                                 \n",
      " dense_3 (Dense)             (None, 64)                1228864   \n",
      "                                                                 \n",
      " dense_4 (Dense)             (None, 64)                4160      \n",
      "                                                                 \n",
      " dense_5 (Dense)             (None, 1)                 65        \n",
      "                                                                 \n",
      "=================================================================\n",
      "Total params: 1249985 (4.77 MB)\n",
      "Trainable params: 1249985 (4.77 MB)\n",
      "Non-trainable params: 0 (0.00 Byte)\n",
      "_________________________________________________________________\n",
      "Epoch 1/10\n",
      "1750/1750 [==============================] - 21s 11ms/step - loss: 0.4528 - accuracy: 0.7894 - val_loss: 0.4387 - val_accuracy: 0.7919\n",
      "Epoch 2/10\n",
      "1750/1750 [==============================] - 18s 10ms/step - loss: 0.4354 - accuracy: 0.7984 - val_loss: 0.4365 - val_accuracy: 0.7950\n",
      "Epoch 3/10\n",
      "1750/1750 [==============================] - 18s 10ms/step - loss: 0.4281 - accuracy: 0.8038 - val_loss: 0.4318 - val_accuracy: 0.7980\n",
      "Epoch 4/10\n",
      "1750/1750 [==============================] - 18s 10ms/step - loss: 0.4255 - accuracy: 0.8041 - val_loss: 0.4332 - val_accuracy: 0.7984\n",
      "Epoch 5/10\n",
      "1750/1750 [==============================] - 18s 10ms/step - loss: 0.4205 - accuracy: 0.8054 - val_loss: 0.4303 - val_accuracy: 0.7993\n",
      "Epoch 6/10\n",
      "1750/1750 [==============================] - 18s 10ms/step - loss: 0.4179 - accuracy: 0.8079 - val_loss: 0.4301 - val_accuracy: 0.7947\n",
      "Epoch 7/10\n",
      "1750/1750 [==============================] - 18s 10ms/step - loss: 0.4159 - accuracy: 0.8091 - val_loss: 0.4296 - val_accuracy: 0.7980\n",
      "Epoch 8/10\n",
      "1750/1750 [==============================] - 18s 10ms/step - loss: 0.4124 - accuracy: 0.8102 - val_loss: 0.4278 - val_accuracy: 0.7989\n",
      "Epoch 9/10\n",
      "1750/1750 [==============================] - 18s 10ms/step - loss: 0.4105 - accuracy: 0.8110 - val_loss: 0.4348 - val_accuracy: 0.7923\n",
      "Epoch 10/10\n",
      "1750/1750 [==============================] - 18s 10ms/step - loss: 0.4082 - accuracy: 0.8132 - val_loss: 0.4357 - val_accuracy: 0.7960\n"
     ]
    }
   ],
   "source": [
    "early_stopping = EarlyStopping(monitor='val_loss', patience=3, restore_best_weights=True)\n",
    "model_wv = builder()\n",
    "history = model_wv.fit(snapp_wv_train, snapp_train['label_id'],\n",
    "                    epochs=10,\n",
    "                    batch_size=32,\n",
    "                    validation_data=(snapp_wv_val, snapp_val['label_id']),\n",
    "                    callbacks=[early_stopping])\n",
    "\n"
   ]
  },
  {
   "cell_type": "code",
   "execution_count": 25,
   "id": "fd69e774",
   "metadata": {
    "execution": {
     "iopub.execute_input": "2024-01-27T01:11:32.928319Z",
     "iopub.status.busy": "2024-01-27T01:11:32.927946Z",
     "iopub.status.idle": "2024-01-27T01:11:34.264390Z",
     "shell.execute_reply": "2024-01-27T01:11:34.263234Z"
    },
    "papermill": {
     "duration": 1.747196,
     "end_time": "2024-01-27T01:11:34.266457",
     "exception": false,
     "start_time": "2024-01-27T01:11:32.519261",
     "status": "completed"
    },
    "tags": []
   },
   "outputs": [
    {
     "name": "stdout",
     "output_type": "stream",
     "text": [
      "219/219 [==============================] - 1s 5ms/step - loss: 0.4311 - accuracy: 0.8010\n",
      "0.4310970604419708 0.8009999990463257\n"
     ]
    }
   ],
   "source": [
    "test_loss, test_accuracy = model_wv.evaluate(snapp_wv_test, snapp_test['label_id'])\n",
    "print(test_loss, test_accuracy)"
   ]
  },
  {
   "cell_type": "markdown",
   "id": "2e32c3dc",
   "metadata": {
    "papermill": {
     "duration": 0.470245,
     "end_time": "2024-01-27T01:11:35.155348",
     "exception": false,
     "start_time": "2024-01-27T01:11:34.685103",
     "status": "completed"
    },
    "tags": []
   },
   "source": [
    "Save the weights of the neural network and its architecture seperately in the notebook's output folder (`/kaggle/working/`). **(P3-4: 5 points)**"
   ]
  },
  {
   "cell_type": "code",
   "execution_count": 26,
   "id": "87b465e4",
   "metadata": {
    "execution": {
     "iopub.execute_input": "2024-01-27T01:11:35.977721Z",
     "iopub.status.busy": "2024-01-27T01:11:35.977368Z",
     "iopub.status.idle": "2024-01-27T01:11:35.983313Z",
     "shell.execute_reply": "2024-01-27T01:11:35.982517Z"
    },
    "papermill": {
     "duration": 0.419577,
     "end_time": "2024-01-27T01:11:35.985324",
     "exception": false,
     "start_time": "2024-01-27T01:11:35.565747",
     "status": "completed"
    },
    "tags": []
   },
   "outputs": [],
   "source": [
    "import os\n",
    "import tensorflow as tf\n",
    "\n",
    "def saviour(model, extend):\n",
    "    output_folder = '/kaggle/working/'\n",
    "\n",
    "    # Save model architecture as JSON\n",
    "    model_architecture_path = os.path.join(output_folder, str(extend+'model_architecture.json'))\n",
    "    model_json = model.to_json()\n",
    "    with open(model_architecture_path, 'w') as json_file:\n",
    "        json_file.write(model_json)\n",
    "\n",
    "    # Save model weights\n",
    "    model_weights_path = os.path.join(output_folder, str(extend+'model_weights.h5'))\n",
    "    model.save_weights(model_weights_path)"
   ]
  },
  {
   "cell_type": "code",
   "execution_count": 27,
   "id": "2737d649",
   "metadata": {
    "execution": {
     "iopub.execute_input": "2024-01-27T01:11:36.835570Z",
     "iopub.status.busy": "2024-01-27T01:11:36.835187Z",
     "iopub.status.idle": "2024-01-27T01:11:36.877346Z",
     "shell.execute_reply": "2024-01-27T01:11:36.876394Z"
    },
    "papermill": {
     "duration": 0.464628,
     "end_time": "2024-01-27T01:11:36.879751",
     "exception": false,
     "start_time": "2024-01-27T01:11:36.415123",
     "status": "completed"
    },
    "tags": []
   },
   "outputs": [],
   "source": [
    "saviour(model_cnt, 'cnt_')\n",
    "saviour(model_wv, 'wv_')"
   ]
  },
  {
   "cell_type": "markdown",
   "id": "13f70bfb",
   "metadata": {
    "papermill": {
     "duration": 0.446497,
     "end_time": "2024-01-27T01:11:37.780594",
     "exception": false,
     "start_time": "2024-01-27T01:11:37.334097",
     "status": "completed"
    },
    "tags": []
   },
   "source": [
    "# P4: Fine-tuning and Evaluation (35 points)"
   ]
  },
  {
   "cell_type": "markdown",
   "id": "8d8e28d9",
   "metadata": {
    "papermill": {
     "duration": 0.423316,
     "end_time": "2024-01-27T01:11:38.633654",
     "exception": false,
     "start_time": "2024-01-27T01:11:38.210338",
     "status": "completed"
    },
    "tags": []
   },
   "source": [
    "In this part, we will fine-tune the previously trained network on the comments extracted from Digikala."
   ]
  },
  {
   "cell_type": "markdown",
   "id": "3056dedd",
   "metadata": {
    "papermill": {
     "duration": 0.411443,
     "end_time": "2024-01-27T01:11:39.473374",
     "exception": false,
     "start_time": "2024-01-27T01:11:39.061931",
     "status": "completed"
    },
    "tags": []
   },
   "source": [
    "Load the neural network along with its weights **(P4-1: 5 points)**"
   ]
  },
  {
   "cell_type": "code",
   "execution_count": 28,
   "id": "0028c71a",
   "metadata": {
    "execution": {
     "iopub.execute_input": "2024-01-27T01:11:40.370176Z",
     "iopub.status.busy": "2024-01-27T01:11:40.369808Z",
     "iopub.status.idle": "2024-01-27T01:11:40.675426Z",
     "shell.execute_reply": "2024-01-27T01:11:40.674438Z"
    },
    "papermill": {
     "duration": 0.74558,
     "end_time": "2024-01-27T01:11:40.677790",
     "exception": false,
     "start_time": "2024-01-27T01:11:39.932210",
     "status": "completed"
    },
    "tags": []
   },
   "outputs": [],
   "source": [
    "model_architecture_path = '/kaggle/working/cnt_model_architecture.json'\n",
    "model_weights_path = '/kaggle/working/cnt_model_weights.h5'\n",
    "\n",
    "with open(model_architecture_path, 'r') as json_file:\n",
    "    loaded_model_json = json_file.read()\n",
    "snapp_cnt_model = tf.keras.models.model_from_json(loaded_model_json)\n",
    "\n",
    "snapp_cnt_model.load_weights(model_weights_path)"
   ]
  },
  {
   "cell_type": "markdown",
   "id": "8ea01de5",
   "metadata": {
    "papermill": {
     "duration": 0.418086,
     "end_time": "2024-01-27T01:11:41.506222",
     "exception": false,
     "start_time": "2024-01-27T01:11:41.088136",
     "status": "completed"
    },
    "tags": []
   },
   "source": [
    "Change the architecture of the network (the last layer) to make it appropriate for classifying the sentiment of a comment in one of the previously mentioned three classes: positive, negative, or neutral. **(P4-2: 5 points)**"
   ]
  },
  {
   "cell_type": "code",
   "execution_count": 29,
   "id": "aa494e21",
   "metadata": {
    "execution": {
     "iopub.execute_input": "2024-01-27T01:11:42.378297Z",
     "iopub.status.busy": "2024-01-27T01:11:42.377925Z",
     "iopub.status.idle": "2024-01-27T01:11:42.398729Z",
     "shell.execute_reply": "2024-01-27T01:11:42.397970Z"
    },
    "papermill": {
     "duration": 0.479539,
     "end_time": "2024-01-27T01:11:42.400589",
     "exception": false,
     "start_time": "2024-01-27T01:11:41.921050",
     "status": "completed"
    },
    "tags": []
   },
   "outputs": [],
   "source": [
    "num_classes = 3 \n",
    "snapp_cnt_model.pop()\n",
    "snapp_cnt_model.add(layers.Dense(num_classes, activation='softmax'))"
   ]
  },
  {
   "cell_type": "markdown",
   "id": "f6cd196e",
   "metadata": {
    "papermill": {
     "duration": 0.40616,
     "end_time": "2024-01-27T01:11:43.218099",
     "exception": false,
     "start_time": "2024-01-27T01:11:42.811939",
     "status": "completed"
    },
    "tags": []
   },
   "source": [
    "Extract features from the Digikala dataset.<br>\n",
    "Note: Pay attention to the fact that your features are the same as the ones you extracted from the Snappfood dataset. You just need to use the same method for the new dataset. For instance, if you consider the `CountVectorizer` as your feature extractor, the set of the words for which you'll count the frequency will not change! **(P4-3: 15 points)**"
   ]
  },
  {
   "cell_type": "code",
   "execution_count": 30,
   "id": "9aeac457",
   "metadata": {
    "execution": {
     "iopub.execute_input": "2024-01-27T01:11:44.115046Z",
     "iopub.status.busy": "2024-01-27T01:11:44.114661Z",
     "iopub.status.idle": "2024-01-27T01:11:44.263131Z",
     "shell.execute_reply": "2024-01-27T01:11:44.262169Z"
    },
    "papermill": {
     "duration": 0.615658,
     "end_time": "2024-01-27T01:11:44.265331",
     "exception": false,
     "start_time": "2024-01-27T01:11:43.649673",
     "status": "completed"
    },
    "tags": []
   },
   "outputs": [
    {
     "data": {
      "text/plain": [
       "array([[0, 0, 1],\n",
       "       [0, 0, 1],\n",
       "       [0, 0, 1],\n",
       "       [0, 1, 0],\n",
       "       [0, 1, 0],\n",
       "       [1, 0, 0],\n",
       "       [0, 0, 1],\n",
       "       [0, 1, 0],\n",
       "       [0, 1, 0],\n",
       "       [0, 1, 0],\n",
       "       [0, 0, 1],\n",
       "       [0, 0, 1],\n",
       "       [0, 1, 0],\n",
       "       [1, 0, 0],\n",
       "       [0, 1, 0]])"
      ]
     },
     "execution_count": 30,
     "metadata": {},
     "output_type": "execute_result"
    }
   ],
   "source": [
    "dig_cnt_train = vectorizer.transform(dig_train['jccomment']).toarray()\n",
    "dig_cnt_val = vectorizer.transform(dig_val['jccomment']).toarray()\n",
    "dig_cnt_test = vectorizer.transform(dig_test['jccomment']).toarray()\n",
    "\n",
    "y_dig_train = pd.get_dummies(dig_train['label'], dtype=int).values\n",
    "y_dig_val = pd.get_dummies(dig_val['label'], dtype=int).values\n",
    "y_dig_test = pd.get_dummies(dig_test['label'], dtype=int).values\n",
    "y_dig_train[5:20]"
   ]
  },
  {
   "cell_type": "markdown",
   "id": "70a4d9e2",
   "metadata": {
    "papermill": {
     "duration": 0.47635,
     "end_time": "2024-01-27T01:11:45.185166",
     "exception": false,
     "start_time": "2024-01-27T01:11:44.708816",
     "status": "completed"
    },
    "tags": []
   },
   "source": [
    "Fine-tune the network on the training set associated with the Digikala dataset, while monitoring its performance on the corresponding validation set.<br>\n",
    "Note: The process of fine-tuning should follow one of these methods:\n",
    "- Method 1: Fix the weights for all layers expect the last one.\n",
    "- Method 2: Use a really small learning rate for all layers except the last one.\n",
    "\n",
    "**(P4-4: 5 points)**"
   ]
  },
  {
   "cell_type": "code",
   "execution_count": 31,
   "id": "4b939ffe",
   "metadata": {
    "execution": {
     "iopub.execute_input": "2024-01-27T01:11:46.034356Z",
     "iopub.status.busy": "2024-01-27T01:11:46.033980Z",
     "iopub.status.idle": "2024-01-27T01:11:54.121190Z",
     "shell.execute_reply": "2024-01-27T01:11:54.120129Z"
    },
    "papermill": {
     "duration": 8.513491,
     "end_time": "2024-01-27T01:11:54.123529",
     "exception": false,
     "start_time": "2024-01-27T01:11:45.610038",
     "status": "completed"
    },
    "tags": []
   },
   "outputs": [
    {
     "name": "stdout",
     "output_type": "stream",
     "text": [
      "Epoch 1/10\n",
      "82/82 [==============================] - 4s 19ms/step - loss: 1.0146 - accuracy: 0.4582 - val_loss: 0.9656 - val_accuracy: 0.5046\n",
      "Epoch 2/10\n",
      "82/82 [==============================] - 1s 11ms/step - loss: 0.9221 - accuracy: 0.5291 - val_loss: 0.9617 - val_accuracy: 0.5168\n",
      "Epoch 3/10\n",
      "82/82 [==============================] - 1s 11ms/step - loss: 0.8709 - accuracy: 0.5801 - val_loss: 0.9685 - val_accuracy: 0.5321\n",
      "Epoch 4/10\n",
      "82/82 [==============================] - 1s 11ms/step - loss: 0.7982 - accuracy: 0.6258 - val_loss: 0.9870 - val_accuracy: 0.5321\n",
      "Epoch 5/10\n",
      "82/82 [==============================] - 1s 11ms/step - loss: 0.7138 - accuracy: 0.6794 - val_loss: 1.0204 - val_accuracy: 0.4862\n"
     ]
    }
   ],
   "source": [
    "from tensorflow.keras.optimizers import Adam\n",
    "\n",
    "for l in snapp_cnt_model.layers[:-1]:\n",
    "    l.trainable = True\n",
    "    l.optimizer = Adam(1e-4)\n",
    "    \n",
    "early_stopping = EarlyStopping(monitor='val_loss', patience=3, restore_best_weights=True)\n",
    "snapp_cnt_model.compile(optimizer='adam', loss='categorical_crossentropy', metrics=['accuracy'])\n",
    "history = snapp_cnt_model.fit(dig_cnt_train, y_dig_train,\n",
    "                    epochs=10,\n",
    "                    batch_size=32,\n",
    "                    validation_data=(dig_cnt_val, y_dig_val),\n",
    "                    callbacks=[early_stopping])\n"
   ]
  },
  {
   "cell_type": "markdown",
   "id": "1f048f99",
   "metadata": {
    "papermill": {
     "duration": 0.449844,
     "end_time": "2024-01-27T01:11:54.999074",
     "exception": false,
     "start_time": "2024-01-27T01:11:54.549230",
     "status": "completed"
    },
    "tags": []
   },
   "source": [
    "Evaluate the performance of the neural network on the testing set you have extracted from the Digikala dataset. **(P4-5: 5 points)**"
   ]
  },
  {
   "cell_type": "code",
   "execution_count": 32,
   "id": "e19945ba",
   "metadata": {
    "execution": {
     "iopub.execute_input": "2024-01-27T01:11:55.882617Z",
     "iopub.status.busy": "2024-01-27T01:11:55.881740Z",
     "iopub.status.idle": "2024-01-27T01:11:56.062619Z",
     "shell.execute_reply": "2024-01-27T01:11:56.061531Z"
    },
    "papermill": {
     "duration": 0.647602,
     "end_time": "2024-01-27T01:11:56.064838",
     "exception": false,
     "start_time": "2024-01-27T01:11:55.417236",
     "status": "completed"
    },
    "tags": []
   },
   "outputs": [
    {
     "name": "stdout",
     "output_type": "stream",
     "text": [
      "11/11 [==============================] - 0s 10ms/step - loss: 0.9503 - accuracy: 0.5184\n",
      "0.9503496885299683 0.5184049010276794\n"
     ]
    }
   ],
   "source": [
    "test_loss, test_accuracy = snapp_cnt_model.evaluate(dig_cnt_test, y_dig_test)\n",
    "print(test_loss, test_accuracy)"
   ]
  },
  {
   "cell_type": "code",
   "execution_count": 33,
   "id": "f93b5d77",
   "metadata": {
    "execution": {
     "iopub.execute_input": "2024-01-27T01:11:56.929279Z",
     "iopub.status.busy": "2024-01-27T01:11:56.928835Z",
     "iopub.status.idle": "2024-01-27T01:11:57.231238Z",
     "shell.execute_reply": "2024-01-27T01:11:57.230375Z"
    },
    "papermill": {
     "duration": 0.720491,
     "end_time": "2024-01-27T01:11:57.233458",
     "exception": false,
     "start_time": "2024-01-27T01:11:56.512967",
     "status": "completed"
    },
    "tags": []
   },
   "outputs": [],
   "source": [
    "model_architecture_path = '/kaggle/working/wv_model_architecture.json'\n",
    "model_weights_path = '/kaggle/working/wv_model_weights.h5'\n",
    "\n",
    "with open(model_architecture_path, 'r') as json_file:\n",
    "    loaded_model_json = json_file.read()\n",
    "snapp_wv_model = tf.keras.models.model_from_json(loaded_model_json)\n",
    "\n",
    "snapp_wv_model.load_weights(model_weights_path)\n",
    "\n",
    "num_classes = 3 \n",
    "snapp_wv_model.pop()\n",
    "snapp_wv_model.add(layers.Dense(num_classes, activation='softmax'))"
   ]
  },
  {
   "cell_type": "code",
   "execution_count": 34,
   "id": "a7300061",
   "metadata": {
    "execution": {
     "iopub.execute_input": "2024-01-27T01:11:58.096237Z",
     "iopub.status.busy": "2024-01-27T01:11:58.095851Z",
     "iopub.status.idle": "2024-01-27T01:11:58.577192Z",
     "shell.execute_reply": "2024-01-27T01:11:58.576189Z"
    },
    "papermill": {
     "duration": 0.925343,
     "end_time": "2024-01-27T01:11:58.579660",
     "exception": false,
     "start_time": "2024-01-27T01:11:57.654317",
     "status": "completed"
    },
    "tags": []
   },
   "outputs": [],
   "source": [
    "dig_wv_train = np.array([gcv(words, w2v) for words in dig_train['ccomment']])\n",
    "dig_wv_val = np.array([gcv(words, w2v) for words in dig_val['ccomment']])\n",
    "dig_wv_test = np.array([gcv(words, w2v) for words in dig_test['ccomment']])"
   ]
  },
  {
   "cell_type": "code",
   "execution_count": 35,
   "id": "98b79f42",
   "metadata": {
    "execution": {
     "iopub.execute_input": "2024-01-27T01:11:59.468747Z",
     "iopub.status.busy": "2024-01-27T01:11:59.468353Z",
     "iopub.status.idle": "2024-01-27T01:12:12.148600Z",
     "shell.execute_reply": "2024-01-27T01:12:12.147691Z"
    },
    "papermill": {
     "duration": 13.148719,
     "end_time": "2024-01-27T01:12:12.150828",
     "exception": false,
     "start_time": "2024-01-27T01:11:59.002109",
     "status": "completed"
    },
    "tags": []
   },
   "outputs": [
    {
     "name": "stdout",
     "output_type": "stream",
     "text": [
      "Epoch 1/10\n",
      "82/82 [==============================] - 4s 19ms/step - loss: 1.0107 - accuracy: 0.4778 - val_loss: 0.9930 - val_accuracy: 0.4832\n",
      "Epoch 2/10\n",
      "82/82 [==============================] - 1s 11ms/step - loss: 0.9777 - accuracy: 0.4969 - val_loss: 0.9743 - val_accuracy: 0.5352\n",
      "Epoch 3/10\n",
      "82/82 [==============================] - 1s 11ms/step - loss: 0.9688 - accuracy: 0.4919 - val_loss: 0.9625 - val_accuracy: 0.5291\n",
      "Epoch 4/10\n",
      "82/82 [==============================] - 1s 11ms/step - loss: 0.9623 - accuracy: 0.5031 - val_loss: 0.9651 - val_accuracy: 0.4832\n",
      "Epoch 5/10\n",
      "82/82 [==============================] - 1s 11ms/step - loss: 0.9531 - accuracy: 0.5035 - val_loss: 0.9680 - val_accuracy: 0.4893\n",
      "Epoch 6/10\n",
      "82/82 [==============================] - 1s 11ms/step - loss: 0.9529 - accuracy: 0.5069 - val_loss: 0.9515 - val_accuracy: 0.5260\n",
      "Epoch 7/10\n",
      "82/82 [==============================] - 1s 12ms/step - loss: 0.9389 - accuracy: 0.5096 - val_loss: 0.9530 - val_accuracy: 0.5107\n",
      "Epoch 8/10\n",
      "82/82 [==============================] - 1s 13ms/step - loss: 0.9353 - accuracy: 0.5123 - val_loss: 0.9488 - val_accuracy: 0.5015\n",
      "Epoch 9/10\n",
      "82/82 [==============================] - 1s 11ms/step - loss: 0.9315 - accuracy: 0.5188 - val_loss: 0.9551 - val_accuracy: 0.5107\n",
      "Epoch 10/10\n",
      "82/82 [==============================] - 1s 11ms/step - loss: 0.9272 - accuracy: 0.5265 - val_loss: 0.9647 - val_accuracy: 0.5168\n"
     ]
    }
   ],
   "source": [
    "from tensorflow.keras.optimizers import Adam\n",
    "\n",
    "for l in snapp_cnt_model.layers[:-1]:\n",
    "    l.trainable = True\n",
    "    l.optimizer = Adam(1e-4)\n",
    "    \n",
    "early_stopping = EarlyStopping(monitor='val_loss', patience=3, restore_best_weights=True)\n",
    "snapp_cnt_model.compile(optimizer='adam', loss='categorical_crossentropy', metrics=['accuracy'])\n",
    "history = snapp_cnt_model.fit(dig_wv_train, y_dig_train,\n",
    "                    epochs=10,\n",
    "                    batch_size=32,\n",
    "                    validation_data=(dig_wv_val, y_dig_val),\n",
    "                    callbacks=[early_stopping])\n"
   ]
  },
  {
   "cell_type": "code",
   "execution_count": 36,
   "id": "931d7790",
   "metadata": {
    "execution": {
     "iopub.execute_input": "2024-01-27T01:12:13.035448Z",
     "iopub.status.busy": "2024-01-27T01:12:13.035104Z",
     "iopub.status.idle": "2024-01-27T01:12:13.163895Z",
     "shell.execute_reply": "2024-01-27T01:12:13.162827Z"
    },
    "papermill": {
     "duration": 0.570792,
     "end_time": "2024-01-27T01:12:13.165827",
     "exception": false,
     "start_time": "2024-01-27T01:12:12.595035",
     "status": "completed"
    },
    "tags": []
   },
   "outputs": [
    {
     "name": "stdout",
     "output_type": "stream",
     "text": [
      "11/11 [==============================] - 0s 6ms/step - loss: 0.9848 - accuracy: 0.4785\n",
      "0.9847779870033264 0.47852760553359985\n"
     ]
    }
   ],
   "source": [
    "test_loss, test_accuracy = snapp_cnt_model.evaluate(dig_wv_test, y_dig_test)\n",
    "print(test_loss, test_accuracy)"
   ]
  }
 ],
 "metadata": {
  "kaggle": {
   "accelerator": "nvidiaTeslaT4",
   "dataSources": [
    {
     "datasetId": 435023,
     "sourceId": 826102,
     "sourceType": "datasetVersion"
    },
    {
     "datasetId": 2311034,
     "sourceId": 3889482,
     "sourceType": "datasetVersion"
    }
   ],
   "dockerImageVersionId": 30626,
   "isGpuEnabled": true,
   "isInternetEnabled": true,
   "language": "python",
   "sourceType": "notebook"
  },
  "kernelspec": {
   "display_name": "Python 3",
   "language": "python",
   "name": "python3"
  },
  "language_info": {
   "codemirror_mode": {
    "name": "ipython",
    "version": 3
   },
   "file_extension": ".py",
   "mimetype": "text/x-python",
   "name": "python",
   "nbconvert_exporter": "python",
   "pygments_lexer": "ipython3",
   "version": "3.10.12"
  },
  "papermill": {
   "default_parameters": {},
   "duration": 453.282688,
   "end_time": "2024-01-27T01:12:17.126024",
   "environment_variables": {},
   "exception": null,
   "input_path": "__notebook__.ipynb",
   "output_path": "__notebook__.ipynb",
   "parameters": {},
   "start_time": "2024-01-27T01:04:43.843336",
   "version": "2.4.0"
  }
 },
 "nbformat": 4,
 "nbformat_minor": 5
}

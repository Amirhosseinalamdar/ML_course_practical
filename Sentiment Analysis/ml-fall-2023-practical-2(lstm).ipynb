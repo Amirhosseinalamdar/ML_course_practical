{
 "cells": [
  {
   "cell_type": "markdown",
   "id": "84931c8a",
   "metadata": {
    "id": "UQJOGC-VaYRn",
    "papermill": {
     "duration": 0.01919,
     "end_time": "2023-12-02T19:38:38.032636",
     "exception": false,
     "start_time": "2023-12-02T19:38:38.013446",
     "status": "completed"
    },
    "tags": []
   },
   "source": [
    "# ML - Fall 2023 - Practical - 2\n",
    "## Practical Homework 2 - Naive Bayes\n",
    "\n",
    "Student Number: 400105144\n",
    "\n",
    "Student Name: Amirhossein Alamdar\n",
    "\n",
    "\n",
    "\n"
   ]
  },
  {
   "cell_type": "markdown",
   "id": "a3b9f0a5",
   "metadata": {
    "id": "wyO9QVndoLPQ",
    "papermill": {
     "duration": 0.017458,
     "end_time": "2023-12-02T19:38:38.067939",
     "exception": false,
     "start_time": "2023-12-02T19:38:38.050481",
     "status": "completed"
    },
    "tags": []
   },
   "source": [
    "# Phase 0: Intro"
   ]
  },
  {
   "cell_type": "markdown",
   "id": "2cf09ecb",
   "metadata": {
    "id": "zncm1JE1oSQl",
    "papermill": {
     "duration": 0.018128,
     "end_time": "2023-12-02T19:38:38.104811",
     "exception": false,
     "start_time": "2023-12-02T19:38:38.086683",
     "status": "completed"
    },
    "tags": []
   },
   "source": [
    "**In this assignment, you will develop Naive Bayes models to perform text classification. The dataset contains texts and the feelings correspond to each text. Your goal is to make a model to predict the emotion associated with each given text.**"
   ]
  },
  {
   "cell_type": "markdown",
   "id": "3272d99d",
   "metadata": {
    "id": "0lWioVAHBYFS",
    "papermill": {
     "duration": 0.017746,
     "end_time": "2023-12-02T19:38:38.140251",
     "exception": false,
     "start_time": "2023-12-02T19:38:38.122505",
     "status": "completed"
    },
    "tags": []
   },
   "source": [
    "Importing necessary libraries"
   ]
  },
  {
   "cell_type": "code",
   "execution_count": 1,
   "id": "85e9bca7",
   "metadata": {
    "execution": {
     "iopub.execute_input": "2023-12-02T19:38:38.178613Z",
     "iopub.status.busy": "2023-12-02T19:38:38.177768Z",
     "iopub.status.idle": "2023-12-02T19:38:47.922990Z",
     "shell.execute_reply": "2023-12-02T19:38:47.922071Z"
    },
    "id": "bcBZwjpJBU30",
    "papermill": {
     "duration": 9.766991,
     "end_time": "2023-12-02T19:38:47.925322",
     "exception": false,
     "start_time": "2023-12-02T19:38:38.158331",
     "status": "completed"
    },
    "tags": []
   },
   "outputs": [
    {
     "name": "stderr",
     "output_type": "stream",
     "text": [
      "/opt/conda/lib/python3.10/site-packages/scipy/__init__.py:146: UserWarning: A NumPy version >=1.16.5 and <1.23.0 is required for this version of SciPy (detected version 1.24.3\n",
      "  warnings.warn(f\"A NumPy version >={np_minversion} and <{np_maxversion}\"\n"
     ]
    }
   ],
   "source": [
    "import nltk\n",
    "import pandas\n",
    "import sklearn\n",
    "import string\n",
    "import spacy\n",
    "import re\n",
    "import numpy as np\n",
    "import pandas as pd\n",
    "from matplotlib import pyplot as plt\n",
    "from nltk.stem import WordNetLemmatizer\n",
    "from nltk.tokenize import word_tokenize\n",
    "from nltk.corpus import stopwords\n",
    "from sklearn.model_selection import train_test_split\n",
    "from sklearn.naive_bayes import MultinomialNB\n",
    "from sklearn.metrics import accuracy_score\n",
    "from sklearn.metrics import confusion_matrix\n",
    "from sklearn.metrics import classification_report\n",
    "from collections import defaultdict"
   ]
  },
  {
   "cell_type": "code",
   "execution_count": 2,
   "id": "63181b7c",
   "metadata": {
    "execution": {
     "iopub.execute_input": "2023-12-02T19:38:47.963775Z",
     "iopub.status.busy": "2023-12-02T19:38:47.963226Z",
     "iopub.status.idle": "2023-12-02T19:39:01.222884Z",
     "shell.execute_reply": "2023-12-02T19:39:01.221663Z"
    },
    "id": "USv0nt0Vsec_",
    "outputId": "f7f34f32-344b-49a0-e128-7b51444d3c36",
    "papermill": {
     "duration": 13.281291,
     "end_time": "2023-12-02T19:39:01.225270",
     "exception": false,
     "start_time": "2023-12-02T19:38:47.943979",
     "status": "completed"
    },
    "tags": []
   },
   "outputs": [
    {
     "name": "stdout",
     "output_type": "stream",
     "text": [
      "Requirement already satisfied: nltk in /opt/conda/lib/python3.10/site-packages (3.2.4)\r\n",
      "Requirement already satisfied: six in /opt/conda/lib/python3.10/site-packages (from nltk) (1.16.0)\r\n"
     ]
    }
   ],
   "source": [
    "!pip install nltk"
   ]
  },
  {
   "cell_type": "code",
   "execution_count": 3,
   "id": "c2415023",
   "metadata": {
    "execution": {
     "iopub.execute_input": "2023-12-02T19:39:01.265462Z",
     "iopub.status.busy": "2023-12-02T19:39:01.264569Z",
     "iopub.status.idle": "2023-12-02T19:39:02.883472Z",
     "shell.execute_reply": "2023-12-02T19:39:02.882617Z"
    },
    "id": "h0ullxNxsid5",
    "outputId": "af9ccb9a-e6cb-4f7f-94f5-bf217c900c05",
    "papermill": {
     "duration": 1.641701,
     "end_time": "2023-12-02T19:39:02.886184",
     "exception": false,
     "start_time": "2023-12-02T19:39:01.244483",
     "status": "completed"
    },
    "tags": []
   },
   "outputs": [
    {
     "name": "stdout",
     "output_type": "stream",
     "text": [
      "[nltk_data] Downloading package punkt to /usr/share/nltk_data...\n",
      "[nltk_data]   Package punkt is already up-to-date!\n",
      "[nltk_data] Downloading package stopwords to /usr/share/nltk_data...\n",
      "[nltk_data]   Package stopwords is already up-to-date!\n"
     ]
    }
   ],
   "source": [
    "import nltk\n",
    "nltk.download('punkt')\n",
    "nltk.download('stopwords')\n",
    "nlp = spacy.load(\"en_core_web_sm\")"
   ]
  },
  {
   "cell_type": "code",
   "execution_count": 4,
   "id": "754300cf",
   "metadata": {
    "execution": {
     "iopub.execute_input": "2023-12-02T19:39:02.969335Z",
     "iopub.status.busy": "2023-12-02T19:39:02.968977Z",
     "iopub.status.idle": "2023-12-02T19:39:02.973099Z",
     "shell.execute_reply": "2023-12-02T19:39:02.972289Z"
    },
    "id": "_syr-zPSirCE",
    "outputId": "a063c1b0-1f63-48e5-e060-a0513899be9e",
    "papermill": {
     "duration": 0.026754,
     "end_time": "2023-12-02T19:39:02.975045",
     "exception": false,
     "start_time": "2023-12-02T19:39:02.948291",
     "status": "completed"
    },
    "tags": []
   },
   "outputs": [],
   "source": [
    "# !wget -O /kaggle/working/dataset.csv https://www.dropbox.com/scl/fi/vezn3809mk6br6jb2xari/ML-P2-DataSet.csv?rlkey=yweu1fhtvisqhxm78s4ofpxed&dl=1"
   ]
  },
  {
   "cell_type": "markdown",
   "id": "540cc4a3",
   "metadata": {
    "id": "RIIiFseLa3lF",
    "papermill": {
     "duration": 0.018848,
     "end_time": "2023-12-02T19:39:03.013382",
     "exception": false,
     "start_time": "2023-12-02T19:39:02.994534",
     "status": "completed"
    },
    "tags": []
   },
   "source": [
    "# Phase 1: Explore"
   ]
  },
  {
   "cell_type": "markdown",
   "id": "4116e4fe",
   "metadata": {
    "id": "ZhxTfOB5peCj",
    "papermill": {
     "duration": 0.019093,
     "end_time": "2023-12-02T19:39:03.051064",
     "exception": false,
     "start_time": "2023-12-02T19:39:03.031971",
     "status": "completed"
    },
    "tags": []
   },
   "source": [
    "## Sec 1: Load and Explore the given dataset **(P1-Sec1: 10 Points)**"
   ]
  },
  {
   "cell_type": "markdown",
   "id": "757c61cc",
   "metadata": {
    "id": "Usio0HXKof-5",
    "papermill": {
     "duration": 0.018805,
     "end_time": "2023-12-02T19:39:03.089683",
     "exception": false,
     "start_time": "2023-12-02T19:39:03.070878",
     "status": "completed"
    },
    "tags": []
   },
   "source": [
    "Load the dataset. Look at the head of dataset. How many rows are there in the dataset? **(P1-1-1: 2 points)**\n",
    "\n",
    "\n"
   ]
  },
  {
   "cell_type": "code",
   "execution_count": 5,
   "id": "8d85920e",
   "metadata": {
    "execution": {
     "iopub.execute_input": "2023-12-02T19:39:03.129446Z",
     "iopub.status.busy": "2023-12-02T19:39:03.128687Z",
     "iopub.status.idle": "2023-12-02T19:39:03.190457Z",
     "shell.execute_reply": "2023-12-02T19:39:03.189451Z"
    },
    "id": "V8RdrWrkkgQj",
    "papermill": {
     "duration": 0.084231,
     "end_time": "2023-12-02T19:39:03.192701",
     "exception": false,
     "start_time": "2023-12-02T19:39:03.108470",
     "status": "completed"
    },
    "tags": []
   },
   "outputs": [
    {
     "data": {
      "text/html": [
       "<div>\n",
       "<style scoped>\n",
       "    .dataframe tbody tr th:only-of-type {\n",
       "        vertical-align: middle;\n",
       "    }\n",
       "\n",
       "    .dataframe tbody tr th {\n",
       "        vertical-align: top;\n",
       "    }\n",
       "\n",
       "    .dataframe thead th {\n",
       "        text-align: right;\n",
       "    }\n",
       "</style>\n",
       "<table border=\"1\" class=\"dataframe\">\n",
       "  <thead>\n",
       "    <tr style=\"text-align: right;\">\n",
       "      <th></th>\n",
       "      <th>Text</th>\n",
       "      <th>Feeling</th>\n",
       "    </tr>\n",
       "  </thead>\n",
       "  <tbody>\n",
       "    <tr>\n",
       "      <th>0</th>\n",
       "      <td>i seriously hate one subject to death but now ...</td>\n",
       "      <td>fear</td>\n",
       "    </tr>\n",
       "    <tr>\n",
       "      <th>1</th>\n",
       "      <td>im so full of life i feel appalled</td>\n",
       "      <td>anger</td>\n",
       "    </tr>\n",
       "    <tr>\n",
       "      <th>2</th>\n",
       "      <td>i sit here to write i start to dig out my feel...</td>\n",
       "      <td>fear</td>\n",
       "    </tr>\n",
       "    <tr>\n",
       "      <th>3</th>\n",
       "      <td>ive been really angry with r and i feel like a...</td>\n",
       "      <td>joy</td>\n",
       "    </tr>\n",
       "    <tr>\n",
       "      <th>4</th>\n",
       "      <td>i feel suspicious if there is no one outside l...</td>\n",
       "      <td>fear</td>\n",
       "    </tr>\n",
       "  </tbody>\n",
       "</table>\n",
       "</div>"
      ],
      "text/plain": [
       "                                                Text Feeling\n",
       "0  i seriously hate one subject to death but now ...    fear\n",
       "1                 im so full of life i feel appalled   anger\n",
       "2  i sit here to write i start to dig out my feel...    fear\n",
       "3  ive been really angry with r and i feel like a...     joy\n",
       "4  i feel suspicious if there is no one outside l...    fear"
      ]
     },
     "execution_count": 5,
     "metadata": {},
     "output_type": "execute_result"
    }
   ],
   "source": [
    "df = pd.read_csv('/kaggle/input/dataset/ML-P2-DataSet.csv')\n",
    "df.head()"
   ]
  },
  {
   "cell_type": "markdown",
   "id": "844bfcff",
   "metadata": {
    "id": "w0rYcT-wqFpt",
    "papermill": {
     "duration": 0.01841,
     "end_time": "2023-12-02T19:39:03.231396",
     "exception": false,
     "start_time": "2023-12-02T19:39:03.212986",
     "status": "completed"
    },
    "tags": []
   },
   "source": [
    "Handle missing values **(P1-1-2: 2 pints)**"
   ]
  },
  {
   "cell_type": "code",
   "execution_count": 6,
   "id": "d9dd1a57",
   "metadata": {
    "execution": {
     "iopub.execute_input": "2023-12-02T19:39:03.270331Z",
     "iopub.status.busy": "2023-12-02T19:39:03.270016Z",
     "iopub.status.idle": "2023-12-02T19:39:03.278019Z",
     "shell.execute_reply": "2023-12-02T19:39:03.277151Z"
    },
    "id": "qjfsDc35qMQn",
    "papermill": {
     "duration": 0.029792,
     "end_time": "2023-12-02T19:39:03.279948",
     "exception": false,
     "start_time": "2023-12-02T19:39:03.250156",
     "status": "completed"
    },
    "tags": []
   },
   "outputs": [
    {
     "data": {
      "text/plain": [
       "5937"
      ]
     },
     "execution_count": 6,
     "metadata": {},
     "output_type": "execute_result"
    }
   ],
   "source": [
    "df = df.dropna()\n",
    "len(df)"
   ]
  },
  {
   "cell_type": "markdown",
   "id": "2fa8bd58",
   "metadata": {
    "id": "Cbr-RfEypELP",
    "papermill": {
     "duration": 0.019335,
     "end_time": "2023-12-02T19:39:03.319048",
     "exception": false,
     "start_time": "2023-12-02T19:39:03.299713",
     "status": "completed"
    },
    "tags": []
   },
   "source": [
    "Identify the unique feeling values and for each of them, print their count in the dataset. **(P1-1-3: 2 points)**"
   ]
  },
  {
   "cell_type": "code",
   "execution_count": 7,
   "id": "2ff69991",
   "metadata": {
    "execution": {
     "iopub.execute_input": "2023-12-02T19:39:03.359551Z",
     "iopub.status.busy": "2023-12-02T19:39:03.359196Z",
     "iopub.status.idle": "2023-12-02T19:39:03.375667Z",
     "shell.execute_reply": "2023-12-02T19:39:03.374799Z"
    },
    "id": "1QTBJmjxqA8c",
    "papermill": {
     "duration": 0.038847,
     "end_time": "2023-12-02T19:39:03.377502",
     "exception": false,
     "start_time": "2023-12-02T19:39:03.338655",
     "status": "completed"
    },
    "tags": []
   },
   "outputs": [
    {
     "data": {
      "text/plain": [
       "Feeling\n",
       "anger    2000\n",
       "fear     1937\n",
       "joy      2000\n",
       "Name: Feeling, dtype: int64"
      ]
     },
     "execution_count": 7,
     "metadata": {},
     "output_type": "execute_result"
    }
   ],
   "source": [
    "df2 = df.groupby(['Feeling'])['Feeling'].count()\n",
    "df2"
   ]
  },
  {
   "cell_type": "markdown",
   "id": "825d8752",
   "metadata": {
    "id": "-Kq0AdFvrFIw",
    "papermill": {
     "duration": 0.018708,
     "end_time": "2023-12-02T19:39:03.415096",
     "exception": false,
     "start_time": "2023-12-02T19:39:03.396388",
     "status": "completed"
    },
    "tags": []
   },
   "source": [
    "Plot a pie chart to display the occurance frequency of each genre that you found in the prevoius part. **(P1-1-4: 2 points)**"
   ]
  },
  {
   "cell_type": "code",
   "execution_count": 8,
   "id": "801df4f9",
   "metadata": {
    "execution": {
     "iopub.execute_input": "2023-12-02T19:39:03.454726Z",
     "iopub.status.busy": "2023-12-02T19:39:03.454145Z",
     "iopub.status.idle": "2023-12-02T19:39:03.638200Z",
     "shell.execute_reply": "2023-12-02T19:39:03.636930Z"
    },
    "id": "eAWSp6sUrgjC",
    "papermill": {
     "duration": 0.208247,
     "end_time": "2023-12-02T19:39:03.642104",
     "exception": false,
     "start_time": "2023-12-02T19:39:03.433857",
     "status": "completed"
    },
    "tags": []
   },
   "outputs": [
    {
     "data": {
      "image/png": "[encoded data removed]",
      "text/plain": [
       "<Figure size 400x400 with 1 Axes>"
      ]
     },
     "metadata": {},
     "output_type": "display_data"
    }
   ],
   "source": [
    "plot = df2.plot.pie(figsize=(4, 4), autopct='%1.1f%%')\n"
   ]
  },
  {
   "cell_type": "markdown",
   "id": "d8359cfa",
   "metadata": {
    "id": "HcR5_JeIrg6I",
    "papermill": {
     "duration": 0.032637,
     "end_time": "2023-12-02T19:39:03.723960",
     "exception": false,
     "start_time": "2023-12-02T19:39:03.691323",
     "status": "completed"
    },
    "tags": []
   },
   "source": [
    "Find the mean, max and min values of the length (in chars) of the Text Column. **(P1-1-5: 2 points)**\n"
   ]
  },
  {
   "cell_type": "code",
   "execution_count": 9,
   "id": "3bbb179e",
   "metadata": {
    "execution": {
     "iopub.execute_input": "2023-12-02T19:39:03.765912Z",
     "iopub.status.busy": "2023-12-02T19:39:03.765304Z",
     "iopub.status.idle": "2023-12-02T19:39:03.783434Z",
     "shell.execute_reply": "2023-12-02T19:39:03.782515Z"
    },
    "id": "ROoIdpPj8Y0H",
    "papermill": {
     "duration": 0.041114,
     "end_time": "2023-12-02T19:39:03.786055",
     "exception": false,
     "start_time": "2023-12-02T19:39:03.744941",
     "status": "completed"
    },
    "tags": []
   },
   "outputs": [
    {
     "name": "stdout",
     "output_type": "stream",
     "text": [
      "avg len: 97.42597271349166\n",
      "min len: 9\n",
      "max len: 298\n"
     ]
    }
   ],
   "source": [
    "avg = df['Text'].str.len().mean()\n",
    "min_len = df['Text'].str.len().min()\n",
    "max_len = df['Text'].str.len().max()\n",
    "print('avg len:', avg)\n",
    "print('min len:', min_len)\n",
    "print('max len:', max_len)"
   ]
  },
  {
   "cell_type": "markdown",
   "id": "f5a26efd",
   "metadata": {
    "id": "qwRicPs98nN9",
    "papermill": {
     "duration": 0.020928,
     "end_time": "2023-12-02T19:39:03.830413",
     "exception": false,
     "start_time": "2023-12-02T19:39:03.809485",
     "status": "completed"
    },
    "tags": []
   },
   "source": [
    "# Phase 2: Preprocessing"
   ]
  },
  {
   "cell_type": "markdown",
   "id": "b6afc40c",
   "metadata": {
    "id": "tzkvX5IewOco",
    "papermill": {
     "duration": 0.020671,
     "end_time": "2023-12-02T19:39:03.871838",
     "exception": false,
     "start_time": "2023-12-02T19:39:03.851167",
     "status": "completed"
    },
    "tags": []
   },
   "source": [
    "## Sec 1: Preprocess the data **(P2-Sec1: 20 Points)**"
   ]
  },
  {
   "cell_type": "code",
   "execution_count": 10,
   "id": "1cbfafc2",
   "metadata": {
    "execution": {
     "iopub.execute_input": "2023-12-02T19:39:03.914068Z",
     "iopub.status.busy": "2023-12-02T19:39:03.913746Z",
     "iopub.status.idle": "2023-12-02T19:39:03.921630Z",
     "shell.execute_reply": "2023-12-02T19:39:03.920691Z"
    },
    "id": "t3YP4gNwkL6r",
    "papermill": {
     "duration": 0.031211,
     "end_time": "2023-12-02T19:39:03.923626",
     "exception": false,
     "start_time": "2023-12-02T19:39:03.892415",
     "status": "completed"
    },
    "tags": []
   },
   "outputs": [],
   "source": [
    "from string import punctuation\n",
    "class Preprocessor:\n",
    "    def __init__(self):\n",
    "        self.stop_words = set(stopwords.words('english'))\n",
    "    def preprocess(self, text):\n",
    "        # TO DO\n",
    "        pass\n",
    "\n",
    "    def remove_links_and_tags(self, text):\n",
    "        # TO DO\n",
    "        pass\n",
    "\n",
    "    def word_tokenize(self, text):\n",
    "        return word_tokenize(text.lower())\n",
    "\n",
    "    def remove_stopwords(self, words):\n",
    "        tokens = word_tokenize(words.lower())\n",
    "        return ' '.join([t for t in tokens if t not in self.stop_words])\n",
    "\n",
    "    def remove_punctuations(self, words):\n",
    "        return words.translate(str.maketrans('', '', punctuation))\n",
    "    \n",
    "    def remove_numbers(self, txt):\n",
    "        return re.sub(r'[0-9]+', '', txt)\n",
    "    \n",
    "    def normalize(self, words):\n",
    "        # TO DO\n",
    "        pass"
   ]
  },
  {
   "cell_type": "markdown",
   "id": "ce61ab2c",
   "metadata": {
    "id": "nMOXi03Y8s_9",
    "papermill": {
     "duration": 0.01938,
     "end_time": "2023-12-02T19:39:03.963596",
     "exception": false,
     "start_time": "2023-12-02T19:39:03.944216",
     "status": "completed"
    },
    "tags": []
   },
   "source": [
    "Inspect the dataset for any empty cells or duplicate rows, and if they are present, remove the corresponding rows from the dataset. **(P2-1-1: 5 points)**"
   ]
  },
  {
   "cell_type": "code",
   "execution_count": 11,
   "id": "ad22fa9d",
   "metadata": {
    "execution": {
     "iopub.execute_input": "2023-12-02T19:39:04.004366Z",
     "iopub.status.busy": "2023-12-02T19:39:04.004025Z",
     "iopub.status.idle": "2023-12-02T19:39:04.022742Z",
     "shell.execute_reply": "2023-12-02T19:39:04.021696Z"
    },
    "id": "co0umvGj2mpn",
    "papermill": {
     "duration": 0.041713,
     "end_time": "2023-12-02T19:39:04.024909",
     "exception": false,
     "start_time": "2023-12-02T19:39:03.983196",
     "status": "completed"
    },
    "tags": []
   },
   "outputs": [
    {
     "name": "stdout",
     "output_type": "stream",
     "text": [
      "(5937, 2)\n"
     ]
    },
    {
     "data": {
      "text/html": [
       "<div>\n",
       "<style scoped>\n",
       "    .dataframe tbody tr th:only-of-type {\n",
       "        vertical-align: middle;\n",
       "    }\n",
       "\n",
       "    .dataframe tbody tr th {\n",
       "        vertical-align: top;\n",
       "    }\n",
       "\n",
       "    .dataframe thead th {\n",
       "        text-align: right;\n",
       "    }\n",
       "</style>\n",
       "<table border=\"1\" class=\"dataframe\">\n",
       "  <thead>\n",
       "    <tr style=\"text-align: right;\">\n",
       "      <th></th>\n",
       "      <th>Text</th>\n",
       "      <th>Feeling</th>\n",
       "    </tr>\n",
       "  </thead>\n",
       "  <tbody>\n",
       "    <tr>\n",
       "      <th>0</th>\n",
       "      <td>i seriously hate one subject to death but now ...</td>\n",
       "      <td>fear</td>\n",
       "    </tr>\n",
       "    <tr>\n",
       "      <th>1</th>\n",
       "      <td>im so full of life i feel appalled</td>\n",
       "      <td>anger</td>\n",
       "    </tr>\n",
       "    <tr>\n",
       "      <th>2</th>\n",
       "      <td>i sit here to write i start to dig out my feel...</td>\n",
       "      <td>fear</td>\n",
       "    </tr>\n",
       "    <tr>\n",
       "      <th>3</th>\n",
       "      <td>ive been really angry with r and i feel like a...</td>\n",
       "      <td>joy</td>\n",
       "    </tr>\n",
       "    <tr>\n",
       "      <th>4</th>\n",
       "      <td>i feel suspicious if there is no one outside l...</td>\n",
       "      <td>fear</td>\n",
       "    </tr>\n",
       "    <tr>\n",
       "      <th>...</th>\n",
       "      <td>...</td>\n",
       "      <td>...</td>\n",
       "    </tr>\n",
       "    <tr>\n",
       "      <th>5932</th>\n",
       "      <td>i begun to feel distressed for you</td>\n",
       "      <td>fear</td>\n",
       "    </tr>\n",
       "    <tr>\n",
       "      <th>5933</th>\n",
       "      <td>i left feeling annoyed and angry thinking that...</td>\n",
       "      <td>anger</td>\n",
       "    </tr>\n",
       "    <tr>\n",
       "      <th>5934</th>\n",
       "      <td>i were to ever get married i d have everything...</td>\n",
       "      <td>joy</td>\n",
       "    </tr>\n",
       "    <tr>\n",
       "      <th>5935</th>\n",
       "      <td>i feel reluctant in applying there because i w...</td>\n",
       "      <td>fear</td>\n",
       "    </tr>\n",
       "    <tr>\n",
       "      <th>5936</th>\n",
       "      <td>i just wanted to apologize to you because i fe...</td>\n",
       "      <td>anger</td>\n",
       "    </tr>\n",
       "  </tbody>\n",
       "</table>\n",
       "<p>5937 rows × 2 columns</p>\n",
       "</div>"
      ],
      "text/plain": [
       "                                                   Text Feeling\n",
       "0     i seriously hate one subject to death but now ...    fear\n",
       "1                    im so full of life i feel appalled   anger\n",
       "2     i sit here to write i start to dig out my feel...    fear\n",
       "3     ive been really angry with r and i feel like a...     joy\n",
       "4     i feel suspicious if there is no one outside l...    fear\n",
       "...                                                 ...     ...\n",
       "5932                 i begun to feel distressed for you    fear\n",
       "5933  i left feeling annoyed and angry thinking that...   anger\n",
       "5934  i were to ever get married i d have everything...     joy\n",
       "5935  i feel reluctant in applying there because i w...    fear\n",
       "5936  i just wanted to apologize to you because i fe...   anger\n",
       "\n",
       "[5937 rows x 2 columns]"
      ]
     },
     "execution_count": 11,
     "metadata": {},
     "output_type": "execute_result"
    }
   ],
   "source": [
    "# df[df.isna().any(axis=1)]\n",
    "\n",
    "df = df.drop_duplicates()\n",
    "df = df.dropna()\n",
    "print(df.shape)\n",
    "df"
   ]
  },
  {
   "cell_type": "markdown",
   "id": "c2a67876",
   "metadata": {
    "id": "LHR4w6dB9dVt",
    "papermill": {
     "duration": 0.019967,
     "end_time": "2023-12-02T19:39:04.066574",
     "exception": false,
     "start_time": "2023-12-02T19:39:04.046607",
     "status": "completed"
    },
    "tags": []
   },
   "source": [
    "Clean the Texts by removing the special characters and punctations. **(P2-1-2: 5 points)**"
   ]
  },
  {
   "cell_type": "code",
   "execution_count": 12,
   "id": "903be68a",
   "metadata": {
    "execution": {
     "iopub.execute_input": "2023-12-02T19:39:04.107961Z",
     "iopub.status.busy": "2023-12-02T19:39:04.107263Z",
     "iopub.status.idle": "2023-12-02T19:39:04.144311Z",
     "shell.execute_reply": "2023-12-02T19:39:04.143351Z"
    },
    "papermill": {
     "duration": 0.060128,
     "end_time": "2023-12-02T19:39:04.146478",
     "exception": false,
     "start_time": "2023-12-02T19:39:04.086350",
     "status": "completed"
    },
    "tags": []
   },
   "outputs": [
    {
     "data": {
      "text/html": [
       "<div>\n",
       "<style scoped>\n",
       "    .dataframe tbody tr th:only-of-type {\n",
       "        vertical-align: middle;\n",
       "    }\n",
       "\n",
       "    .dataframe tbody tr th {\n",
       "        vertical-align: top;\n",
       "    }\n",
       "\n",
       "    .dataframe thead th {\n",
       "        text-align: right;\n",
       "    }\n",
       "</style>\n",
       "<table border=\"1\" class=\"dataframe\">\n",
       "  <thead>\n",
       "    <tr style=\"text-align: right;\">\n",
       "      <th></th>\n",
       "      <th>Text</th>\n",
       "      <th>Feeling</th>\n",
       "    </tr>\n",
       "  </thead>\n",
       "  <tbody>\n",
       "    <tr>\n",
       "      <th>0</th>\n",
       "      <td>i seriously hate one subject to death but now ...</td>\n",
       "      <td>fear</td>\n",
       "    </tr>\n",
       "    <tr>\n",
       "      <th>1</th>\n",
       "      <td>im so full of life i feel appalled</td>\n",
       "      <td>anger</td>\n",
       "    </tr>\n",
       "    <tr>\n",
       "      <th>2</th>\n",
       "      <td>i sit here to write i start to dig out my feel...</td>\n",
       "      <td>fear</td>\n",
       "    </tr>\n",
       "    <tr>\n",
       "      <th>3</th>\n",
       "      <td>ive been really angry with r and i feel like a...</td>\n",
       "      <td>joy</td>\n",
       "    </tr>\n",
       "    <tr>\n",
       "      <th>4</th>\n",
       "      <td>i feel suspicious if there is no one outside l...</td>\n",
       "      <td>fear</td>\n",
       "    </tr>\n",
       "  </tbody>\n",
       "</table>\n",
       "</div>"
      ],
      "text/plain": [
       "                                                Text Feeling\n",
       "0  i seriously hate one subject to death but now ...    fear\n",
       "1                 im so full of life i feel appalled   anger\n",
       "2  i sit here to write i start to dig out my feel...    fear\n",
       "3  ive been really angry with r and i feel like a...     joy\n",
       "4  i feel suspicious if there is no one outside l...    fear"
      ]
     },
     "execution_count": 12,
     "metadata": {},
     "output_type": "execute_result"
    }
   ],
   "source": [
    "pre = Preprocessor()\n",
    "df['Text'] = df['Text'].apply(pre.remove_punctuations)\n",
    "df.head()"
   ]
  },
  {
   "cell_type": "markdown",
   "id": "3c0b040c",
   "metadata": {
    "id": "r0LHBi9zK1Ro",
    "papermill": {
     "duration": 0.022836,
     "end_time": "2023-12-02T19:39:04.192456",
     "exception": false,
     "start_time": "2023-12-02T19:39:04.169620",
     "status": "completed"
    },
    "tags": []
   },
   "source": [
    "Remove the stop-words from the synopsis texts. Stop-words are those that have a high frequency in the language but don't have much information like 'the', 'and', 'to', etc. **(P2-1-3: 5 points)**"
   ]
  },
  {
   "cell_type": "code",
   "execution_count": 13,
   "id": "9ed6b957",
   "metadata": {
    "execution": {
     "iopub.execute_input": "2023-12-02T19:39:04.236642Z",
     "iopub.status.busy": "2023-12-02T19:39:04.235905Z",
     "iopub.status.idle": "2023-12-02T19:39:05.559505Z",
     "shell.execute_reply": "2023-12-02T19:39:05.558436Z"
    },
    "id": "rZV4H3vPNJhH",
    "papermill": {
     "duration": 1.347763,
     "end_time": "2023-12-02T19:39:05.561820",
     "exception": false,
     "start_time": "2023-12-02T19:39:04.214057",
     "status": "completed"
    },
    "tags": []
   },
   "outputs": [
    {
     "data": {
      "text/html": [
       "<div>\n",
       "<style scoped>\n",
       "    .dataframe tbody tr th:only-of-type {\n",
       "        vertical-align: middle;\n",
       "    }\n",
       "\n",
       "    .dataframe tbody tr th {\n",
       "        vertical-align: top;\n",
       "    }\n",
       "\n",
       "    .dataframe thead th {\n",
       "        text-align: right;\n",
       "    }\n",
       "</style>\n",
       "<table border=\"1\" class=\"dataframe\">\n",
       "  <thead>\n",
       "    <tr style=\"text-align: right;\">\n",
       "      <th></th>\n",
       "      <th>Text</th>\n",
       "      <th>Feeling</th>\n",
       "    </tr>\n",
       "  </thead>\n",
       "  <tbody>\n",
       "    <tr>\n",
       "      <th>0</th>\n",
       "      <td>seriously hate one subject death feel reluctan...</td>\n",
       "      <td>fear</td>\n",
       "    </tr>\n",
       "    <tr>\n",
       "      <th>1</th>\n",
       "      <td>im full life feel appalled</td>\n",
       "      <td>anger</td>\n",
       "    </tr>\n",
       "    <tr>\n",
       "      <th>2</th>\n",
       "      <td>sit write start dig feelings think afraid acce...</td>\n",
       "      <td>fear</td>\n",
       "    </tr>\n",
       "    <tr>\n",
       "      <th>3</th>\n",
       "      <td>ive really angry r feel like idiot trusting fi...</td>\n",
       "      <td>joy</td>\n",
       "    </tr>\n",
       "    <tr>\n",
       "      <th>4</th>\n",
       "      <td>feel suspicious one outside like rapture happe...</td>\n",
       "      <td>fear</td>\n",
       "    </tr>\n",
       "  </tbody>\n",
       "</table>\n",
       "</div>"
      ],
      "text/plain": [
       "                                                Text Feeling\n",
       "0  seriously hate one subject death feel reluctan...    fear\n",
       "1                         im full life feel appalled   anger\n",
       "2  sit write start dig feelings think afraid acce...    fear\n",
       "3  ive really angry r feel like idiot trusting fi...     joy\n",
       "4  feel suspicious one outside like rapture happe...    fear"
      ]
     },
     "execution_count": 13,
     "metadata": {},
     "output_type": "execute_result"
    }
   ],
   "source": [
    "df['Text'] = df['Text'].apply(pre.remove_stopwords)\n",
    "df.head()"
   ]
  },
  {
   "cell_type": "markdown",
   "id": "7372d452",
   "metadata": {
    "id": "uJICEKnjMWYY",
    "papermill": {
     "duration": 0.020852,
     "end_time": "2023-12-02T19:39:05.606631",
     "exception": false,
     "start_time": "2023-12-02T19:39:05.585779",
     "status": "completed"
    },
    "tags": []
   },
   "source": [
    "Tokenize the text and convert all characters to their lowercased version **(P2-1-4: 5 points)**"
   ]
  },
  {
   "cell_type": "code",
   "execution_count": 14,
   "id": "e39e9dff",
   "metadata": {
    "execution": {
     "iopub.execute_input": "2023-12-02T19:39:05.648953Z",
     "iopub.status.busy": "2023-12-02T19:39:05.648445Z",
     "iopub.status.idle": "2023-12-02T19:39:06.662159Z",
     "shell.execute_reply": "2023-12-02T19:39:06.661057Z"
    },
    "id": "_9hvQsm2u_lZ",
    "papermill": {
     "duration": 1.037353,
     "end_time": "2023-12-02T19:39:06.664426",
     "exception": false,
     "start_time": "2023-12-02T19:39:05.627073",
     "status": "completed"
    },
    "tags": []
   },
   "outputs": [
    {
     "data": {
      "text/html": [
       "<div>\n",
       "<style scoped>\n",
       "    .dataframe tbody tr th:only-of-type {\n",
       "        vertical-align: middle;\n",
       "    }\n",
       "\n",
       "    .dataframe tbody tr th {\n",
       "        vertical-align: top;\n",
       "    }\n",
       "\n",
       "    .dataframe thead th {\n",
       "        text-align: right;\n",
       "    }\n",
       "</style>\n",
       "<table border=\"1\" class=\"dataframe\">\n",
       "  <thead>\n",
       "    <tr style=\"text-align: right;\">\n",
       "      <th></th>\n",
       "      <th>Text</th>\n",
       "      <th>Feeling</th>\n",
       "    </tr>\n",
       "  </thead>\n",
       "  <tbody>\n",
       "    <tr>\n",
       "      <th>0</th>\n",
       "      <td>[seriously, hate, one, subject, death, feel, r...</td>\n",
       "      <td>fear</td>\n",
       "    </tr>\n",
       "    <tr>\n",
       "      <th>1</th>\n",
       "      <td>[im, full, life, feel, appalled]</td>\n",
       "      <td>anger</td>\n",
       "    </tr>\n",
       "    <tr>\n",
       "      <th>2</th>\n",
       "      <td>[sit, write, start, dig, feelings, think, afra...</td>\n",
       "      <td>fear</td>\n",
       "    </tr>\n",
       "    <tr>\n",
       "      <th>3</th>\n",
       "      <td>[ive, really, angry, r, feel, like, idiot, tru...</td>\n",
       "      <td>joy</td>\n",
       "    </tr>\n",
       "    <tr>\n",
       "      <th>4</th>\n",
       "      <td>[feel, suspicious, one, outside, like, rapture...</td>\n",
       "      <td>fear</td>\n",
       "    </tr>\n",
       "    <tr>\n",
       "      <th>...</th>\n",
       "      <td>...</td>\n",
       "      <td>...</td>\n",
       "    </tr>\n",
       "    <tr>\n",
       "      <th>5932</th>\n",
       "      <td>[begun, feel, distressed]</td>\n",
       "      <td>fear</td>\n",
       "    </tr>\n",
       "    <tr>\n",
       "      <th>5933</th>\n",
       "      <td>[left, feeling, annoyed, angry, thinking, cent...</td>\n",
       "      <td>anger</td>\n",
       "    </tr>\n",
       "    <tr>\n",
       "      <th>5934</th>\n",
       "      <td>[ever, get, married, everything, ready, offer,...</td>\n",
       "      <td>joy</td>\n",
       "    </tr>\n",
       "    <tr>\n",
       "      <th>5935</th>\n",
       "      <td>[feel, reluctant, applying, want, able, find, ...</td>\n",
       "      <td>fear</td>\n",
       "    </tr>\n",
       "    <tr>\n",
       "      <th>5936</th>\n",
       "      <td>[wanted, apologize, feel, like, heartless, bitch]</td>\n",
       "      <td>anger</td>\n",
       "    </tr>\n",
       "  </tbody>\n",
       "</table>\n",
       "<p>5937 rows × 2 columns</p>\n",
       "</div>"
      ],
      "text/plain": [
       "                                                   Text Feeling\n",
       "0     [seriously, hate, one, subject, death, feel, r...    fear\n",
       "1                      [im, full, life, feel, appalled]   anger\n",
       "2     [sit, write, start, dig, feelings, think, afra...    fear\n",
       "3     [ive, really, angry, r, feel, like, idiot, tru...     joy\n",
       "4     [feel, suspicious, one, outside, like, rapture...    fear\n",
       "...                                                 ...     ...\n",
       "5932                          [begun, feel, distressed]    fear\n",
       "5933  [left, feeling, annoyed, angry, thinking, cent...   anger\n",
       "5934  [ever, get, married, everything, ready, offer,...     joy\n",
       "5935  [feel, reluctant, applying, want, able, find, ...    fear\n",
       "5936  [wanted, apologize, feel, like, heartless, bitch]   anger\n",
       "\n",
       "[5937 rows x 2 columns]"
      ]
     },
     "execution_count": 14,
     "metadata": {},
     "output_type": "execute_result"
    }
   ],
   "source": [
    "df['Text'] = df['Text'].apply(pre.word_tokenize)\n",
    "df"
   ]
  },
  {
   "cell_type": "markdown",
   "id": "1df04cd9",
   "metadata": {
    "id": "MGSci8O5ueGy",
    "papermill": {
     "duration": 0.021357,
     "end_time": "2023-12-02T19:39:06.708395",
     "exception": false,
     "start_time": "2023-12-02T19:39:06.687038",
     "status": "completed"
    },
    "tags": []
   },
   "source": [
    "# Phase 3: Training"
   ]
  },
  {
   "cell_type": "markdown",
   "id": "05438a37",
   "metadata": {
    "id": "nW-PD4yKVcOZ",
    "papermill": {
     "duration": 0.021389,
     "end_time": "2023-12-02T19:39:06.750486",
     "exception": false,
     "start_time": "2023-12-02T19:39:06.729097",
     "status": "completed"
    },
    "tags": []
   },
   "source": [
    "## Sec 1: Preparing the training feed **(P3-Sec1: 20 Points)**"
   ]
  },
  {
   "cell_type": "markdown",
   "id": "3e6c01dd",
   "metadata": {
    "id": "ExOLUFqkV6l3",
    "papermill": {
     "duration": 0.020905,
     "end_time": "2023-12-02T19:39:06.793126",
     "exception": false,
     "start_time": "2023-12-02T19:39:06.772221",
     "status": "completed"
    },
    "tags": []
   },
   "source": [
    "Extract the \"X\" and \"y\" numpy array from columns corresponding to text and feelings. **(P3-1-1: 5 Points)**"
   ]
  },
  {
   "cell_type": "code",
   "execution_count": 15,
   "id": "1dfb763c",
   "metadata": {
    "execution": {
     "iopub.execute_input": "2023-12-02T19:39:06.837603Z",
     "iopub.status.busy": "2023-12-02T19:39:06.837011Z",
     "iopub.status.idle": "2023-12-02T19:39:06.857310Z",
     "shell.execute_reply": "2023-12-02T19:39:06.856458Z"
    },
    "papermill": {
     "duration": 0.044488,
     "end_time": "2023-12-02T19:39:06.859244",
     "exception": false,
     "start_time": "2023-12-02T19:39:06.814756",
     "status": "completed"
    },
    "tags": []
   },
   "outputs": [
    {
     "data": {
      "text/html": [
       "<div>\n",
       "<style scoped>\n",
       "    .dataframe tbody tr th:only-of-type {\n",
       "        vertical-align: middle;\n",
       "    }\n",
       "\n",
       "    .dataframe tbody tr th {\n",
       "        vertical-align: top;\n",
       "    }\n",
       "\n",
       "    .dataframe thead th {\n",
       "        text-align: right;\n",
       "    }\n",
       "</style>\n",
       "<table border=\"1\" class=\"dataframe\">\n",
       "  <thead>\n",
       "    <tr style=\"text-align: right;\">\n",
       "      <th></th>\n",
       "      <th>Text</th>\n",
       "      <th>Feeling</th>\n",
       "    </tr>\n",
       "  </thead>\n",
       "  <tbody>\n",
       "    <tr>\n",
       "      <th>0</th>\n",
       "      <td>seriously hate one subject death feel reluctan...</td>\n",
       "      <td>fear</td>\n",
       "    </tr>\n",
       "    <tr>\n",
       "      <th>1</th>\n",
       "      <td>im full life feel appalled</td>\n",
       "      <td>anger</td>\n",
       "    </tr>\n",
       "    <tr>\n",
       "      <th>2</th>\n",
       "      <td>sit write start dig feelings think afraid acce...</td>\n",
       "      <td>fear</td>\n",
       "    </tr>\n",
       "    <tr>\n",
       "      <th>3</th>\n",
       "      <td>ive really angry r feel like idiot trusting fi...</td>\n",
       "      <td>joy</td>\n",
       "    </tr>\n",
       "    <tr>\n",
       "      <th>4</th>\n",
       "      <td>feel suspicious one outside like rapture happe...</td>\n",
       "      <td>fear</td>\n",
       "    </tr>\n",
       "  </tbody>\n",
       "</table>\n",
       "</div>"
      ],
      "text/plain": [
       "                                                Text Feeling\n",
       "0  seriously hate one subject death feel reluctan...    fear\n",
       "1                         im full life feel appalled   anger\n",
       "2  sit write start dig feelings think afraid acce...    fear\n",
       "3  ive really angry r feel like idiot trusting fi...     joy\n",
       "4  feel suspicious one outside like rapture happe...    fear"
      ]
     },
     "execution_count": 15,
     "metadata": {},
     "output_type": "execute_result"
    }
   ],
   "source": [
    "def undo(words):\n",
    "    return ' '.join([word for word in words])\n",
    "df['Text'] = df['Text'].apply(undo)\n",
    "df.head()"
   ]
  },
  {
   "cell_type": "code",
   "execution_count": 16,
   "id": "2f2fe721",
   "metadata": {
    "execution": {
     "iopub.execute_input": "2023-12-02T19:39:06.903351Z",
     "iopub.status.busy": "2023-12-02T19:39:06.902802Z",
     "iopub.status.idle": "2023-12-02T19:39:06.908908Z",
     "shell.execute_reply": "2023-12-02T19:39:06.907979Z"
    },
    "id": "QxZuaLXoXW3f",
    "papermill": {
     "duration": 0.030545,
     "end_time": "2023-12-02T19:39:06.910935",
     "exception": false,
     "start_time": "2023-12-02T19:39:06.880390",
     "status": "completed"
    },
    "tags": []
   },
   "outputs": [
    {
     "data": {
      "text/plain": [
       "array(['seriously hate one subject death feel reluctant drop',\n",
       "       'im full life feel appalled',\n",
       "       'sit write start dig feelings think afraid accept possibility might make',\n",
       "       ...,\n",
       "       'ever get married everything ready offer got together go clubs even perfect good looking guys feel intimated talking clever self',\n",
       "       'feel reluctant applying want able find company know least one person',\n",
       "       'wanted apologize feel like heartless bitch'], dtype=object)"
      ]
     },
     "execution_count": 16,
     "metadata": {},
     "output_type": "execute_result"
    }
   ],
   "source": [
    "X = df['Text'].to_numpy()\n",
    "y = df['Feeling'].to_numpy()\n",
    "X"
   ]
  },
  {
   "cell_type": "markdown",
   "id": "4a75047f",
   "metadata": {
    "id": "HTXGdu5pYqCQ",
    "papermill": {
     "duration": 0.02143,
     "end_time": "2023-12-02T19:39:06.953918",
     "exception": false,
     "start_time": "2023-12-02T19:39:06.932488",
     "status": "completed"
    },
    "tags": []
   },
   "source": [
    "Split the dataset into two parts such that the training set (denoted as `x_train` and ‍`y_train`) contains 80% of the samples. **(P3-1-2: 5 Points)**"
   ]
  },
  {
   "cell_type": "code",
   "execution_count": 17,
   "id": "6ca2e8a6",
   "metadata": {
    "execution": {
     "iopub.execute_input": "2023-12-02T19:39:06.999049Z",
     "iopub.status.busy": "2023-12-02T19:39:06.998319Z",
     "iopub.status.idle": "2023-12-02T19:39:07.003222Z",
     "shell.execute_reply": "2023-12-02T19:39:07.002398Z"
    },
    "id": "LXUtIDtFMnrv",
    "papermill": {
     "duration": 0.029529,
     "end_time": "2023-12-02T19:39:07.005131",
     "exception": false,
     "start_time": "2023-12-02T19:39:06.975602",
     "status": "completed"
    },
    "tags": []
   },
   "outputs": [],
   "source": [
    "n = int(0.8 * len(y)) + 1\n",
    "x_train, y_train = X[:n], y[:n]\n",
    "x_test, y_test = X[n:], y[:n]"
   ]
  },
  {
   "cell_type": "markdown",
   "id": "a404f4c3",
   "metadata": {
    "id": "4gmg4zF7XX-0",
    "papermill": {
     "duration": 0.02146,
     "end_time": "2023-12-02T19:39:07.049096",
     "exception": false,
     "start_time": "2023-12-02T19:39:07.027636",
     "status": "completed"
    },
    "tags": []
   },
   "source": [
    "Extract the text embeddings (feature vectors) for all the texts in the dataset. **(P3-1-3: 10 Points)**\n",
    "\n",
    "For this task you can use **tf-idf** or **count vectorizer**. Search about them!"
   ]
  },
  {
   "cell_type": "code",
   "execution_count": 18,
   "id": "ea881794",
   "metadata": {
    "execution": {
     "iopub.execute_input": "2023-12-02T19:39:07.095264Z",
     "iopub.status.busy": "2023-12-02T19:39:07.094494Z",
     "iopub.status.idle": "2023-12-02T19:39:07.217757Z",
     "shell.execute_reply": "2023-12-02T19:39:07.216730Z"
    },
    "id": "tBIDgJQGZ5Q-",
    "papermill": {
     "duration": 0.148946,
     "end_time": "2023-12-02T19:39:07.219772",
     "exception": false,
     "start_time": "2023-12-02T19:39:07.070826",
     "status": "completed"
    },
    "tags": []
   },
   "outputs": [
    {
     "name": "stdout",
     "output_type": "stream",
     "text": [
      "(5937, 8815)\n"
     ]
    }
   ],
   "source": [
    "from sklearn.feature_extraction.text import CountVectorizer\n",
    "from sklearn.feature_extraction.text import TfidfVectorizer\n",
    "class Vectorizer():\n",
    "    def data_to_vec(self, sentence, pre):\n",
    "        tokens = pre.word_tokenize(sentence)\n",
    "        res = np.zeros(len(self.features))\n",
    "        for token in tokens:\n",
    "            idx = np.where(token == self.features)\n",
    "            if len(idx[0]) != 0:\n",
    "                res[idx] += 1\n",
    "        return res\n",
    "    def vectorize(self, X, is_tf = False):\n",
    "        if is_tf:\n",
    "            vectorizer = TfidfVectorizer()\n",
    "        else:\n",
    "            vectorizer = CountVectorizer()\n",
    "            embedding_matrix = vectorizer.fit_transform(X)\n",
    "            self.features = vectorizer.get_feature_names_out()         \n",
    "        return embedding_matrix\n",
    "vec = Vectorizer()\n",
    "emb = vec.vectorize(X, False)\n",
    "print(emb.shape)"
   ]
  },
  {
   "cell_type": "code",
   "execution_count": 19,
   "id": "b6bb906e",
   "metadata": {
    "execution": {
     "iopub.execute_input": "2023-12-02T19:39:07.264827Z",
     "iopub.status.busy": "2023-12-02T19:39:07.264114Z",
     "iopub.status.idle": "2023-12-02T19:39:07.269274Z",
     "shell.execute_reply": "2023-12-02T19:39:07.268543Z"
    },
    "papermill": {
     "duration": 0.029788,
     "end_time": "2023-12-02T19:39:07.271244",
     "exception": false,
     "start_time": "2023-12-02T19:39:07.241456",
     "status": "completed"
    },
    "tags": []
   },
   "outputs": [],
   "source": [
    "n = int(0.8 * len(y)) + 1\n",
    "x_train, y_train = emb[:n], y[:n]\n",
    "x_test, y_test = emb[n:], y[n:]"
   ]
  },
  {
   "cell_type": "markdown",
   "id": "a3e4714a",
   "metadata": {
    "id": "P4Cb8trgcraO",
    "papermill": {
     "duration": 0.021521,
     "end_time": "2023-12-02T19:39:07.314260",
     "exception": false,
     "start_time": "2023-12-02T19:39:07.292739",
     "status": "completed"
    },
    "tags": []
   },
   "source": [
    "## Sec 2: Naive Bayes from Scratch **(P3-Sec2: 20 Points)**"
   ]
  },
  {
   "cell_type": "markdown",
   "id": "43c6cb1c",
   "metadata": {
    "id": "uQRW4hGffgTD",
    "papermill": {
     "duration": 0.022623,
     "end_time": "2023-12-02T19:39:07.359336",
     "exception": false,
     "start_time": "2023-12-02T19:39:07.336713",
     "status": "completed"
    },
    "tags": []
   },
   "source": [
    "Complete this section with your code. **(P3-2: 20 points)**"
   ]
  },
  {
   "cell_type": "code",
   "execution_count": 20,
   "id": "37a3133c",
   "metadata": {
    "execution": {
     "iopub.execute_input": "2023-12-02T19:39:07.405929Z",
     "iopub.status.busy": "2023-12-02T19:39:07.405621Z",
     "iopub.status.idle": "2023-12-02T19:39:07.416912Z",
     "shell.execute_reply": "2023-12-02T19:39:07.416175Z"
    },
    "id": "Ah98uzFwfXs1",
    "papermill": {
     "duration": 0.036761,
     "end_time": "2023-12-02T19:39:07.418692",
     "exception": false,
     "start_time": "2023-12-02T19:39:07.381931",
     "status": "completed"
    },
    "tags": []
   },
   "outputs": [],
   "source": [
    "class NaiveBayesClassifier:\n",
    "    def __init__(self, alpha=1):\n",
    "\n",
    "        '''\n",
    "        Initialize these:\n",
    "\n",
    "        Laplace smoothing parameter\n",
    "        P(Y)\n",
    "        P(X_i | Y)\n",
    "        '''\n",
    "        self.alpha = alpha\n",
    "    \n",
    "    def fit(self, X, y):\n",
    "        \n",
    "        \n",
    "        '''\n",
    "        Calculate class probabilities P(Y)\n",
    "\n",
    "        Calculate word probabilities P(X_i | Y)\n",
    "        '''\n",
    "        # TO DO\n",
    "        n_samples, n_features = X.shape\n",
    "        self.classes = np.unique(y)\n",
    "        self.n_classes = len(self.classes)\n",
    "        n_classes = self.n_classes\n",
    "        self.prior = np.zeros(n_classes, dtype = np.float64)\n",
    "        self.probs = np.zeros((n_classes, n_features), dtype = np.float64)\n",
    "        for idx, c in enumerate(self.classes): \n",
    "            X_c = X[c==y]\n",
    "            self.prior[idx] = X_c.shape[0] / float(X.shape[0])\n",
    "            X_c = np.sum(X_c, axis = 0)\n",
    "            sm = np.sum(X_c, dtype = np.float64)\n",
    "            self.probs[idx] = (X_c+self.alpha)/ (sm + self.alpha*self.n_classes)\n",
    "        self.probs = np.log(self.probs)\n",
    "        self.prior = np.log(self.prior)\n",
    "    def predict(self, X):\n",
    "        '''\n",
    "        Calculate the log likelihood of the sample for each class\n",
    "\n",
    "        Predict the class with the highest score\n",
    "        '''\n",
    "        res = np.array([])\n",
    "        for sample in X:\n",
    "            posteriors = np.zeros(self.n_classes)\n",
    "            for idx,c in enumerate(self.classes):\n",
    "                prior = self.prior[idx]\n",
    "                class_conditional = np.sum((sample*self.probs[idx]))\n",
    "                posterior = prior + class_conditional\n",
    "                posteriors[idx] = posterior\n",
    "            res = np.append(res, self.classes[np.argmax(posteriors)])\n",
    "        return res\n",
    "     \n",
    "    "
   ]
  },
  {
   "cell_type": "markdown",
   "id": "c39848ef",
   "metadata": {
    "id": "X1fAy_ElhOOw",
    "papermill": {
     "duration": 0.022383,
     "end_time": "2023-12-02T19:39:07.463344",
     "exception": false,
     "start_time": "2023-12-02T19:39:07.440961",
     "status": "completed"
    },
    "tags": []
   },
   "source": [
    "## Sec 3: Fit models to the training data **(P3-Sec3: 10 Points)**"
   ]
  },
  {
   "cell_type": "markdown",
   "id": "e287e884",
   "metadata": {
    "id": "veTOr_lxhrGe",
    "papermill": {
     "duration": 0.022617,
     "end_time": "2023-12-02T19:39:07.508005",
     "exception": false,
     "start_time": "2023-12-02T19:39:07.485388",
     "status": "completed"
    },
    "tags": []
   },
   "source": [
    "Fit a Naive Bayes classifier to the data. (Use both regressors - sklearn & from scratch) **(P3-3-1: 10 points)**"
   ]
  },
  {
   "cell_type": "code",
   "execution_count": 21,
   "id": "c9644fdf",
   "metadata": {
    "execution": {
     "iopub.execute_input": "2023-12-02T19:39:07.554889Z",
     "iopub.status.busy": "2023-12-02T19:39:07.554563Z",
     "iopub.status.idle": "2023-12-02T19:39:07.568302Z",
     "shell.execute_reply": "2023-12-02T19:39:07.567454Z"
    },
    "id": "2p7w47zsMdVA",
    "papermill": {
     "duration": 0.039704,
     "end_time": "2023-12-02T19:39:07.570240",
     "exception": false,
     "start_time": "2023-12-02T19:39:07.530536",
     "status": "completed"
    },
    "tags": []
   },
   "outputs": [],
   "source": [
    "my_model = NaiveBayesClassifier(1)\n",
    "my_model.fit(x_train, y_train)\n"
   ]
  },
  {
   "cell_type": "code",
   "execution_count": 22,
   "id": "c03ab771",
   "metadata": {
    "execution": {
     "iopub.execute_input": "2023-12-02T19:39:07.616127Z",
     "iopub.status.busy": "2023-12-02T19:39:07.615558Z",
     "iopub.status.idle": "2023-12-02T19:39:07.644320Z",
     "shell.execute_reply": "2023-12-02T19:39:07.643511Z"
    },
    "id": "UzYnUkxTIlTe",
    "papermill": {
     "duration": 0.053669,
     "end_time": "2023-12-02T19:39:07.646129",
     "exception": false,
     "start_time": "2023-12-02T19:39:07.592460",
     "status": "completed"
    },
    "tags": []
   },
   "outputs": [
    {
     "data": {
      "text/html": [
       "<style>#sk-container-id-1 {color: black;background-color: white;}#sk-container-id-1 pre{padding: 0;}#sk-container-id-1 div.sk-toggleable {background-color: white;}#sk-container-id-1 label.sk-toggleable__label {cursor: pointer;display: block;width: 100%;margin-bottom: 0;padding: 0.3em;box-sizing: border-box;text-align: center;}#sk-container-id-1 label.sk-toggleable__label-arrow:before {content: \"▸\";float: left;margin-right: 0.25em;color: #696969;}#sk-container-id-1 label.sk-toggleable__label-arrow:hover:before {color: black;}#sk-container-id-1 div.sk-estimator:hover label.sk-toggleable__label-arrow:before {color: black;}#sk-container-id-1 div.sk-toggleable__content {max-height: 0;max-width: 0;overflow: hidden;text-align: left;background-color: #f0f8ff;}#sk-container-id-1 div.sk-toggleable__content pre {margin: 0.2em;color: black;border-radius: 0.25em;background-color: #f0f8ff;}#sk-container-id-1 input.sk-toggleable__control:checked~div.sk-toggleable__content {max-height: 200px;max-width: 100%;overflow: auto;}#sk-container-id-1 input.sk-toggleable__control:checked~label.sk-toggleable__label-arrow:before {content: \"▾\";}#sk-container-id-1 div.sk-estimator input.sk-toggleable__control:checked~label.sk-toggleable__label {background-color: #d4ebff;}#sk-container-id-1 div.sk-label input.sk-toggleable__control:checked~label.sk-toggleable__label {background-color: #d4ebff;}#sk-container-id-1 input.sk-hidden--visually {border: 0;clip: rect(1px 1px 1px 1px);clip: rect(1px, 1px, 1px, 1px);height: 1px;margin: -1px;overflow: hidden;padding: 0;position: absolute;width: 1px;}#sk-container-id-1 div.sk-estimator {font-family: monospace;background-color: #f0f8ff;border: 1px dotted black;border-radius: 0.25em;box-sizing: border-box;margin-bottom: 0.5em;}#sk-container-id-1 div.sk-estimator:hover {background-color: #d4ebff;}#sk-container-id-1 div.sk-parallel-item::after {content: \"\";width: 100%;border-bottom: 1px solid gray;flex-grow: 1;}#sk-container-id-1 div.sk-label:hover label.sk-toggleable__label {background-color: #d4ebff;}#sk-container-id-1 div.sk-serial::before {content: \"\";position: absolute;border-left: 1px solid gray;box-sizing: border-box;top: 0;bottom: 0;left: 50%;z-index: 0;}#sk-container-id-1 div.sk-serial {display: flex;flex-direction: column;align-items: center;background-color: white;padding-right: 0.2em;padding-left: 0.2em;position: relative;}#sk-container-id-1 div.sk-item {position: relative;z-index: 1;}#sk-container-id-1 div.sk-parallel {display: flex;align-items: stretch;justify-content: center;background-color: white;position: relative;}#sk-container-id-1 div.sk-item::before, #sk-container-id-1 div.sk-parallel-item::before {content: \"\";position: absolute;border-left: 1px solid gray;box-sizing: border-box;top: 0;bottom: 0;left: 50%;z-index: -1;}#sk-container-id-1 div.sk-parallel-item {display: flex;flex-direction: column;z-index: 1;position: relative;background-color: white;}#sk-container-id-1 div.sk-parallel-item:first-child::after {align-self: flex-end;width: 50%;}#sk-container-id-1 div.sk-parallel-item:last-child::after {align-self: flex-start;width: 50%;}#sk-container-id-1 div.sk-parallel-item:only-child::after {width: 0;}#sk-container-id-1 div.sk-dashed-wrapped {border: 1px dashed gray;margin: 0 0.4em 0.5em 0.4em;box-sizing: border-box;padding-bottom: 0.4em;background-color: white;}#sk-container-id-1 div.sk-label label {font-family: monospace;font-weight: bold;display: inline-block;line-height: 1.2em;}#sk-container-id-1 div.sk-label-container {text-align: center;}#sk-container-id-1 div.sk-container {/* jupyter's `normalize.less` sets `[hidden] { display: none; }` but bootstrap.min.css set `[hidden] { display: none !important; }` so we also need the `!important` here to be able to override the default hidden behavior on the sphinx rendered scikit-learn.org. See: https://github.com/scikit-learn/scikit-learn/issues/21755 */display: inline-block !important;position: relative;}#sk-container-id-1 div.sk-text-repr-fallback {display: none;}</style><div id=\"sk-container-id-1\" class=\"sk-top-container\"><div class=\"sk-text-repr-fallback\"><pre>MultinomialNB(force_alpha=True)</pre><b>In a Jupyter environment, please rerun this cell to show the HTML representation or trust the notebook. <br />On GitHub, the HTML representation is unable to render, please try loading this page with nbviewer.org.</b></div><div class=\"sk-container\" hidden><div class=\"sk-item\"><div class=\"sk-estimator sk-toggleable\"><input class=\"sk-toggleable__control sk-hidden--visually\" id=\"sk-estimator-id-1\" type=\"checkbox\" checked><label for=\"sk-estimator-id-1\" class=\"sk-toggleable__label sk-toggleable__label-arrow\">MultinomialNB</label><div class=\"sk-toggleable__content\"><pre>MultinomialNB(force_alpha=True)</pre></div></div></div></div></div>"
      ],
      "text/plain": [
       "MultinomialNB(force_alpha=True)"
      ]
     },
     "execution_count": 22,
     "metadata": {},
     "output_type": "execute_result"
    }
   ],
   "source": [
    "clf = MultinomialNB(force_alpha=True)\n",
    "clf.fit(x_train, y_train)"
   ]
  },
  {
   "cell_type": "markdown",
   "id": "fd6efcc3",
   "metadata": {
    "id": "ZidDcRTCfI0K",
    "papermill": {
     "duration": 0.021698,
     "end_time": "2023-12-02T19:39:07.690066",
     "exception": false,
     "start_time": "2023-12-02T19:39:07.668368",
     "status": "completed"
    },
    "tags": []
   },
   "source": [
    "# Phase 4: Evaluation"
   ]
  },
  {
   "cell_type": "markdown",
   "id": "944774f8",
   "metadata": {
    "id": "U9b0k6u7kzio",
    "papermill": {
     "duration": 0.021572,
     "end_time": "2023-12-02T19:39:07.733599",
     "exception": false,
     "start_time": "2023-12-02T19:39:07.712027",
     "status": "completed"
    },
    "tags": []
   },
   "source": [
    "## Sec 1: Evaluate both models and compare the results (P4-Sec1: 20 points)"
   ]
  },
  {
   "cell_type": "markdown",
   "id": "f9ac9b27",
   "metadata": {
    "id": "kPGUaf8olFiO",
    "papermill": {
     "duration": 0.022863,
     "end_time": "2023-12-02T19:39:07.779425",
     "exception": false,
     "start_time": "2023-12-02T19:39:07.756562",
     "status": "completed"
    },
    "tags": []
   },
   "source": [
    "Predict the value of \"y\" for each \"x\" belonging to the \"testing\" set (use both models) **(P4-1-1: 5 points)**"
   ]
  },
  {
   "cell_type": "code",
   "execution_count": 23,
   "id": "b4046b83",
   "metadata": {
    "execution": {
     "iopub.execute_input": "2023-12-02T19:39:07.826319Z",
     "iopub.status.busy": "2023-12-02T19:39:07.825646Z",
     "iopub.status.idle": "2023-12-02T19:39:07.831379Z",
     "shell.execute_reply": "2023-12-02T19:39:07.830636Z"
    },
    "id": "GlrvfgIClGNq",
    "papermill": {
     "duration": 0.031392,
     "end_time": "2023-12-02T19:39:07.833329",
     "exception": false,
     "start_time": "2023-12-02T19:39:07.801937",
     "status": "completed"
    },
    "tags": []
   },
   "outputs": [],
   "source": [
    "sk_pred = clf.predict(x_test)\n"
   ]
  },
  {
   "cell_type": "code",
   "execution_count": 24,
   "id": "59e41a57",
   "metadata": {
    "execution": {
     "iopub.execute_input": "2023-12-02T19:39:07.878372Z",
     "iopub.status.busy": "2023-12-02T19:39:07.877844Z",
     "iopub.status.idle": "2023-12-02T19:39:08.048026Z",
     "shell.execute_reply": "2023-12-02T19:39:08.047217Z"
    },
    "id": "TSckruksl45m",
    "papermill": {
     "duration": 0.195137,
     "end_time": "2023-12-02T19:39:08.050484",
     "exception": false,
     "start_time": "2023-12-02T19:39:07.855347",
     "status": "completed"
    },
    "tags": []
   },
   "outputs": [],
   "source": [
    "my_pred = my_model.predict(x_test)"
   ]
  },
  {
   "cell_type": "markdown",
   "id": "b984ac9c",
   "metadata": {
    "id": "t9B1GJB4lFWE",
    "papermill": {
     "duration": 0.023608,
     "end_time": "2023-12-02T19:39:08.098511",
     "exception": false,
     "start_time": "2023-12-02T19:39:08.074903",
     "status": "completed"
    },
    "tags": []
   },
   "source": [
    "Compute Confusion matrix and classification report for each model **(P4-1-2: 10 points)**"
   ]
  },
  {
   "cell_type": "code",
   "execution_count": 25,
   "id": "36ccdfcb",
   "metadata": {
    "execution": {
     "iopub.execute_input": "2023-12-02T19:39:08.145681Z",
     "iopub.status.busy": "2023-12-02T19:39:08.145045Z",
     "iopub.status.idle": "2023-12-02T19:39:08.151748Z",
     "shell.execute_reply": "2023-12-02T19:39:08.150843Z"
    },
    "id": "YT-F4Hsvmtv0",
    "papermill": {
     "duration": 0.033077,
     "end_time": "2023-12-02T19:39:08.154068",
     "exception": false,
     "start_time": "2023-12-02T19:39:08.120991",
     "status": "completed"
    },
    "tags": []
   },
   "outputs": [
    {
     "name": "stdout",
     "output_type": "stream",
     "text": [
      "my acc: 0.8972198820556023\n",
      "sk_acc: 0.9014321819713563\n"
     ]
    }
   ],
   "source": [
    "# my_pred.shape\n",
    "# y_test.shape\n",
    "\n",
    "my_acc = my_pred[my_pred==y_test].shape[0] / y_test.shape[0]\n",
    "sk_acc = sk_pred[sk_pred==y_test].shape[0] / y_test.shape[0]\n",
    "print('my acc:', my_acc)\n",
    "print('sk_acc:', sk_acc)"
   ]
  },
  {
   "cell_type": "code",
   "execution_count": 26,
   "id": "020f20d2",
   "metadata": {
    "execution": {
     "iopub.execute_input": "2023-12-02T19:39:08.203825Z",
     "iopub.status.busy": "2023-12-02T19:39:08.203342Z",
     "iopub.status.idle": "2023-12-02T19:39:08.292682Z",
     "shell.execute_reply": "2023-12-02T19:39:08.291435Z"
    },
    "id": "9d1Ww_gWm9up",
    "papermill": {
     "duration": 0.116762,
     "end_time": "2023-12-02T19:39:08.294913",
     "exception": false,
     "start_time": "2023-12-02T19:39:08.178151",
     "status": "completed"
    },
    "tags": []
   },
   "outputs": [
    {
     "name": "stdout",
     "output_type": "stream",
     "text": [
      "my model:\n",
      " [[357  24   9]\n",
      " [ 23 370   9]\n",
      " [ 26  31 338]]\n",
      "              precision    recall  f1-score   support\n",
      "\n",
      "       anger       0.88      0.92      0.90       390\n",
      "        fear       0.87      0.92      0.89       402\n",
      "         joy       0.95      0.86      0.90       395\n",
      "\n",
      "    accuracy                           0.90      1187\n",
      "   macro avg       0.90      0.90      0.90      1187\n",
      "weighted avg       0.90      0.90      0.90      1187\n",
      "\n",
      "sk model:\n",
      " [[357  21  12]\n",
      " [ 24 365  13]\n",
      " [ 26  21 348]]\n",
      "              precision    recall  f1-score   support\n",
      "\n",
      "       anger       0.88      0.92      0.90       390\n",
      "        fear       0.90      0.91      0.90       402\n",
      "         joy       0.93      0.88      0.91       395\n",
      "\n",
      "    accuracy                           0.90      1187\n",
      "   macro avg       0.90      0.90      0.90      1187\n",
      "weighted avg       0.90      0.90      0.90      1187\n",
      "\n"
     ]
    }
   ],
   "source": [
    "from sklearn.metrics import classification_report\n",
    "print('my model:\\n',confusion_matrix(y_test, my_pred))\n",
    "print(classification_report(y_test, my_pred))\n",
    "print('sk model:\\n',confusion_matrix(y_test, sk_pred))\n",
    "print(classification_report(y_test, sk_pred))"
   ]
  },
  {
   "cell_type": "markdown",
   "id": "8ac2eb9f",
   "metadata": {
    "id": "cMIeloShnHaO",
    "papermill": {
     "duration": 0.024488,
     "end_time": "2023-12-02T19:39:08.343606",
     "exception": false,
     "start_time": "2023-12-02T19:39:08.319118",
     "status": "completed"
    },
    "tags": []
   },
   "source": [
    "Explain the results of the previous section (what is f1-score? - what is the recall? - what is precision?), also compare the model's performance **(P4-1-3: 5 points)**"
   ]
  },
  {
   "cell_type": "markdown",
   "id": "7f2b90f7",
   "metadata": {
    "id": "sBhfjcnmnhrD",
    "papermill": {
     "duration": 0.023548,
     "end_time": "2023-12-02T19:39:08.391126",
     "exception": false,
     "start_time": "2023-12-02T19:39:08.367578",
     "status": "completed"
    },
    "tags": []
   },
   "source": [
    "***in general, precision is rate of true positives amongs all positive classified samples. It's importan to us how much our model is precise and when it says a sample is positive, what is the chance of its realy being positive.***\n",
    "\n",
    "***but recall is rate of the actual positvie samples that classified as positives. for example in some medical applications, its important that if a sample is postive and has an illness, we return positive. we want to cover all positive cases for sure.***\n",
    "![](https://miro.medium.com/v2/resize:fit:640/format:webp/1*7J08ekAwupLBegeUI8muHA.png)\n",
    "\n",
    "\n",
    "***f1 score is calculated based on this 2 measures. it tries to make a balance between recall and precision. And if there is an uneven class distribution, this measurement will help us a lot***\n",
    "\n",
    "![](https://miro.medium.com/v2/resize:fit:564/format:webp/1*T6kVUKxG_Z4V5Fm1UXhEIw.png)\n",
    "\n",
    "\n",
    "***as you can see sklearn is a little bit better(in both acc and f1), but f1 scores are so close. based on cofusion matrix, one of my model biggest issues is classifying a lot of joy emotions into fear.***"
   ]
  },
  {
   "cell_type": "markdown",
   "id": "45211676",
   "metadata": {
    "id": "VxsQ2oA8lHhg",
    "papermill": {
     "duration": 0.023071,
     "end_time": "2023-12-02T19:39:08.437163",
     "exception": false,
     "start_time": "2023-12-02T19:39:08.414092",
     "status": "completed"
    },
    "tags": []
   },
   "source": [
    "Model Performance Intuition Part: Now, you can test whether your model has a good prediction for a random text."
   ]
  },
  {
   "cell_type": "code",
   "execution_count": 27,
   "id": "46078d01",
   "metadata": {
    "execution": {
     "iopub.execute_input": "2023-12-02T19:39:08.485311Z",
     "iopub.status.busy": "2023-12-02T19:39:08.484519Z",
     "iopub.status.idle": "2023-12-02T19:39:08.497984Z",
     "shell.execute_reply": "2023-12-02T19:39:08.497147Z"
    },
    "id": "MGZOyfU8aszg",
    "papermill": {
     "duration": 0.039713,
     "end_time": "2023-12-02T19:39:08.499831",
     "exception": false,
     "start_time": "2023-12-02T19:39:08.460118",
     "status": "completed"
    },
    "tags": []
   },
   "outputs": [
    {
     "data": {
      "text/plain": [
       "array(['fear'], dtype='<U32')"
      ]
     },
     "execution_count": 27,
     "metadata": {},
     "output_type": "execute_result"
    }
   ],
   "source": [
    "def datatransform(lst, pre, vec):\n",
    "    pre = Preprocessor()\n",
    "    data = np.array([])\n",
    "    for i in range(len(lst)):\n",
    "        lst[i] = pre.remove_stopwords(lst[i])\n",
    "        lst[i] = pre.remove_punctuations(lst[i])\n",
    "        data = np.append(data, vec.data_to_vec(lst[i], pre))\n",
    "    return [data]\n",
    "example = datatransform([\"Look! behind that tree there is a secret object, I am so scared\"], pre, vec)\n",
    "my_model.predict(example)"
   ]
  },
  {
   "cell_type": "markdown",
   "id": "179fe665",
   "metadata": {
    "papermill": {
     "duration": 0.022414,
     "end_time": "2023-12-02T19:39:08.545307",
     "exception": false,
     "start_time": "2023-12-02T19:39:08.522893",
     "status": "completed"
    },
    "tags": []
   },
   "source": [
    "# Phase 5: Neural Net (Bonus)"
   ]
  },
  {
   "cell_type": "code",
   "execution_count": 28,
   "id": "05b261a4",
   "metadata": {
    "execution": {
     "iopub.execute_input": "2023-12-02T19:39:08.591273Z",
     "iopub.status.busy": "2023-12-02T19:39:08.590773Z",
     "iopub.status.idle": "2023-12-02T19:39:24.898112Z",
     "shell.execute_reply": "2023-12-02T19:39:24.897270Z"
    },
    "papermill": {
     "duration": 16.332918,
     "end_time": "2023-12-02T19:39:24.900545",
     "exception": false,
     "start_time": "2023-12-02T19:39:08.567627",
     "status": "completed"
    },
    "tags": []
   },
   "outputs": [],
   "source": [
    "import gensim\n",
    "import pandas as pd\n",
    "import re\n",
    "import string\n",
    "import spacy\n",
    "from sklearn.model_selection import train_test_split\n",
    "import numpy as np\n",
    "import torch\n",
    "from torch import nn\n",
    "from torch.utils.data import Dataset\n",
    "from torch.utils.data import DataLoader\n",
    "config = {\n",
    "    'batch_size': 64,\n",
    "    'learning_rate': 1,\n",
    "    'word2vec_path': '/kaggle/input/googlenewsvectorsnegative300/GoogleNews-vectors-negative300.bin',\n",
    "    'dataset_path': '../input/twitter-tweets-sentiment-dataset/Tweets.csv',\n",
    "    'num_epochs': 100, \n",
    "    'max_len': 20,\n",
    "    'training_size': 0.8,\n",
    "    'random_seed': 50,\n",
    "    \n",
    "}\n"
   ]
  },
  {
   "cell_type": "code",
   "execution_count": 29,
   "id": "ad21250c",
   "metadata": {
    "execution": {
     "iopub.execute_input": "2023-12-02T19:39:24.949345Z",
     "iopub.status.busy": "2023-12-02T19:39:24.948724Z",
     "iopub.status.idle": "2023-12-02T19:39:26.334879Z",
     "shell.execute_reply": "2023-12-02T19:39:26.333970Z"
    },
    "papermill": {
     "duration": 1.413273,
     "end_time": "2023-12-02T19:39:26.337502",
     "exception": false,
     "start_time": "2023-12-02T19:39:24.924229",
     "status": "completed"
    },
    "tags": []
   },
   "outputs": [],
   "source": [
    "def prep():\n",
    "    bdf = pd.read_csv('/kaggle/input/dataset/ML-P2-DataSet.csv')\n",
    "    bpre = Preprocessor()\n",
    "    bdf['Text'] = bdf['Text'].apply(bpre.remove_stopwords)\n",
    "    bdf['Text'] = bdf['Text'].apply(bpre.remove_punctuations)\n",
    "    bdf['Text'] = bdf['Text'].apply(bpre.remove_numbers)\n",
    "    bdf = bdf.dropna()\n",
    "    bdf = pd.get_dummies(bdf, columns = ['Feeling'], dtype = int)\n",
    "    return bdf\n",
    "bdf = prep()"
   ]
  },
  {
   "cell_type": "markdown",
   "id": "d5595bb3",
   "metadata": {
    "papermill": {
     "duration": 0.023689,
     "end_time": "2023-12-02T19:39:26.387087",
     "exception": false,
     "start_time": "2023-12-02T19:39:26.363398",
     "status": "completed"
    },
    "tags": []
   },
   "source": [
    "Make a list of words available in the dataset"
   ]
  },
  {
   "cell_type": "markdown",
   "id": "74271533",
   "metadata": {
    "papermill": {
     "duration": 0.023929,
     "end_time": "2023-12-02T19:39:26.434448",
     "exception": false,
     "start_time": "2023-12-02T19:39:26.410519",
     "status": "completed"
    },
    "tags": []
   },
   "source": [
    "Retrieve the Word2Vec embeddings for each word"
   ]
  },
  {
   "cell_type": "code",
   "execution_count": 30,
   "id": "ea3885c0",
   "metadata": {
    "execution": {
     "iopub.execute_input": "2023-12-02T19:39:26.484348Z",
     "iopub.status.busy": "2023-12-02T19:39:26.483952Z",
     "iopub.status.idle": "2023-12-02T19:40:31.727011Z",
     "shell.execute_reply": "2023-12-02T19:40:31.726175Z"
    },
    "papermill": {
     "duration": 65.270501,
     "end_time": "2023-12-02T19:40:31.729578",
     "exception": false,
     "start_time": "2023-12-02T19:39:26.459077",
     "status": "completed"
    },
    "tags": []
   },
   "outputs": [],
   "source": [
    "word2vec_path = config['word2vec_path']\n",
    "w2v = gensim.models.KeyedVectors.load_word2vec_format(word2vec_path,binary=True)"
   ]
  },
  {
   "cell_type": "code",
   "execution_count": 31,
   "id": "6eba1e5f",
   "metadata": {
    "execution": {
     "iopub.execute_input": "2023-12-02T19:40:31.778273Z",
     "iopub.status.busy": "2023-12-02T19:40:31.777937Z",
     "iopub.status.idle": "2023-12-02T19:40:31.865602Z",
     "shell.execute_reply": "2023-12-02T19:40:31.864578Z"
    },
    "papermill": {
     "duration": 0.113829,
     "end_time": "2023-12-02T19:40:31.867672",
     "exception": false,
     "start_time": "2023-12-02T19:40:31.753843",
     "status": "completed"
    },
    "tags": []
   },
   "outputs": [
    {
     "name": "stdout",
     "output_type": "stream",
     "text": [
      "['seriously', 'hate', 'one', 'subject', 'death', 'feel', 'reluctant', 'drop']\n",
      "[2846, 4293, 45, 1255, 570, 574, 6454, 1223]\n"
     ]
    }
   ],
   "source": [
    "texts = df['Text'].to_list()\n",
    "texts = [[token for token in text.split() if token in w2v.key_to_index] for text in texts]\n",
    "print(texts[0])\n",
    "mapped_texts = [[w2v.key_to_index[token] for token in tokens_list] for tokens_list in texts]\n",
    "print(mapped_texts[0])"
   ]
  },
  {
   "cell_type": "code",
   "execution_count": 32,
   "id": "74a700df",
   "metadata": {
    "execution": {
     "iopub.execute_input": "2023-12-02T19:40:31.916375Z",
     "iopub.status.busy": "2023-12-02T19:40:31.915758Z",
     "iopub.status.idle": "2023-12-02T19:40:31.932208Z",
     "shell.execute_reply": "2023-12-02T19:40:31.931275Z"
    },
    "papermill": {
     "duration": 0.042704,
     "end_time": "2023-12-02T19:40:31.934201",
     "exception": false,
     "start_time": "2023-12-02T19:40:31.891497",
     "status": "completed"
    },
    "tags": []
   },
   "outputs": [
    {
     "data": {
      "text/plain": [
       "array([[0, 1, 0],\n",
       "       [1, 0, 0],\n",
       "       [0, 1, 0],\n",
       "       ...,\n",
       "       [0, 0, 1],\n",
       "       [0, 1, 0],\n",
       "       [1, 0, 0]])"
      ]
     },
     "execution_count": 32,
     "metadata": {},
     "output_type": "execute_result"
    }
   ],
   "source": [
    "labels = bdf[['Feeling_anger', 'Feeling_fear', 'Feeling_joy']].values.tolist()\n",
    "labels = np.array(labels)\n",
    "labels"
   ]
  },
  {
   "cell_type": "code",
   "execution_count": 33,
   "id": "72d94337",
   "metadata": {
    "execution": {
     "iopub.execute_input": "2023-12-02T19:40:31.983335Z",
     "iopub.status.busy": "2023-12-02T19:40:31.982597Z",
     "iopub.status.idle": "2023-12-02T19:40:31.988010Z",
     "shell.execute_reply": "2023-12-02T19:40:31.987222Z"
    },
    "papermill": {
     "duration": 0.031833,
     "end_time": "2023-12-02T19:40:31.989873",
     "exception": false,
     "start_time": "2023-12-02T19:40:31.958040",
     "status": "completed"
    },
    "tags": []
   },
   "outputs": [],
   "source": [
    "def pad_seq(seq):\n",
    "    if len(seq) < config['max_len']:\n",
    "        seq.extend([0] * (config['max_len'] - len(seq)))\n",
    "    elif len(seq) > config['max_len']:\n",
    "        seq = seq[:config['max_len']]\n",
    "    return seq\n"
   ]
  },
  {
   "cell_type": "code",
   "execution_count": 34,
   "id": "a71b0d56",
   "metadata": {
    "execution": {
     "iopub.execute_input": "2023-12-02T19:40:32.038538Z",
     "iopub.status.busy": "2023-12-02T19:40:32.038024Z",
     "iopub.status.idle": "2023-12-02T19:40:32.046253Z",
     "shell.execute_reply": "2023-12-02T19:40:32.045428Z"
    },
    "papermill": {
     "duration": 0.033982,
     "end_time": "2023-12-02T19:40:32.048081",
     "exception": false,
     "start_time": "2023-12-02T19:40:32.014099",
     "status": "completed"
    },
    "tags": []
   },
   "outputs": [],
   "source": [
    "f_train, f_rem, l_train, l_rem = train_test_split(mapped_texts, labels, test_size=1-config['training_size'], random_state=config['random_seed'])\n",
    "f_test, f_dev, l_test, l_dev = train_test_split(f_rem, l_rem, test_size=0.5, random_state=config['random_seed'])"
   ]
  },
  {
   "cell_type": "code",
   "execution_count": 35,
   "id": "57dc7784",
   "metadata": {
    "execution": {
     "iopub.execute_input": "2023-12-02T19:40:32.096521Z",
     "iopub.status.busy": "2023-12-02T19:40:32.096218Z",
     "iopub.status.idle": "2023-12-02T19:40:32.102091Z",
     "shell.execute_reply": "2023-12-02T19:40:32.101112Z"
    },
    "papermill": {
     "duration": 0.032689,
     "end_time": "2023-12-02T19:40:32.103991",
     "exception": false,
     "start_time": "2023-12-02T19:40:32.071302",
     "status": "completed"
    },
    "tags": []
   },
   "outputs": [],
   "source": [
    "class W2VDataset(Dataset):\n",
    "    def __init__(self, mapped_texts, labels):\n",
    "        self.token_lists = [pad_seq(mt) for mt in mapped_texts]\n",
    "        self.labels = np.array(labels)\n",
    "    def __len__(self):\n",
    "        return len(self.token_lists)\n",
    "    def __getitem__(self, idx):        \n",
    "        return torch.LongTensor(self.token_lists[idx]).cuda(), torch.Tensor(self.labels[idx]).cuda()"
   ]
  },
  {
   "cell_type": "code",
   "execution_count": 36,
   "id": "ca389659",
   "metadata": {
    "execution": {
     "iopub.execute_input": "2023-12-02T19:40:32.151580Z",
     "iopub.status.busy": "2023-12-02T19:40:32.150935Z",
     "iopub.status.idle": "2023-12-02T19:40:32.162064Z",
     "shell.execute_reply": "2023-12-02T19:40:32.161288Z"
    },
    "papermill": {
     "duration": 0.036968,
     "end_time": "2023-12-02T19:40:32.163946",
     "exception": false,
     "start_time": "2023-12-02T19:40:32.126978",
     "status": "completed"
    },
    "tags": []
   },
   "outputs": [],
   "source": [
    "train_dataset = W2VDataset(f_train, l_train)\n",
    "test_dataset = W2VDataset(f_test, l_test)\n",
    "dev_dataset = W2VDataset(f_dev, l_dev)\n",
    "train_dataloader = DataLoader(train_dataset, batch_size=config['batch_size'], shuffle=True)\n",
    "test_dataloader = DataLoader(test_dataset, batch_size=config['batch_size'], shuffle=True)\n",
    "dev_dataloader = DataLoader(dev_dataset, batch_size=config['batch_size'], shuffle=True)"
   ]
  },
  {
   "cell_type": "code",
   "execution_count": 37,
   "id": "48974664",
   "metadata": {
    "execution": {
     "iopub.execute_input": "2023-12-02T19:40:32.213472Z",
     "iopub.status.busy": "2023-12-02T19:40:32.212958Z",
     "iopub.status.idle": "2023-12-02T19:40:32.219716Z",
     "shell.execute_reply": "2023-12-02T19:40:32.218927Z"
    },
    "papermill": {
     "duration": 0.033628,
     "end_time": "2023-12-02T19:40:32.221571",
     "exception": false,
     "start_time": "2023-12-02T19:40:32.187943",
     "status": "completed"
    },
    "tags": []
   },
   "outputs": [],
   "source": [
    "class Model(nn.Module):\n",
    "    \n",
    "    def __init__(self):\n",
    "        super(Model, self).__init__()\n",
    "        self.embedding = nn.Embedding.from_pretrained(torch.FloatTensor(w2v.vectors))\n",
    "        self.lstm = nn.LSTM(input_size=300, hidden_size=300, batch_first=True)\n",
    "        self.dense = nn.Linear(300, 3)\n",
    "        self.activation = nn.Sigmoid()\n",
    "    \n",
    "    def forward(self, x):\n",
    "        output = self.embedding(x) # output shape: (batch_size, seq_len, embedding_dim)\n",
    "        output, _ = self.lstm(output) # output shape: (batch_size, seq_len, hidden_size)\n",
    "        output = self.dense(output[:, -1, :]) # output shape: (batch_size, 1)\n",
    "        output = self.activation(output)\n",
    "        return output"
   ]
  },
  {
   "cell_type": "markdown",
   "id": "1f75b940",
   "metadata": {
    "papermill": {
     "duration": 0.0229,
     "end_time": "2023-12-02T19:40:32.267521",
     "exception": false,
     "start_time": "2023-12-02T19:40:32.244621",
     "status": "completed"
    },
    "tags": []
   },
   "source": [
    "Train a neural network consisting of LSTM and Fully-Connected layers to perform text classification **(P5-1: 8 points)**"
   ]
  },
  {
   "cell_type": "code",
   "execution_count": 38,
   "id": "631f1cf0",
   "metadata": {
    "execution": {
     "iopub.execute_input": "2023-12-02T19:40:32.315306Z",
     "iopub.status.busy": "2023-12-02T19:40:32.314574Z",
     "iopub.status.idle": "2023-12-02T19:40:39.209000Z",
     "shell.execute_reply": "2023-12-02T19:40:39.208197Z"
    },
    "papermill": {
     "duration": 6.92079,
     "end_time": "2023-12-02T19:40:39.211307",
     "exception": false,
     "start_time": "2023-12-02T19:40:32.290517",
     "status": "completed"
    },
    "tags": []
   },
   "outputs": [],
   "source": [
    "torch.cuda.empty_cache() \n",
    "model = Model().cuda()\n",
    "loss_fn = nn.BCELoss()\n",
    "optimizer = torch.optim.SGD(model.parameters(), lr=config['learning_rate'])\n",
    "\n",
    "def output_to_label(out):\n",
    "    lbl = np.zeros(3, dtype = int)\n",
    "    lbl[np.argmax(out)] = 1    \n",
    "    return lbl"
   ]
  },
  {
   "cell_type": "code",
   "execution_count": 39,
   "id": "5d4e8c05",
   "metadata": {
    "execution": {
     "iopub.execute_input": "2023-12-02T19:40:39.259995Z",
     "iopub.status.busy": "2023-12-02T19:40:39.259658Z",
     "iopub.status.idle": "2023-12-02T19:40:39.271407Z",
     "shell.execute_reply": "2023-12-02T19:40:39.270509Z"
    },
    "papermill": {
     "duration": 0.038177,
     "end_time": "2023-12-02T19:40:39.273273",
     "exception": false,
     "start_time": "2023-12-02T19:40:39.235096",
     "status": "completed"
    },
    "tags": []
   },
   "outputs": [],
   "source": [
    "def train_loop(dataloader, model, loss_fn, optimizer, epoch_num):\n",
    "    num_points = len(dataloader.dataset)\n",
    "    for batch, (features, labels) in enumerate(dataloader):        \n",
    "        # Compute prediction and loss\n",
    "        pred = model(features)\n",
    "#         print(pred[0])\n",
    "        loss = loss_fn(pred, labels)\n",
    "        \n",
    "        # Backpropagation\n",
    "        optimizer.zero_grad() # sets gradients of all model parameters to zero\n",
    "        loss.backward() # calculate the gradients again\n",
    "        optimizer.step() # w = w - learning_rate * grad(loss)_with_respect_to_w\n",
    "\n",
    "        if batch % 100 == 0:\n",
    "            loss, current = loss.item(), batch * len(features)\n",
    "            print(f\"\\r Epoch {epoch_num} - loss: {loss:>7f}\", end=\" \")\n",
    "            \n",
    "def test_loop(dataloader, model, loss_fn, epoch_num, name):\n",
    "    num_points = len(dataloader.dataset)\n",
    "    sum_test_loss, correct = 0, 0\n",
    "\n",
    "    with torch.no_grad():\n",
    "        for batch, (features, labels) in enumerate(dataloader):\n",
    "            pred = model(features)\n",
    "            sum_test_loss += loss_fn(pred, labels).item() # add the current loss to the sum of the losses\n",
    "            # convert the outputs of the model on the current batch to a numpy array\n",
    "            pred_lst = list(pred.cpu().detach().numpy().squeeze())\n",
    "            pred_lst = [output_to_label(item) for item in pred_lst]\n",
    "            # convert the original labels corresponding to the current batch to a numpy array\n",
    "            output_lst = list(labels.cpu().detach().numpy().squeeze()) \n",
    "            # determine the points for which the model is correctly predicting the label (add a 1 for each)\n",
    "            output_lst = [el.astype(int) for el in output_lst] \n",
    "            #TODO\n",
    "            match_lst = [1 if (p==o).all() else 0 for (p, o) in zip(pred_lst, output_lst)] \n",
    "            # count how many points are labeled correctly in this batch and add the number to the overall count of the correct labeled points\n",
    "            correct += sum(match_lst) \n",
    "            \n",
    "    sum_test_loss /= num_points\n",
    "    correct /= num_points\n",
    "    print(f\"\\r Epoch {epoch_num} - {name} Error: Accuracy: {(100*correct):>0.1f}%, Avg loss: {sum_test_loss:>8f}\", end=\" \")"
   ]
  },
  {
   "cell_type": "markdown",
   "id": "e04acad3",
   "metadata": {
    "papermill": {
     "duration": 0.024219,
     "end_time": "2023-12-02T19:40:39.321782",
     "exception": false,
     "start_time": "2023-12-02T19:40:39.297563",
     "status": "completed"
    },
    "tags": []
   },
   "source": [
    "Note: To get the points, Your neural net's performance should be at least as good as the Naive Bayes classifier. The exact architecture of the neural net is up to you. You can use Pytorch or Tensorflow to train it."
   ]
  },
  {
   "cell_type": "markdown",
   "id": "929f610d",
   "metadata": {
    "papermill": {
     "duration": 0.024722,
     "end_time": "2023-12-02T19:40:39.371335",
     "exception": false,
     "start_time": "2023-12-02T19:40:39.346613",
     "status": "completed"
    },
    "tags": []
   },
   "source": [
    "Evaluate the neural net on the training and testing data from the section *3-1-2*. **(P5-2: 2 points)**"
   ]
  },
  {
   "cell_type": "code",
   "execution_count": 40,
   "id": "cc905e5e",
   "metadata": {
    "execution": {
     "iopub.execute_input": "2023-12-02T19:40:39.423283Z",
     "iopub.status.busy": "2023-12-02T19:40:39.422407Z",
     "iopub.status.idle": "2023-12-02T19:41:33.179066Z",
     "shell.execute_reply": "2023-12-02T19:41:33.177873Z"
    },
    "papermill": {
     "duration": 53.785088,
     "end_time": "2023-12-02T19:41:33.181093",
     "exception": false,
     "start_time": "2023-12-02T19:40:39.396005",
     "status": "completed"
    },
    "tags": []
   },
   "outputs": [
    {
     "name": "stdout",
     "output_type": "stream",
     "text": [
      " Epoch 100 - Development/Validation Error: Accuracy: 96.3%, Avg loss: 0.002133 "
     ]
    }
   ],
   "source": [
    "torch.cuda.empty_cache() \n",
    "for epoch_num in range(1, config['num_epochs']+1):\n",
    "    train_loop(train_dataloader, model, loss_fn, optimizer, epoch_num)\n",
    "    test_loop(dev_dataloader, model, loss_fn, epoch_num, 'Development/Validation')\n",
    "    "
   ]
  },
  {
   "cell_type": "code",
   "execution_count": 41,
   "id": "1e0cf17d",
   "metadata": {
    "execution": {
     "iopub.execute_input": "2023-12-02T19:41:33.247804Z",
     "iopub.status.busy": "2023-12-02T19:41:33.247475Z",
     "iopub.status.idle": "2023-12-02T19:41:33.306862Z",
     "shell.execute_reply": "2023-12-02T19:41:33.305610Z"
    },
    "papermill": {
     "duration": 0.093958,
     "end_time": "2023-12-02T19:41:33.308935",
     "exception": false,
     "start_time": "2023-12-02T19:41:33.214977",
     "status": "completed"
    },
    "tags": []
   },
   "outputs": [
    {
     "name": "stdout",
     "output_type": "stream",
     "text": [
      " Epoch 100 - Test Error: Accuracy: 96.1%, Avg loss: 0.001618 "
     ]
    }
   ],
   "source": [
    "test_loop(test_dataloader, model, loss_fn, epoch_num, 'Test')\n",
    "torch.cuda.empty_cache() \n"
   ]
  },
  {
   "cell_type": "markdown",
   "id": "9022b558",
   "metadata": {
    "papermill": {
     "duration": 0.032619,
     "end_time": "2023-12-02T19:41:33.374058",
     "exception": false,
     "start_time": "2023-12-02T19:41:33.341439",
     "status": "completed"
    },
    "tags": []
   },
   "source": [
    "# Phase 6 (Optional): Submit your predictions to our Kaggle competition"
   ]
  },
  {
   "cell_type": "code",
   "execution_count": 42,
   "id": "d67b50b7",
   "metadata": {
    "execution": {
     "iopub.execute_input": "2023-12-02T19:41:33.440834Z",
     "iopub.status.busy": "2023-12-02T19:41:33.440486Z",
     "iopub.status.idle": "2023-12-02T19:42:12.093309Z",
     "shell.execute_reply": "2023-12-02T19:42:12.092160Z"
    },
    "papermill": {
     "duration": 38.720348,
     "end_time": "2023-12-02T19:42:12.127560",
     "exception": false,
     "start_time": "2023-12-02T19:41:33.407212",
     "status": "completed"
    },
    "tags": []
   },
   "outputs": [
    {
     "name": "stdout",
     "output_type": "stream",
     "text": [
      "Requirement already satisfied: nltk in /opt/conda/lib/python3.10/site-packages (3.2.4)\r\n",
      "Requirement already satisfied: six in /opt/conda/lib/python3.10/site-packages (from nltk) (1.16.0)\r\n",
      "[nltk_data] Downloading package punkt to /usr/share/nltk_data...\n",
      "[nltk_data]   Package punkt is already up-to-date!\n",
      "[nltk_data] Downloading package stopwords to /usr/share/nltk_data...\n",
      "[nltk_data]   Package stopwords is already up-to-date!\n"
     ]
    },
    {
     "data": {
      "text/html": [
       "<div>\n",
       "<style scoped>\n",
       "    .dataframe tbody tr th:only-of-type {\n",
       "        vertical-align: middle;\n",
       "    }\n",
       "\n",
       "    .dataframe tbody tr th {\n",
       "        vertical-align: top;\n",
       "    }\n",
       "\n",
       "    .dataframe thead th {\n",
       "        text-align: right;\n",
       "    }\n",
       "</style>\n",
       "<table border=\"1\" class=\"dataframe\">\n",
       "  <thead>\n",
       "    <tr style=\"text-align: right;\">\n",
       "      <th></th>\n",
       "      <th>Text</th>\n",
       "      <th>target_anger</th>\n",
       "      <th>target_fear</th>\n",
       "      <th>target_joy</th>\n",
       "    </tr>\n",
       "  </thead>\n",
       "  <tbody>\n",
       "    <tr>\n",
       "      <th>0</th>\n",
       "      <td>send home still feel bit shaky dizzy</td>\n",
       "      <td>0</td>\n",
       "      <td>1</td>\n",
       "      <td>0</td>\n",
       "    </tr>\n",
       "    <tr>\n",
       "      <th>1</th>\n",
       "      <td>feel like little control help sweet pea well k...</td>\n",
       "      <td>0</td>\n",
       "      <td>0</td>\n",
       "      <td>1</td>\n",
       "    </tr>\n",
       "    <tr>\n",
       "      <th>2</th>\n",
       "      <td>never happy feel accept whole life</td>\n",
       "      <td>0</td>\n",
       "      <td>0</td>\n",
       "      <td>1</td>\n",
       "    </tr>\n",
       "    <tr>\n",
       "      <th>3</th>\n",
       "      <td>wake feel grouchy irritable feel settle day re...</td>\n",
       "      <td>1</td>\n",
       "      <td>0</td>\n",
       "      <td>0</td>\n",
       "    </tr>\n",
       "    <tr>\n",
       "      <th>4</th>\n",
       "      <td>hope feel mellow well feed well sleep peace wi...</td>\n",
       "      <td>0</td>\n",
       "      <td>0</td>\n",
       "      <td>1</td>\n",
       "    </tr>\n",
       "    <tr>\n",
       "      <th>...</th>\n",
       "      <td>...</td>\n",
       "      <td>...</td>\n",
       "      <td>...</td>\n",
       "      <td>...</td>\n",
       "    </tr>\n",
       "    <tr>\n",
       "      <th>5338</th>\n",
       "      <td>admit feel little envious hear young writer well</td>\n",
       "      <td>1</td>\n",
       "      <td>0</td>\n",
       "      <td>0</td>\n",
       "    </tr>\n",
       "    <tr>\n",
       "      <th>5339</th>\n",
       "      <td>feel angry feel self conscious short wish be n...</td>\n",
       "      <td>1</td>\n",
       "      <td>0</td>\n",
       "      <td>0</td>\n",
       "    </tr>\n",
       "    <tr>\n",
       "      <th>5340</th>\n",
       "      <td>try come idea feel clever keep piece fun make ...</td>\n",
       "      <td>0</td>\n",
       "      <td>0</td>\n",
       "      <td>1</td>\n",
       "    </tr>\n",
       "    <tr>\n",
       "      <th>5341</th>\n",
       "      <td>could nt help feel little envious treat body p...</td>\n",
       "      <td>1</td>\n",
       "      <td>0</td>\n",
       "      <td>0</td>\n",
       "    </tr>\n",
       "    <tr>\n",
       "      <th>5342</th>\n",
       "      <td>get feel watch start make hat school friend co...</td>\n",
       "      <td>0</td>\n",
       "      <td>0</td>\n",
       "      <td>1</td>\n",
       "    </tr>\n",
       "  </tbody>\n",
       "</table>\n",
       "<p>5343 rows × 4 columns</p>\n",
       "</div>"
      ],
      "text/plain": [
       "                                                   Text  target_anger  \\\n",
       "0                  send home still feel bit shaky dizzy             0   \n",
       "1     feel like little control help sweet pea well k...             0   \n",
       "2                    never happy feel accept whole life             0   \n",
       "3     wake feel grouchy irritable feel settle day re...             1   \n",
       "4     hope feel mellow well feed well sleep peace wi...             0   \n",
       "...                                                 ...           ...   \n",
       "5338   admit feel little envious hear young writer well             1   \n",
       "5339  feel angry feel self conscious short wish be n...             1   \n",
       "5340  try come idea feel clever keep piece fun make ...             0   \n",
       "5341  could nt help feel little envious treat body p...             1   \n",
       "5342  get feel watch start make hat school friend co...             0   \n",
       "\n",
       "      target_fear  target_joy  \n",
       "0               1           0  \n",
       "1               0           1  \n",
       "2               0           1  \n",
       "3               0           0  \n",
       "4               0           1  \n",
       "...           ...         ...  \n",
       "5338            0           0  \n",
       "5339            0           0  \n",
       "5340            0           1  \n",
       "5341            0           0  \n",
       "5342            0           1  \n",
       "\n",
       "[5343 rows x 4 columns]"
      ]
     },
     "execution_count": 42,
     "metadata": {},
     "output_type": "execute_result"
    }
   ],
   "source": [
    "import gensim\n",
    "import pandas as pd\n",
    "import re\n",
    "import string\n",
    "import spacy\n",
    "from sklearn.model_selection import train_test_split\n",
    "import numpy as np\n",
    "import torch\n",
    "from torch import nn\n",
    "from torch.utils.data import Dataset\n",
    "from torch.utils.data import DataLoader\n",
    "import nltk\n",
    "import pandas\n",
    "import sklearn\n",
    "import string\n",
    "import spacy\n",
    "import re\n",
    "import numpy as np\n",
    "import pandas as pd\n",
    "from matplotlib import pyplot as plt\n",
    "from nltk.stem import WordNetLemmatizer\n",
    "from nltk.tokenize import word_tokenize\n",
    "from nltk.corpus import stopwords\n",
    "from sklearn.model_selection import train_test_split\n",
    "from sklearn.naive_bayes import MultinomialNB\n",
    "from sklearn.metrics import accuracy_score\n",
    "from sklearn.metrics import confusion_matrix\n",
    "from sklearn.metrics import classification_report\n",
    "from collections import defaultdict\n",
    "!pip install nltk\n",
    "import nltk\n",
    "nltk.download('punkt')\n",
    "nltk.download('stopwords')\n",
    "nlp = spacy.load(\"en_core_web_sm\")\n",
    "config = {\n",
    "    'batch_size': 64,\n",
    "    'learning_rate': 1,\n",
    "    'word2vec_path': '/kaggle/input/googlenewsvectorsnegative300/GoogleNews-vectors-negative300.bin',\n",
    "    'dataset_path': '../input/twitter-tweets-sentiment-dataset/Tweets.csv',\n",
    "    'num_epochs': 200, \n",
    "    'max_len': 20,\n",
    "    'training_size': 0.9,\n",
    "    'random_seed': 0,\n",
    "    \n",
    "}\n",
    "class Preprocessor:\n",
    "    def __init__(self):\n",
    "        self.stop_words = set(stopwords.words('english'))   \n",
    "#         self.lemmatizer = WordNetLemmatizer()\n",
    "        self.load_model = spacy.load('en_core_web_sm', disable = ['parser','ner'])\n",
    "    def preprocess(self, text):\n",
    "        # TO DO\n",
    "        pass\n",
    "\n",
    "    def remove_links_and_tags(self, text):\n",
    "        # TO DO\n",
    "        pass\n",
    "\n",
    "    def word_tokenize(self, text):\n",
    "        return word_tokenize(text.lower())\n",
    "\n",
    "    def remove_stopwords(self, words):\n",
    "        tokens = word_tokenize(words.lower())\n",
    "        return ' '.join([t for t in tokens if t not in self.stop_words])\n",
    "\n",
    "    def remove_punctuations(self, words):\n",
    "        return words.translate(str.maketrans('', '', punctuation))\n",
    "    \n",
    "    def remove_numbers(self, txt):\n",
    "        return re.sub(r'[0-9]+', '', txt)\n",
    "    def lemmatize(self, txt):\n",
    "        doc = self.load_model(txt)\n",
    "        return \" \".join([token.lemma_ for token in doc])\n",
    "    def normalize(self, words):\n",
    "        # TO DO\n",
    "        pass\n",
    "def p(address, isTest=False):\n",
    "    bdf = pd.read_csv(address)\n",
    "    bdf.head()\n",
    "    bpre = Preprocessor()\n",
    "    bdf['Text'] = bdf['Text'].apply(bpre.remove_stopwords)\n",
    "    bdf['Text'] = bdf['Text'].apply(bpre.remove_punctuations)\n",
    "    bdf['Text'] = bdf['Text'].apply(bpre.remove_numbers)\n",
    "    bdf['Text'] = bdf['Text'].apply(bpre.lemmatize)\n",
    "    bdf = bdf.dropna()\n",
    "#     bdf['label'] = bdf['target'].apply(to_int)\n",
    "    if not isTest:\n",
    "        bdf = pd.get_dummies(bdf, columns = ['target'], dtype = int)\n",
    "    return bdf\n",
    "\n",
    "# Print and check some details about the dataset\n",
    "test_df = p('/kaggle/input/testcomp/test (1).csv', True)\n",
    "test_df = test_df.drop(['ID'], axis = 1)\n",
    "\n",
    "cdf = p('/kaggle/input/traincomp/train (1).csv')\n",
    "cdf = cdf.drop(['ID'], axis = 1)\n",
    "cdf"
   ]
  },
  {
   "cell_type": "code",
   "execution_count": 43,
   "id": "d14884ac",
   "metadata": {
    "execution": {
     "iopub.execute_input": "2023-12-02T19:42:12.193953Z",
     "iopub.status.busy": "2023-12-02T19:42:12.193564Z",
     "iopub.status.idle": "2023-12-02T19:42:54.876328Z",
     "shell.execute_reply": "2023-12-02T19:42:54.875181Z"
    },
    "papermill": {
     "duration": 42.719485,
     "end_time": "2023-12-02T19:42:54.879340",
     "exception": false,
     "start_time": "2023-12-02T19:42:12.159855",
     "status": "completed"
    },
    "tags": []
   },
   "outputs": [],
   "source": [
    "word2vec_path = config['word2vec_path']\n",
    "w2v = gensim.models.KeyedVectors.load_word2vec_format(word2vec_path,binary=True)"
   ]
  },
  {
   "cell_type": "code",
   "execution_count": 44,
   "id": "e5efd0ce",
   "metadata": {
    "execution": {
     "iopub.execute_input": "2023-12-02T19:42:54.957104Z",
     "iopub.status.busy": "2023-12-02T19:42:54.956680Z",
     "iopub.status.idle": "2023-12-02T19:42:55.095843Z",
     "shell.execute_reply": "2023-12-02T19:42:55.094712Z"
    },
    "papermill": {
     "duration": 0.178158,
     "end_time": "2023-12-02T19:42:55.098126",
     "exception": false,
     "start_time": "2023-12-02T19:42:54.919968",
     "status": "completed"
    },
    "tags": []
   },
   "outputs": [
    {
     "name": "stdout",
     "output_type": "stream",
     "text": [
      "['send', 'home', 'still', 'feel', 'bit', 'shaky', 'dizzy']\n",
      "[1257, 124, 151, 574, 738, 9999, 37282]\n"
     ]
    },
    {
     "data": {
      "text/plain": [
       "[20,\n",
       " 6869,\n",
       " 574,\n",
       " 4518,\n",
       " 140,\n",
       " 16,\n",
       " 103832,\n",
       " 7960,\n",
       " 2435,\n",
       " 2555,\n",
       " 204,\n",
       " 6624,\n",
       " 574,\n",
       " 7790,\n",
       " 773,\n",
       " 47,\n",
       " 901]"
      ]
     },
     "execution_count": 44,
     "metadata": {},
     "output_type": "execute_result"
    }
   ],
   "source": [
    "texts = cdf['Text'].to_list()\n",
    "texts = [[token for token in text.split() if token in w2v.key_to_index] for text in texts]\n",
    "print(texts[0])\n",
    "mapped_texts = [[w2v.key_to_index[token] for token in tokens_list] for tokens_list in texts]\n",
    "print(mapped_texts[0])\n",
    "\n",
    "t_texts = test_df['Text'].to_list()\n",
    "t_texts = [[token for token in text.split() if token in w2v.key_to_index] for text in t_texts]\n",
    "t_mapped_texts = [[w2v.key_to_index[token] for token in tokens_list] for tokens_list in t_texts]\n",
    "t_mapped_texts[0]"
   ]
  },
  {
   "cell_type": "code",
   "execution_count": 45,
   "id": "c1fde5f5",
   "metadata": {
    "execution": {
     "iopub.execute_input": "2023-12-02T19:42:55.168260Z",
     "iopub.status.busy": "2023-12-02T19:42:55.167931Z",
     "iopub.status.idle": "2023-12-02T19:42:55.185527Z",
     "shell.execute_reply": "2023-12-02T19:42:55.184669Z"
    },
    "papermill": {
     "duration": 0.055652,
     "end_time": "2023-12-02T19:42:55.188147",
     "exception": false,
     "start_time": "2023-12-02T19:42:55.132495",
     "status": "completed"
    },
    "tags": []
   },
   "outputs": [
    {
     "data": {
      "text/plain": [
       "array([[0, 1, 0],\n",
       "       [0, 0, 1],\n",
       "       [0, 0, 1],\n",
       "       ...,\n",
       "       [0, 0, 1],\n",
       "       [1, 0, 0],\n",
       "       [0, 0, 1]])"
      ]
     },
     "execution_count": 45,
     "metadata": {},
     "output_type": "execute_result"
    }
   ],
   "source": [
    "def pad_seq(seq):\n",
    "    if len(seq) < config['max_len']:\n",
    "        seq.extend([0] * (config['max_len'] - len(seq)))\n",
    "    elif len(seq) > config['max_len']:\n",
    "        seq = seq[:config['max_len']]\n",
    "    return seq\n",
    "labels = cdf[['target_anger', 'target_fear', 'target_joy']].values.tolist()\n",
    "labels = np.array(labels)\n",
    "labels"
   ]
  },
  {
   "cell_type": "code",
   "execution_count": 46,
   "id": "3145242d",
   "metadata": {
    "execution": {
     "iopub.execute_input": "2023-12-02T19:42:55.263274Z",
     "iopub.status.busy": "2023-12-02T19:42:55.262586Z",
     "iopub.status.idle": "2023-12-02T19:42:55.271862Z",
     "shell.execute_reply": "2023-12-02T19:42:55.270897Z"
    },
    "papermill": {
     "duration": 0.046537,
     "end_time": "2023-12-02T19:42:55.273846",
     "exception": false,
     "start_time": "2023-12-02T19:42:55.227309",
     "status": "completed"
    },
    "tags": []
   },
   "outputs": [],
   "source": [
    "f_train, f_dev, l_train, l_dev = train_test_split(mapped_texts, labels, test_size=1-config['training_size'], random_state=config['random_seed'])"
   ]
  },
  {
   "cell_type": "code",
   "execution_count": 47,
   "id": "11d9b5b0",
   "metadata": {
    "execution": {
     "iopub.execute_input": "2023-12-02T19:42:55.343371Z",
     "iopub.status.busy": "2023-12-02T19:42:55.342958Z",
     "iopub.status.idle": "2023-12-02T19:42:55.350499Z",
     "shell.execute_reply": "2023-12-02T19:42:55.349563Z"
    },
    "papermill": {
     "duration": 0.04576,
     "end_time": "2023-12-02T19:42:55.352846",
     "exception": false,
     "start_time": "2023-12-02T19:42:55.307086",
     "status": "completed"
    },
    "tags": []
   },
   "outputs": [],
   "source": [
    "class W2VDataset(Dataset):\n",
    "    def __init__(self, mapped_texts, labels):\n",
    "        self.token_lists = [pad_seq(mt) for mt in mapped_texts]\n",
    "        self.labels = np.array(labels)\n",
    "    def __len__(self):\n",
    "        return len(self.token_lists)\n",
    "    def __getitem__(self, idx):        \n",
    "        return torch.LongTensor(self.token_lists[idx]).cuda(), torch.Tensor(self.labels[idx]).cuda()"
   ]
  },
  {
   "cell_type": "code",
   "execution_count": 48,
   "id": "c41c9067",
   "metadata": {
    "execution": {
     "iopub.execute_input": "2023-12-02T19:42:55.428621Z",
     "iopub.status.busy": "2023-12-02T19:42:55.427700Z",
     "iopub.status.idle": "2023-12-02T19:42:55.455180Z",
     "shell.execute_reply": "2023-12-02T19:42:55.454400Z"
    },
    "papermill": {
     "duration": 0.064941,
     "end_time": "2023-12-02T19:42:55.457220",
     "exception": false,
     "start_time": "2023-12-02T19:42:55.392279",
     "status": "completed"
    },
    "tags": []
   },
   "outputs": [],
   "source": [
    "train_dataset = W2VDataset(f_train, l_train)\n",
    "dev_dataset = W2VDataset(f_dev, l_dev)\n",
    "test_dataset = W2VDataset(t_mapped_texts, np.zeros((len(t_mapped_texts), 3), dtype =int))\n",
    "train_dataloader = DataLoader(train_dataset, batch_size=config['batch_size'], shuffle=True)\n",
    "dev_dataloader = DataLoader(dev_dataset, batch_size=config['batch_size'], shuffle=True)\n",
    "test_dataloader = DataLoader(test_dataset, batch_size=config['batch_size'])"
   ]
  },
  {
   "cell_type": "code",
   "execution_count": 49,
   "id": "37f67c25",
   "metadata": {
    "execution": {
     "iopub.execute_input": "2023-12-02T19:42:55.527212Z",
     "iopub.status.busy": "2023-12-02T19:42:55.526483Z",
     "iopub.status.idle": "2023-12-02T19:42:55.533900Z",
     "shell.execute_reply": "2023-12-02T19:42:55.532982Z"
    },
    "papermill": {
     "duration": 0.045578,
     "end_time": "2023-12-02T19:42:55.535924",
     "exception": false,
     "start_time": "2023-12-02T19:42:55.490346",
     "status": "completed"
    },
    "tags": []
   },
   "outputs": [],
   "source": [
    "class Model(nn.Module):\n",
    "    \n",
    "    def __init__(self):\n",
    "        super(Model, self).__init__()\n",
    "        self.embedding = nn.Embedding.from_pretrained(torch.FloatTensor(w2v.vectors))\n",
    "        self.lstm = nn.LSTM(input_size=300, hidden_size=300, batch_first=True)\n",
    "        self.dense = nn.Linear(300, 3)\n",
    "        self.activation = nn.Sigmoid()\n",
    "    \n",
    "    def forward(self, x):\n",
    "        output = self.embedding(x) # output shape: (batch_size, seq_len, embedding_dim)\n",
    "        output, _ = self.lstm(output) # output shape: (batch_size, seq_len, hidden_size)\n",
    "        output = self.dense(output[:, -1, :]) # output shape: (batch_size, 1)\n",
    "        output = self.activation(output)\n",
    "        return output"
   ]
  },
  {
   "cell_type": "code",
   "execution_count": 50,
   "id": "16468c51",
   "metadata": {
    "execution": {
     "iopub.execute_input": "2023-12-02T19:42:55.605974Z",
     "iopub.status.busy": "2023-12-02T19:42:55.605669Z",
     "iopub.status.idle": "2023-12-02T19:42:56.384624Z",
     "shell.execute_reply": "2023-12-02T19:42:56.383762Z"
    },
    "papermill": {
     "duration": 0.817002,
     "end_time": "2023-12-02T19:42:56.387014",
     "exception": false,
     "start_time": "2023-12-02T19:42:55.570012",
     "status": "completed"
    },
    "tags": []
   },
   "outputs": [],
   "source": [
    "torch.cuda.empty_cache() \n",
    "model = Model().cuda()\n",
    "loss_fn = nn.BCELoss()\n",
    "optimizer = torch.optim.SGD(model.parameters(), lr=config['learning_rate'])\n",
    "\n",
    "def output_to_label(out):\n",
    "    lbl = np.zeros(3, dtype = int)\n",
    "    lbl[np.argmax(out)] = 1    \n",
    "    return lbl"
   ]
  },
  {
   "cell_type": "code",
   "execution_count": 51,
   "id": "9258c9ca",
   "metadata": {
    "execution": {
     "iopub.execute_input": "2023-12-02T19:42:56.463023Z",
     "iopub.status.busy": "2023-12-02T19:42:56.462101Z",
     "iopub.status.idle": "2023-12-02T19:42:56.475909Z",
     "shell.execute_reply": "2023-12-02T19:42:56.474908Z"
    },
    "papermill": {
     "duration": 0.055421,
     "end_time": "2023-12-02T19:42:56.478192",
     "exception": false,
     "start_time": "2023-12-02T19:42:56.422771",
     "status": "completed"
    },
    "tags": []
   },
   "outputs": [],
   "source": [
    "def train_loop(dataloader, model, loss_fn, optimizer, epoch_num):\n",
    "    num_points = len(dataloader.dataset)\n",
    "    for batch, (features, labels) in enumerate(dataloader):        \n",
    "        # Compute prediction and loss\n",
    "        pred = model(features)\n",
    "#         print(pred[0])\n",
    "        loss = loss_fn(pred, labels)\n",
    "        \n",
    "        # Backpropagation\n",
    "        optimizer.zero_grad() # sets gradients of all model parameters to zero\n",
    "        loss.backward() # calculate the gradients again\n",
    "        optimizer.step() # w = w - learning_rate * grad(loss)_with_respect_to_w\n",
    "\n",
    "        if batch % 100 == 0:\n",
    "            loss, current = loss.item(), batch * len(features)\n",
    "            print(f\"\\r Epoch {epoch_num} - loss: {loss:>7f}\", end=\" \")\n",
    "            \n",
    "def test_loop(dataloader, model, loss_fn, epoch_num, name, isFinal=False):\n",
    "    num_points = len(dataloader.dataset)\n",
    "    sum_test_loss, correct = 0, 0\n",
    "\n",
    "    with torch.no_grad():\n",
    "        res = []\n",
    "        for batch, (features, labels) in enumerate(dataloader):\n",
    "            pred = model(features)\n",
    "            sum_test_loss += loss_fn(pred, labels).item() # add the current loss to the sum of the losses\n",
    "            # convert the outputs of the model on the current batch to a numpy array\n",
    "            pred_lst = list(pred.cpu().detach().numpy().squeeze())\n",
    "            pred_lst = [output_to_label(item) for item in pred_lst]\n",
    "            res += pred_lst\n",
    "            # determine the points for which the model is correctly predicting the label (add a 1 for each)\n",
    "            \n",
    "            if not isFinal:\n",
    "                # convert the original labels corresponding to the current batch to a numpy array\n",
    "                output_lst = list(labels.cpu().detach().numpy().squeeze()) \n",
    "                \n",
    "                output_lst = [el.astype(int) for el in output_lst] \n",
    "                #TODO\n",
    "                match_lst = [1 if (p==o).all() else 0 for (p, o) in zip(pred_lst, output_lst)] \n",
    "                # count how many points are labeled correctly in this batch and add the number to the overall count of the correct labeled points\n",
    "                correct += sum(match_lst) \n",
    "    if not isFinal:        \n",
    "        sum_test_loss /= num_points\n",
    "        correct /= num_points\n",
    "        print(f\"\\r Epoch {epoch_num} - {name} Error: Accuracy: {(100*correct):>0.1f}%, Avg loss: {sum_test_loss:>8f}\", end=\" \")\n",
    "    if isFinal:\n",
    "        return res"
   ]
  },
  {
   "cell_type": "code",
   "execution_count": 52,
   "id": "40ea6dd1",
   "metadata": {
    "execution": {
     "iopub.execute_input": "2023-12-02T19:42:56.556488Z",
     "iopub.status.busy": "2023-12-02T19:42:56.556122Z",
     "iopub.status.idle": "2023-12-02T19:44:43.169559Z",
     "shell.execute_reply": "2023-12-02T19:44:43.168439Z"
    },
    "papermill": {
     "duration": 106.654973,
     "end_time": "2023-12-02T19:44:43.171792",
     "exception": false,
     "start_time": "2023-12-02T19:42:56.516819",
     "status": "completed"
    },
    "tags": []
   },
   "outputs": [
    {
     "name": "stdout",
     "output_type": "stream",
     "text": [
      " Epoch 200 - Development/Validation Error: Accuracy: 94.6%, Avg loss: 0.003138 "
     ]
    }
   ],
   "source": [
    "torch.cuda.empty_cache() \n",
    "for epoch_num in range(1, config['num_epochs']+1):\n",
    "    train_loop(train_dataloader, model, loss_fn, optimizer, epoch_num)\n",
    "    test_loop(dev_dataloader, model, loss_fn, epoch_num, 'Development/Validation')\n",
    "torch.cuda.empty_cache() "
   ]
  },
  {
   "cell_type": "code",
   "execution_count": 53,
   "id": "2bc93738",
   "metadata": {
    "execution": {
     "iopub.execute_input": "2023-12-02T19:44:43.279389Z",
     "iopub.status.busy": "2023-12-02T19:44:43.279023Z",
     "iopub.status.idle": "2023-12-02T19:44:43.343617Z",
     "shell.execute_reply": "2023-12-02T19:44:43.342660Z"
    },
    "papermill": {
     "duration": 0.119824,
     "end_time": "2023-12-02T19:44:43.345659",
     "exception": false,
     "start_time": "2023-12-02T19:44:43.225835",
     "status": "completed"
    },
    "tags": []
   },
   "outputs": [],
   "source": [
    "res = test_loop(test_dataloader, model, loss_fn, epoch_num, 'Test', True)\n",
    "for i in range(len(res)):\n",
    "    if res[i][0] == 1:\n",
    "        res[i] = 'anger'\n",
    "    elif res[i][1] == 1:\n",
    "        res[i] = 'fear'\n",
    "    else:\n",
    "        res[i] = 'joy'\n",
    "        \n",
    "DF = pd.DataFrame(np.array(res))\n",
    "# save the dataframe as a csv file\n",
    "DF.to_csv(\"/kaggle/working/res.csv\")"
   ]
  },
  {
   "cell_type": "code",
   "execution_count": null,
   "id": "9fffdc77",
   "metadata": {
    "papermill": {
     "duration": 0.050734,
     "end_time": "2023-12-02T19:44:43.447630",
     "exception": false,
     "start_time": "2023-12-02T19:44:43.396896",
     "status": "completed"
    },
    "tags": []
   },
   "outputs": [],
   "source": []
  },
  {
   "cell_type": "markdown",
   "id": "0f85b9a9",
   "metadata": {
    "papermill": {
     "duration": 0.047859,
     "end_time": "2023-12-02T19:44:43.544181",
     "exception": false,
     "start_time": "2023-12-02T19:44:43.496322",
     "status": "completed"
    },
    "tags": []
   },
   "source": [
    "Competition Link: WILL BE ADDED HERE"
   ]
  }
 ],
 "metadata": {
  "colab": {
   "collapsed_sections": [
    "wyO9QVndoLPQ",
    "RIIiFseLa3lF",
    "qwRicPs98nN9",
    "nW-PD4yKVcOZ"
   ],
   "provenance": []
  },
  "kaggle": {
   "accelerator": "nvidiaTeslaT4",
   "dataSources": [
    {
     "datasetId": 6763,
     "sourceId": 9801,
     "sourceType": "datasetVersion"
    },
    {
     "datasetId": 4005827,
     "sourceId": 6971948,
     "sourceType": "datasetVersion"
    },
    {
     "datasetId": 4039641,
     "sourceId": 7024520,
     "sourceType": "datasetVersion"
    },
    {
     "datasetId": 4082446,
     "sourceId": 7085599,
     "sourceType": "datasetVersion"
    },
    {
     "datasetId": 4082449,
     "sourceId": 7085602,
     "sourceType": "datasetVersion"
    }
   ],
   "dockerImageVersionId": 30579,
   "isGpuEnabled": true,
   "isInternetEnabled": true,
   "language": "python",
   "sourceType": "notebook"
  },
  "kernelspec": {
   "display_name": "Python 3",
   "language": "python",
   "name": "python3"
  },
  "language_info": {
   "codemirror_mode": {
    "name": "ipython",
    "version": 3
   },
   "file_extension": ".py",
   "mimetype": "text/x-python",
   "name": "python",
   "nbconvert_exporter": "python",
   "pygments_lexer": "ipython3",
   "version": "3.11.0 (main, Oct 24 2022, 18:26:48) [MSC v.1933 64 bit (AMD64)]"
  },
  "papermill": {
   "default_parameters": {},
   "duration": 372.878697,
   "end_time": "2023-12-02T19:44:47.303057",
   "environment_variables": {},
   "exception": null,
   "input_path": "__notebook__.ipynb",
   "output_path": "__notebook__.ipynb",
   "parameters": {},
   "start_time": "2023-12-02T19:38:34.424360",
   "version": "2.4.0"
  },
  "vscode": {
   "interpreter": {
    "hash": "de47f5c92c0ee6f12a59a5613ac5feff6aab19ddff207ba0b3964cced08c4ccc"
   }
  }
 },
 "nbformat": 4,
 "nbformat_minor": 5
}
